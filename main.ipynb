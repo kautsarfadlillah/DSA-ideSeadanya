{
 "cells": [
  {
   "cell_type": "code",
   "execution_count": 126,
   "metadata": {},
   "outputs": [],
   "source": [
    "import pandas as pd\n",
    "import numpy as np"
   ]
  },
  {
   "cell_type": "code",
   "execution_count": 127,
   "metadata": {},
   "outputs": [
    {
     "data": {
      "text/html": [
       "<div>\n",
       "<style scoped>\n",
       "    .dataframe tbody tr th:only-of-type {\n",
       "        vertical-align: middle;\n",
       "    }\n",
       "\n",
       "    .dataframe tbody tr th {\n",
       "        vertical-align: top;\n",
       "    }\n",
       "\n",
       "    .dataframe thead th {\n",
       "        text-align: right;\n",
       "    }\n",
       "</style>\n",
       "<table border=\"1\" class=\"dataframe\">\n",
       "  <thead>\n",
       "    <tr style=\"text-align: right;\">\n",
       "      <th></th>\n",
       "      <th>Teks</th>\n",
       "      <th>label</th>\n",
       "    </tr>\n",
       "  </thead>\n",
       "  <tbody>\n",
       "    <tr>\n",
       "      <th>0</th>\n",
       "      <td>dek baik</td>\n",
       "      <td>0</td>\n",
       "    </tr>\n",
       "    <tr>\n",
       "      <th>1</th>\n",
       "      <td>ikut seminar inspiratif cara mudah sukses bisnis tourtravel jakarta maret hotel mercure daftar namakota wa</td>\n",
       "      <td>1</td>\n",
       "    </tr>\n",
       "    <tr>\n",
       "      <th>2</th>\n",
       "      <td>pilih menang cek rupiah juta kuota flash internet kode pin er uinfo hadiah www bit lyundiantelkomsel</td>\n",
       "      <td>1</td>\n",
       "    </tr>\n",
       "    <tr>\n",
       "      <th>3</th>\n",
       "      <td>punya masalah uang cukup jamin bpkb mobil pinjmana sesuai butuh bunga over cek bi hubung wasmstlp</td>\n",
       "      <td>1</td>\n",
       "    </tr>\n",
       "    <tr>\n",
       "      <th>4</th>\n",
       "      <td>diskn tgel jkerbet bit lysngroy pasar baik game live dingdongpoker dicepoker dealerbola tangkasdominoqq</td>\n",
       "      <td>1</td>\n",
       "    </tr>\n",
       "  </tbody>\n",
       "</table>\n",
       "</div>"
      ],
      "text/plain": [
       "                                                                                                         Teks  \\\n",
       "0  dek baik                                                                                                     \n",
       "1  ikut seminar inspiratif cara mudah sukses bisnis tourtravel jakarta maret hotel mercure daftar namakota wa   \n",
       "2  pilih menang cek rupiah juta kuota flash internet kode pin er uinfo hadiah www bit lyundiantelkomsel         \n",
       "3  punya masalah uang cukup jamin bpkb mobil pinjmana sesuai butuh bunga over cek bi hubung wasmstlp            \n",
       "4  diskn tgel jkerbet bit lysngroy pasar baik game live dingdongpoker dicepoker dealerbola tangkasdominoqq      \n",
       "\n",
       "   label  \n",
       "0  0      \n",
       "1  1      \n",
       "2  1      \n",
       "3  1      \n",
       "4  1      "
      ]
     },
     "execution_count": 127,
     "metadata": {},
     "output_type": "execute_result"
    }
   ],
   "source": [
    "df = pd.read_csv('clean_dataset_with_stemming.csv')\n",
    "df.head()"
   ]
  },
  {
   "cell_type": "markdown",
   "metadata": {},
   "source": [
    "## Data Description"
   ]
  },
  {
   "cell_type": "markdown",
   "metadata": {},
   "source": [
    "#### TODO : Add data description (maybe words frequencies in each class)"
   ]
  },
  {
   "cell_type": "markdown",
   "metadata": {},
   "source": [
    "#### Data preview"
   ]
  },
  {
   "cell_type": "code",
   "execution_count": 128,
   "metadata": {},
   "outputs": [
    {
     "name": "stdout",
     "output_type": "stream",
     "text": [
      "SMS\t: 7256 data\n",
      "\n",
      "consist of :\n",
      "- Spam SMS\t: 4156 data\n",
      "- Non-Spam SMS\t: 3100 data\n"
     ]
    }
   ],
   "source": [
    "print('SMS\\t:', df.shape[0], 'data\\n')\n",
    "print('consist of :')\n",
    "print('- Spam SMS\\t:', df[df.label == 1].shape[0], 'data')\n",
    "print('- Non-Spam SMS\\t:', df[df.label == 0].shape[0], 'data')"
   ]
  },
  {
   "cell_type": "code",
   "execution_count": 129,
   "metadata": {},
   "outputs": [
    {
     "name": "stdout",
     "output_type": "stream",
     "text": [
      "sample of Spam SMS\n"
     ]
    },
    {
     "data": {
      "text/html": [
       "<div>\n",
       "<style scoped>\n",
       "    .dataframe tbody tr th:only-of-type {\n",
       "        vertical-align: middle;\n",
       "    }\n",
       "\n",
       "    .dataframe tbody tr th {\n",
       "        vertical-align: top;\n",
       "    }\n",
       "\n",
       "    .dataframe thead th {\n",
       "        text-align: right;\n",
       "    }\n",
       "</style>\n",
       "<table border=\"1\" class=\"dataframe\">\n",
       "  <thead>\n",
       "    <tr style=\"text-align: right;\">\n",
       "      <th></th>\n",
       "      <th>Teks</th>\n",
       "      <th>label</th>\n",
       "    </tr>\n",
       "  </thead>\n",
       "  <tbody>\n",
       "    <tr>\n",
       "      <th>6677</th>\n",
       "      <td>untung cek untuk saing dapat total hadiah juta xl sempat batas xpfb</td>\n",
       "      <td>1</td>\n",
       "    </tr>\n",
       "    <tr>\n",
       "      <th>6340</th>\n",
       "      <td>gratis paket data sd gb untuk cukup download aktif tcash wallet tsel meget beli pakai saldo bonus skb tsel memngbyk</td>\n",
       "      <td>1</td>\n",
       "    </tr>\n",
       "    <tr>\n",
       "      <th>537</th>\n",
       "      <td>pesan resmi pt planet card dapat hadiah cek tunai nila rupiah juta jatuh menang kode pinbg silah cek www planetcare blogspot com</td>\n",
       "      <td>1</td>\n",
       "    </tr>\n",
       "    <tr>\n",
       "      <th>6302</th>\n",
       "      <td>nomor undi pesta hadiah sms banking telkomsel zaerkg menang wisata thailandspd motorspeaker harman kardondllskb informasi tsel mepestahadiahsmsbanking</td>\n",
       "      <td>1</td>\n",
       "    </tr>\n",
       "    <tr>\n",
       "      <th>6090</th>\n",
       "      <td>beli gratis jenis minum hari tukar sms excelso pesona square depok promo</td>\n",
       "      <td>1</td>\n",
       "    </tr>\n",
       "    <tr>\n",
       "      <th>6394</th>\n",
       "      <td>hari paket rbhari gb internet sms ketik hemat hemat untuk paket gbmnt sms tsel skb promo batas</td>\n",
       "      <td>1</td>\n",
       "    </tr>\n",
       "    <tr>\n",
       "      <th>170</th>\n",
       "      <td>rupiah telpon sms unlimited indosat ooredoo internetan puas hari paket ramadhan unlimited ketik</td>\n",
       "      <td>1</td>\n",
       "    </tr>\n",
       "    <tr>\n",
       "      <th>4509</th>\n",
       "      <td>mobil bekas daihatsu xenia toyota innova rupiah juta daftar raih bonus gb tsel mepromoinfo sk laku tsel metnc</td>\n",
       "      <td>1</td>\n",
       "    </tr>\n",
       "    <tr>\n",
       "      <th>6066</th>\n",
       "      <td>diam buat rang narkoba stopnarkobahani httpcegahnarkoba bnn go id</td>\n",
       "      <td>1</td>\n",
       "    </tr>\n",
       "    <tr>\n",
       "      <th>5678</th>\n",
       "      <td>plngg hormat sim card xxxxxx mdptkan hadiah cek tunai rupiah juta pesta isi ulang pinnf uinfo klik www ptmkiosweb tk</td>\n",
       "      <td>1</td>\n",
       "    </tr>\n",
       "  </tbody>\n",
       "</table>\n",
       "</div>"
      ],
      "text/plain": [
       "                                                                                                                                                        Teks  \\\n",
       "6677  untung cek untuk saing dapat total hadiah juta xl sempat batas xpfb                                                                                      \n",
       "6340  gratis paket data sd gb untuk cukup download aktif tcash wallet tsel meget beli pakai saldo bonus skb tsel memngbyk                                      \n",
       "537   pesan resmi pt planet card dapat hadiah cek tunai nila rupiah juta jatuh menang kode pinbg silah cek www planetcare blogspot com                         \n",
       "6302  nomor undi pesta hadiah sms banking telkomsel zaerkg menang wisata thailandspd motorspeaker harman kardondllskb informasi tsel mepestahadiahsmsbanking   \n",
       "6090  beli gratis jenis minum hari tukar sms excelso pesona square depok promo                                                                                 \n",
       "6394  hari paket rbhari gb internet sms ketik hemat hemat untuk paket gbmnt sms tsel skb promo batas                                                           \n",
       "170   rupiah telpon sms unlimited indosat ooredoo internetan puas hari paket ramadhan unlimited ketik                                                          \n",
       "4509  mobil bekas daihatsu xenia toyota innova rupiah juta daftar raih bonus gb tsel mepromoinfo sk laku tsel metnc                                            \n",
       "6066  diam buat rang narkoba stopnarkobahani httpcegahnarkoba bnn go id                                                                                        \n",
       "5678  plngg hormat sim card xxxxxx mdptkan hadiah cek tunai rupiah juta pesta isi ulang pinnf uinfo klik www ptmkiosweb tk                                     \n",
       "\n",
       "      label  \n",
       "6677  1      \n",
       "6340  1      \n",
       "537   1      \n",
       "6302  1      \n",
       "6090  1      \n",
       "6394  1      \n",
       "170   1      \n",
       "4509  1      \n",
       "6066  1      \n",
       "5678  1      "
      ]
     },
     "execution_count": 129,
     "metadata": {},
     "output_type": "execute_result"
    }
   ],
   "source": [
    "pd.set_option('display.max_colwidth', -1)\n",
    "\n",
    "print('sample of Spam SMS')\n",
    "df[df.label == 1].sample(10)"
   ]
  },
  {
   "cell_type": "code",
   "execution_count": 130,
   "metadata": {},
   "outputs": [
    {
     "name": "stdout",
     "output_type": "stream",
     "text": [
      "sample of Non-Spam SMS\n"
     ]
    },
    {
     "data": {
      "text/html": [
       "<div>\n",
       "<style scoped>\n",
       "    .dataframe tbody tr th:only-of-type {\n",
       "        vertical-align: middle;\n",
       "    }\n",
       "\n",
       "    .dataframe tbody tr th {\n",
       "        vertical-align: top;\n",
       "    }\n",
       "\n",
       "    .dataframe thead th {\n",
       "        text-align: right;\n",
       "    }\n",
       "</style>\n",
       "<table border=\"1\" class=\"dataframe\">\n",
       "  <thead>\n",
       "    <tr style=\"text-align: right;\">\n",
       "      <th></th>\n",
       "      <th>Teks</th>\n",
       "      <th>label</th>\n",
       "    </tr>\n",
       "  </thead>\n",
       "  <tbody>\n",
       "    <tr>\n",
       "      <th>1650</th>\n",
       "      <td>debit rupiah rekening tb xxx tanggal jam transaksi kenalhub mandiri telepon</td>\n",
       "      <td>0</td>\n",
       "    </tr>\n",
       "    <tr>\n",
       "      <th>3000</th>\n",
       "      <td>nomor isi nomor sn</td>\n",
       "      <td>0</td>\n",
       "    </tr>\n",
       "    <tr>\n",
       "      <th>5408</th>\n",
       "      <td>logged in untuk bithumb site pc kst</td>\n",
       "      <td>0</td>\n",
       "    </tr>\n",
       "    <tr>\n",
       "      <th>1089</th>\n",
       "      <td>oke untuk dp</td>\n",
       "      <td>0</td>\n",
       "    </tr>\n",
       "    <tr>\n",
       "      <th>2864</th>\n",
       "      <td>hai ikut kode verifikasi jenius guna kode autentikasi akun jenius untuk aman akun ikan kode pihak mana</td>\n",
       "      <td>0</td>\n",
       "    </tr>\n",
       "    <tr>\n",
       "      <th>6903</th>\n",
       "      <td>sukses beli item line store tarif rupiah cek beli httpsstore line me customer service httpscontact line me tarif data laku</td>\n",
       "      <td>0</td>\n",
       "    </tr>\n",
       "    <tr>\n",
       "      <th>6873</th>\n",
       "      <td>bca mobile sms guna untuk verifikasi registrasi bca mobile nomor ref vqdtdslbfed tgljam</td>\n",
       "      <td>0</td>\n",
       "    </tr>\n",
       "    <tr>\n",
       "      <th>3568</th>\n",
       "      <td>selamat datang simpati cek paket telpon sms internet download mytelkomsel apps tsel memytelkomsel simpati youreverydaydiscoveries</td>\n",
       "      <td>0</td>\n",
       "    </tr>\n",
       "    <tr>\n",
       "      <th>4923</th>\n",
       "      <td>bi kk tangerang bibi bibi</td>\n",
       "      <td>0</td>\n",
       "    </tr>\n",
       "    <tr>\n",
       "      <th>727</th>\n",
       "      <td>aduh pusing lamar nyari butuh</td>\n",
       "      <td>0</td>\n",
       "    </tr>\n",
       "  </tbody>\n",
       "</table>\n",
       "</div>"
      ],
      "text/plain": [
       "                                                                                                                                   Teks  \\\n",
       "1650  debit rupiah rekening tb xxx tanggal jam transaksi kenalhub mandiri telepon                                                         \n",
       "3000  nomor isi nomor sn                                                                                                                  \n",
       "5408  logged in untuk bithumb site pc kst                                                                                                 \n",
       "1089  oke untuk dp                                                                                                                        \n",
       "2864  hai ikut kode verifikasi jenius guna kode autentikasi akun jenius untuk aman akun ikan kode pihak mana                              \n",
       "6903  sukses beli item line store tarif rupiah cek beli httpsstore line me customer service httpscontact line me tarif data laku          \n",
       "6873  bca mobile sms guna untuk verifikasi registrasi bca mobile nomor ref vqdtdslbfed tgljam                                             \n",
       "3568  selamat datang simpati cek paket telpon sms internet download mytelkomsel apps tsel memytelkomsel simpati youreverydaydiscoveries   \n",
       "4923  bi kk tangerang bibi bibi                                                                                                           \n",
       "727   aduh pusing lamar nyari butuh                                                                                                       \n",
       "\n",
       "      label  \n",
       "1650  0      \n",
       "3000  0      \n",
       "5408  0      \n",
       "1089  0      \n",
       "2864  0      \n",
       "6903  0      \n",
       "6873  0      \n",
       "3568  0      \n",
       "4923  0      \n",
       "727   0      "
      ]
     },
     "execution_count": 130,
     "metadata": {},
     "output_type": "execute_result"
    }
   ],
   "source": [
    "print('sample of Non-Spam SMS')\n",
    "df[df.label == 0].sample(10)"
   ]
  },
  {
   "cell_type": "markdown",
   "metadata": {},
   "source": [
    "#### Highest word frequencies in each class"
   ]
  },
  {
   "cell_type": "code",
   "execution_count": 131,
   "metadata": {},
   "outputs": [],
   "source": [
    "import matplotlib.pyplot as plt\n",
    "from sklearn.feature_extraction.text import CountVectorizer\n",
    "\n",
    "cv = CountVectorizer()\n",
    "words_count_matrix = cv.fit_transform(df['Teks'])\n",
    "df_count_vect = pd.SparseDataFrame(words_count_matrix, columns=cv.get_feature_names())"
   ]
  },
  {
   "cell_type": "code",
   "execution_count": 132,
   "metadata": {},
   "outputs": [],
   "source": [
    "# non-spam\n",
    "df_non_spam_words = df_count_vect[df.label == 0]\n",
    "non_spam_words_count = df_non_spam_words.sum()\n",
    "indices = np.argsort(non_spam_words_count)[::-1][:10]\n",
    "non_spam_words_count = non_spam_words_count[indices]"
   ]
  },
  {
   "cell_type": "code",
   "execution_count": 133,
   "metadata": {},
   "outputs": [
    {
     "data": {
      "image/png": "[encoded data removed]",
      "text/plain": [
       "<Figure size 432x288 with 1 Axes>"
      ]
     },
     "metadata": {
      "needs_background": "light"
     },
     "output_type": "display_data"
    }
   ],
   "source": [
    "plt.barh(np.arange(len(non_spam_words_count)), non_spam_words_count.values, align='edge', height=0.8)\n",
    "plt.yticks(np.arange(len(non_spam_words_count)) + 0.4, non_spam_words_count.keys())\n",
    "plt.gca().invert_yaxis()\n",
    "plt.show()"
   ]
  },
  {
   "cell_type": "code",
   "execution_count": 134,
   "metadata": {},
   "outputs": [],
   "source": [
    "# spam\n",
    "df_spam_words = df_count_vect[df.label == 1]\n",
    "spam_words_count = df_spam_words.sum()\n",
    "indices = np.argsort(spam_words_count)[::-1][:10]\n",
    "spam_words_count = spam_words_count[indices]"
   ]
  },
  {
   "cell_type": "code",
   "execution_count": 135,
   "metadata": {},
   "outputs": [
    {
     "data": {
      "image/png": "[encoded data removed]",
      "text/plain": [
       "<Figure size 432x288 with 1 Axes>"
      ]
     },
     "metadata": {
      "needs_background": "light"
     },
     "output_type": "display_data"
    }
   ],
   "source": [
    "plt.barh(np.arange(len(spam_words_count)), spam_words_count.values, align='edge', height=0.8)\n",
    "plt.yticks(np.arange(len(spam_words_count)) + 0.4, spam_words_count.keys())\n",
    "plt.gca().invert_yaxis()\n",
    "plt.show()"
   ]
  },
  {
   "cell_type": "markdown",
   "metadata": {},
   "source": [
    "## Feature Extraction"
   ]
  },
  {
   "cell_type": "markdown",
   "metadata": {},
   "source": [
    "#### TODO: Add more feature extraction"
   ]
  },
  {
   "cell_type": "code",
   "execution_count": 155,
   "metadata": {},
   "outputs": [
    {
     "data": {
      "text/plain": [
       "((5442,), (1814,), (5442,), (1814,))"
      ]
     },
     "execution_count": 155,
     "metadata": {},
     "output_type": "execute_result"
    }
   ],
   "source": [
    "from utils import fair_train_test_split\n",
    "\n",
    "X = df['Teks']\n",
    "y = df['label']\n",
    "\n",
    "X_train, X_test, y_train, y_test = fair_train_test_split(X, y, test_size=0.25)\n",
    "X_train.shape, X_test.shape, y_train.shape, y_test.shape"
   ]
  },
  {
   "cell_type": "code",
   "execution_count": 156,
   "metadata": {},
   "outputs": [
    {
     "data": {
      "text/plain": [
       "(5442, 8114)"
      ]
     },
     "execution_count": 156,
     "metadata": {},
     "output_type": "execute_result"
    }
   ],
   "source": [
    "from sklearn.feature_extraction.text import CountVectorizer\n",
    "\n",
    "cv = CountVectorizer()\n",
    "X_train_cv = cv.fit_transform(X_train)\n",
    "X_train_cv.shape"
   ]
  },
  {
   "cell_type": "code",
   "execution_count": 157,
   "metadata": {},
   "outputs": [
    {
     "data": {
      "text/plain": [
       "(5442, 8114)"
      ]
     },
     "execution_count": 157,
     "metadata": {},
     "output_type": "execute_result"
    }
   ],
   "source": [
    "from sklearn.feature_extraction.text import TfidfVectorizer\n",
    "\n",
    "tfidf = TfidfVectorizer()\n",
    "X_train_tfidf = tfidf.fit_transform(X_train)\n",
    "X_train_tfidf.shape"
   ]
  },
  {
   "cell_type": "markdown",
   "metadata": {},
   "source": [
    "## Model Evaluation"
   ]
  },
  {
   "cell_type": "markdown",
   "metadata": {},
   "source": [
    "#### TODO: Add more Classifier Model and hyperparameter tuning"
   ]
  },
  {
   "cell_type": "code",
   "execution_count": 158,
   "metadata": {},
   "outputs": [
    {
     "name": "stdout",
     "output_type": "stream",
     "text": [
      "Multinomial Naive Bayes with count vectorizer\t: 0.9151047409040793\n",
      "Multinomial Naive Bayes with tfidf\t\t: 0.9013230429988974\n"
     ]
    }
   ],
   "source": [
    "from sklearn.naive_bayes import MultinomialNB\n",
    "\n",
    "clf = MultinomialNB().fit(X_train_cv, y_train)\n",
    "print('Multinomial Naive Bayes with count vectorizer\\t:', clf.score(cv.transform(X_test), y_test))\n",
    "\n",
    "clf = MultinomialNB().fit(X_train_tfidf, y_train)\n",
    "print('Multinomial Naive Bayes with tfidf\\t\\t:', clf.score(tfidf.transform(X_test), y_test))"
   ]
  },
  {
   "cell_type": "code",
   "execution_count": 159,
   "metadata": {},
   "outputs": [
    {
     "name": "stderr",
     "output_type": "stream",
     "text": [
      "/home/faelyx/anaconda3/lib/python3.7/site-packages/sklearn/linear_model/logistic.py:433: FutureWarning: Default solver will be changed to 'lbfgs' in 0.22. Specify a solver to silence this warning.\n",
      "  FutureWarning)\n"
     ]
    },
    {
     "name": "stdout",
     "output_type": "stream",
     "text": [
      "Logistic Regression with count vectorizer\t: 0.9366041896361632\n",
      "Logistic Regression with tfidf\t\t\t: 0.9355016538037486\n"
     ]
    }
   ],
   "source": [
    "from sklearn.linear_model import LogisticRegression\n",
    "\n",
    "clf = LogisticRegression().fit(X_train_cv, y_train)\n",
    "print('Logistic Regression with count vectorizer\\t:', clf.score(cv.transform(X_test), y_test))\n",
    "\n",
    "clf = LogisticRegression().fit(X_train_tfidf, y_train)\n",
    "print('Logistic Regression with tfidf\\t\\t\\t:', clf.score(tfidf.transform(X_test), y_test))"
   ]
  },
  {
   "cell_type": "code",
   "execution_count": 160,
   "metadata": {},
   "outputs": [
    {
     "name": "stdout",
     "output_type": "stream",
     "text": [
      "Linear SVC with count vectorizer\t: 0.9371554575523704\n",
      "Linear SVC with tfidf\t\t\t: 0.9404630650496141\n"
     ]
    },
    {
     "name": "stderr",
     "output_type": "stream",
     "text": [
      "/home/faelyx/anaconda3/lib/python3.7/site-packages/sklearn/svm/base.py:922: ConvergenceWarning: Liblinear failed to converge, increase the number of iterations.\n",
      "  \"the number of iterations.\", ConvergenceWarning)\n"
     ]
    }
   ],
   "source": [
    "from sklearn.svm import LinearSVC\n",
    "\n",
    "clf = LinearSVC().fit(X_train_cv, y_train)\n",
    "print('Linear SVC with count vectorizer\\t:', clf.score(cv.transform(X_test), y_test))\n",
    "\n",
    "clf = LinearSVC().fit(X_train_tfidf, y_train)\n",
    "print('Linear SVC with tfidf\\t\\t\\t:', clf.score(tfidf.transform(X_test), y_test))"
   ]
  },
  {
   "cell_type": "code",
   "execution_count": null,
   "metadata": {},
   "outputs": [],
   "source": []
  }
 ],
 "metadata": {
  "kernelspec": {
   "display_name": "Python 3",
   "language": "python",
   "name": "python3"
  },
  "language_info": {
   "codemirror_mode": {
    "name": "ipython",
    "version": 3
   },
   "file_extension": ".py",
   "mimetype": "text/x-python",
   "name": "python",
   "nbconvert_exporter": "python",
   "pygments_lexer": "ipython3",
   "version": "3.7.1"
  }
 },
 "nbformat": 4,
 "nbformat_minor": 2
}
