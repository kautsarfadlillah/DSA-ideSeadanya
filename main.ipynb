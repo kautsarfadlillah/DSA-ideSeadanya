{
 "cells": [
  {
   "cell_type": "code",
   "execution_count": 1,
   "metadata": {},
   "outputs": [],
   "source": [
    "import pandas as pd\n",
    "import numpy as np"
   ]
  },
  {
   "cell_type": "code",
   "execution_count": 2,
   "metadata": {},
   "outputs": [
    {
     "data": {
      "text/html": [
       "<div>\n",
       "<style scoped>\n",
       "    .dataframe tbody tr th:only-of-type {\n",
       "        vertical-align: middle;\n",
       "    }\n",
       "\n",
       "    .dataframe tbody tr th {\n",
       "        vertical-align: top;\n",
       "    }\n",
       "\n",
       "    .dataframe thead th {\n",
       "        text-align: right;\n",
       "    }\n",
       "</style>\n",
       "<table border=\"1\" class=\"dataframe\">\n",
       "  <thead>\n",
       "    <tr style=\"text-align: right;\">\n",
       "      <th></th>\n",
       "      <th>Teks</th>\n",
       "      <th>label</th>\n",
       "    </tr>\n",
       "  </thead>\n",
       "  <tbody>\n",
       "    <tr>\n",
       "      <th>0</th>\n",
       "      <td>dek baik</td>\n",
       "      <td>0</td>\n",
       "    </tr>\n",
       "    <tr>\n",
       "      <th>1</th>\n",
       "      <td>ikut seminar inspiratif cara mudah sukses bisn...</td>\n",
       "      <td>1</td>\n",
       "    </tr>\n",
       "    <tr>\n",
       "      <th>2</th>\n",
       "      <td>pilih menang cek rupiah juta kuota flash inter...</td>\n",
       "      <td>1</td>\n",
       "    </tr>\n",
       "    <tr>\n",
       "      <th>3</th>\n",
       "      <td>punya masalah uang cukup jamin bpkb mobil pinj...</td>\n",
       "      <td>1</td>\n",
       "    </tr>\n",
       "    <tr>\n",
       "      <th>4</th>\n",
       "      <td>diskn tgel jkerbet bit lysngroy pasar baik gam...</td>\n",
       "      <td>1</td>\n",
       "    </tr>\n",
       "  </tbody>\n",
       "</table>\n",
       "</div>"
      ],
      "text/plain": [
       "                                                Teks  label\n",
       "0                                           dek baik      0\n",
       "1  ikut seminar inspiratif cara mudah sukses bisn...      1\n",
       "2  pilih menang cek rupiah juta kuota flash inter...      1\n",
       "3  punya masalah uang cukup jamin bpkb mobil pinj...      1\n",
       "4  diskn tgel jkerbet bit lysngroy pasar baik gam...      1"
      ]
     },
     "execution_count": 2,
     "metadata": {},
     "output_type": "execute_result"
    }
   ],
   "source": [
    "df = pd.read_csv('clean_dataset_with_stemming.csv')\n",
    "df.head()"
   ]
  },
  {
   "cell_type": "markdown",
   "metadata": {},
   "source": [
    "## Data Description"
   ]
  },
  {
   "cell_type": "markdown",
   "metadata": {},
   "source": [
    "#### TODO : Add data description (maybe words frequencies in each class)"
   ]
  },
  {
   "cell_type": "markdown",
   "metadata": {},
   "source": [
    "#### Data preview"
   ]
  },
  {
   "cell_type": "code",
   "execution_count": 3,
   "metadata": {},
   "outputs": [
    {
     "name": "stdout",
     "output_type": "stream",
     "text": [
      "SMS\t: 7247 data\n",
      "\n",
      "consist of :\n",
      "- Spam SMS\t: 4156 data\n",
      "- Non-Spam SMS\t: 3091 data\n"
     ]
    }
   ],
   "source": [
    "print('SMS\\t:', df.shape[0], 'data\\n')\n",
    "print('consist of :')\n",
    "print('- Spam SMS\\t:', df[df.label == 1].shape[0], 'data')\n",
    "print('- Non-Spam SMS\\t:', df[df.label == 0].shape[0], 'data')"
   ]
  },
  {
   "cell_type": "code",
   "execution_count": 295,
   "metadata": {},
   "outputs": [
    {
     "name": "stdout",
     "output_type": "stream",
     "text": [
      "sample of Spam SMS\n"
     ]
    },
    {
     "data": {
      "text/html": [
       "<div>\n",
       "<style scoped>\n",
       "    .dataframe tbody tr th:only-of-type {\n",
       "        vertical-align: middle;\n",
       "    }\n",
       "\n",
       "    .dataframe tbody tr th {\n",
       "        vertical-align: top;\n",
       "    }\n",
       "\n",
       "    .dataframe thead th {\n",
       "        text-align: right;\n",
       "    }\n",
       "</style>\n",
       "<table border=\"1\" class=\"dataframe\">\n",
       "  <thead>\n",
       "    <tr style=\"text-align: right;\">\n",
       "      <th></th>\n",
       "      <th>Teks</th>\n",
       "      <th>label</th>\n",
       "    </tr>\n",
       "  </thead>\n",
       "  <tbody>\n",
       "    <tr>\n",
       "      <th>5502</th>\n",
       "      <td>diskon ribu kfc hari khusus paket super besar bayar paketcash yuk buru download tcash wallet tsel megettcash skb informasi</td>\n",
       "      <td>1</td>\n",
       "    </tr>\n",
       "    <tr>\n",
       "      <th>5956</th>\n",
       "      <td>asyik update status sms pakai sms hitz gebet pulsa ribu hari gabung gratishr balas sms ketik oke</td>\n",
       "      <td>1</td>\n",
       "    </tr>\n",
       "    <tr>\n",
       "      <th>4357</th>\n",
       "      <td>paket unlimited hadir pilih masa aktif hari nikmat unlimited youtube jam bayar benarbenar unlimited informasi httpim doul bmi</td>\n",
       "      <td>1</td>\n",
       "    </tr>\n",
       "    <tr>\n",
       "      <th>281</th>\n",
       "      <td>pakai handphone xl axiata mu langsung internetan pakai xl</td>\n",
       "      <td>1</td>\n",
       "    </tr>\n",
       "    <tr>\n",
       "      <th>7224</th>\n",
       "      <td>indonesia berqurban salur kurban untuk saudara gizi buruk rawan pangan korban bencana rpjtkambing via tsel meyukberkurban</td>\n",
       "      <td>1</td>\n",
       "    </tr>\n",
       "    <tr>\n",
       "      <th>5472</th>\n",
       "      <td>akhir lewat dapetin saldo bonus tcash gratis cukup aktivasi tcash wallet tsel meget untuk beli kuota mulai ribu skb tsel memngbyk</td>\n",
       "      <td>1</td>\n",
       "    </tr>\n",
       "    <tr>\n",
       "      <th>516</th>\n",
       "      <td>langgan hormat simcard mdptkan cek tuanai rpjt pt tricare indonesia pin hdrjn ucek pin kunjung www programundiantricare blogspot cowok id</td>\n",
       "      <td>1</td>\n",
       "    </tr>\n",
       "    <tr>\n",
       "      <th>2626</th>\n",
       "      <td>hai diskon combo pizza nikmat promo outlet dominos pizza klik httpsgoo glnxpwd untuk buku kupon tukar segerapromo</td>\n",
       "      <td>1</td>\n",
       "    </tr>\n",
       "    <tr>\n",
       "      <th>483</th>\n",
       "      <td>mahesian plz kena nomor nu rbu ayena</td>\n",
       "      <td>1</td>\n",
       "    </tr>\n",
       "    <tr>\n",
       "      <th>154</th>\n",
       "      <td>beli gratis untuk lychee tea latte flavour yellow truck jalan patuha nomor tukar sms laku untuk hari sk laku promo</td>\n",
       "      <td>1</td>\n",
       "    </tr>\n",
       "    <tr>\n",
       "      <th>4456</th>\n",
       "      <td>pindah akun mandiri ecash linkaja hasil informasi lnkj mepindahsaldo</td>\n",
       "      <td>1</td>\n",
       "    </tr>\n",
       "    <tr>\n",
       "      <th>5517</th>\n",
       "      <td>hari senin nonton hemat ribu cema xxi tcash tap sk laku informasi tsel metappromo</td>\n",
       "      <td>1</td>\n",
       "    </tr>\n",
       "    <tr>\n",
       "      <th>3375</th>\n",
       "      <td>surprisedeal hari gbrb aktif paket mytelkomsel tsel mesurprisedeal</td>\n",
       "      <td>1</td>\n",
       "    </tr>\n",
       "    <tr>\n",
       "      <th>3260</th>\n",
       "      <td>gratis jamur crispy penyet beli iga penyet tekko ultimatelt mezzanine tukar sms tc apply promo</td>\n",
       "      <td>1</td>\n",
       "    </tr>\n",
       "    <tr>\n",
       "      <th>3371</th>\n",
       "      <td>spesial untuk paket telpon hari rupiah untuk jam tsel menit all operator aktif simpati kartu as loop skb</td>\n",
       "      <td>1</td>\n",
       "    </tr>\n",
       "    <tr>\n",
       "      <th>3922</th>\n",
       "      <td>kejut hadiah nomor mndpt hadiah cek juta mkios pinjkm informasi klikisiulangjkt blogspot com</td>\n",
       "      <td>1</td>\n",
       "    </tr>\n",
       "    <tr>\n",
       "      <th>5276</th>\n",
       "      <td>mor super bento paket nasi bentofruit tea ml rupiah tukar sms mor convstore september follow ig morstoreid laku informasi</td>\n",
       "      <td>1</td>\n",
       "    </tr>\n",
       "    <tr>\n",
       "      <th>6967</th>\n",
       "      <td>diskon makan cuppa coffee itc permata hijau tukar sms laku hari tc apply promo</td>\n",
       "      <td>1</td>\n",
       "    </tr>\n",
       "    <tr>\n",
       "      <th>3249</th>\n",
       "      <td>khusus beli paket data tambah gratis tcash wallet download tsel meget saldo bonus hangus skb tsel memngbyk</td>\n",
       "      <td>1</td>\n",
       "    </tr>\n",
       "    <tr>\n",
       "      <th>6263</th>\n",
       "      <td>nomor undi pesta hadiah sms banking telkomsel dmnj menang wisata thailandspd motorspeaker harman kardondllskb informasi tsel mepestahadiahsmsbanking</td>\n",
       "      <td>1</td>\n",
       "    </tr>\n",
       "    <tr>\n",
       "      <th>3583</th>\n",
       "      <td>internetan akhir pekan seru flash bonus kuota gb flash gbhr gbgb ggb hooq mulai rupiah sesuai zona hubung skb</td>\n",
       "      <td>1</td>\n",
       "    </tr>\n",
       "    <tr>\n",
       "      <th>234</th>\n",
       "      <td>kocak habis lihat aksi pemuda galau iseng gokil kepung polisi super cantik tonton komik via hp cmn hari ketik film</td>\n",
       "      <td>1</td>\n",
       "    </tr>\n",
       "    <tr>\n",
       "      <th>6427</th>\n",
       "      <td>punya aplikasi spotify premium akses jaman kali beli premium akses spotify pakai pulsa telkomsel spoti fimyctic</td>\n",
       "      <td>1</td>\n",
       "    </tr>\n",
       "    <tr>\n",
       "      <th>4470</th>\n",
       "      <td>mulai ribu rupiah promosiin usaha telkomsel myads bantu promosi cara tepat sasar daftar iklan bit lymyadsnow</td>\n",
       "      <td>1</td>\n",
       "    </tr>\n",
       "    <tr>\n",
       "      <th>473</th>\n",
       "      <td>maaf hubung sambung nomor resmi raih hadiah pt mkios pinmk uinfo hadiah klik www hadiahmkios blogspot com</td>\n",
       "      <td>1</td>\n",
       "    </tr>\n",
       "    <tr>\n",
       "      <th>639</th>\n",
       "      <td>surat putus tri care indonesia nomor xv pinpemenang ytg dapat hadiah cek tunai rupiah juta uinfo kunjung www id tri webnode com</td>\n",
       "      <td>1</td>\n",
       "    </tr>\n",
       "    <tr>\n",
       "      <th>4297</th>\n",
       "      <td>tonton mu vs city mil vs juventus minggu live hapemu menangkankan jerseybola original bertandatangan minggu klik bit lystrimbol dsi</td>\n",
       "      <td>1</td>\n",
       "    </tr>\n",
       "    <tr>\n",
       "      <th>4342</th>\n",
       "      <td>ngegames dapet pulsa gratisburuan gabung stop unreg customer service dsi</td>\n",
       "      <td>1</td>\n",
       "    </tr>\n",
       "    <tr>\n",
       "      <th>6788</th>\n",
       "      <td>selamat nomor simcard resmi pil mdptkan hadiah rupiah juta pin menang mk untuk informasi hadiah klik</td>\n",
       "      <td>1</td>\n",
       "    </tr>\n",
       "    <tr>\n",
       "      <th>6871</th>\n",
       "      <td>langgan ythraih peluang dptkan kartu kredit bank percaya ktp bukti hasil sk bit lypnqft balas sms gratis ketik cc</td>\n",
       "      <td>1</td>\n",
       "    </tr>\n",
       "  </tbody>\n",
       "</table>\n",
       "</div>"
      ],
      "text/plain": [
       "                                                                                                                                                      Teks  \\\n",
       "5502  diskon ribu kfc hari khusus paket super besar bayar paketcash yuk buru download tcash wallet tsel megettcash skb informasi                             \n",
       "5956  asyik update status sms pakai sms hitz gebet pulsa ribu hari gabung gratishr balas sms ketik oke                                                       \n",
       "4357  paket unlimited hadir pilih masa aktif hari nikmat unlimited youtube jam bayar benarbenar unlimited informasi httpim doul bmi                          \n",
       "281   pakai handphone xl axiata mu langsung internetan pakai xl                                                                                              \n",
       "7224  indonesia berqurban salur kurban untuk saudara gizi buruk rawan pangan korban bencana rpjtkambing via tsel meyukberkurban                              \n",
       "5472  akhir lewat dapetin saldo bonus tcash gratis cukup aktivasi tcash wallet tsel meget untuk beli kuota mulai ribu skb tsel memngbyk                      \n",
       "516   langgan hormat simcard mdptkan cek tuanai rpjt pt tricare indonesia pin hdrjn ucek pin kunjung www programundiantricare blogspot cowok id              \n",
       "2626  hai diskon combo pizza nikmat promo outlet dominos pizza klik httpsgoo glnxpwd untuk buku kupon tukar segerapromo                                      \n",
       "483   mahesian plz kena nomor nu rbu ayena                                                                                                                   \n",
       "154   beli gratis untuk lychee tea latte flavour yellow truck jalan patuha nomor tukar sms laku untuk hari sk laku promo                                     \n",
       "4456  pindah akun mandiri ecash linkaja hasil informasi lnkj mepindahsaldo                                                                                   \n",
       "5517  hari senin nonton hemat ribu cema xxi tcash tap sk laku informasi tsel metappromo                                                                      \n",
       "3375  surprisedeal hari gbrb aktif paket mytelkomsel tsel mesurprisedeal                                                                                     \n",
       "3260  gratis jamur crispy penyet beli iga penyet tekko ultimatelt mezzanine tukar sms tc apply promo                                                         \n",
       "3371  spesial untuk paket telpon hari rupiah untuk jam tsel menit all operator aktif simpati kartu as loop skb                                               \n",
       "3922  kejut hadiah nomor mndpt hadiah cek juta mkios pinjkm informasi klikisiulangjkt blogspot com                                                           \n",
       "5276  mor super bento paket nasi bentofruit tea ml rupiah tukar sms mor convstore september follow ig morstoreid laku informasi                              \n",
       "6967  diskon makan cuppa coffee itc permata hijau tukar sms laku hari tc apply promo                                                                         \n",
       "3249  khusus beli paket data tambah gratis tcash wallet download tsel meget saldo bonus hangus skb tsel memngbyk                                             \n",
       "6263  nomor undi pesta hadiah sms banking telkomsel dmnj menang wisata thailandspd motorspeaker harman kardondllskb informasi tsel mepestahadiahsmsbanking   \n",
       "3583  internetan akhir pekan seru flash bonus kuota gb flash gbhr gbgb ggb hooq mulai rupiah sesuai zona hubung skb                                          \n",
       "234   kocak habis lihat aksi pemuda galau iseng gokil kepung polisi super cantik tonton komik via hp cmn hari ketik film                                     \n",
       "6427  punya aplikasi spotify premium akses jaman kali beli premium akses spotify pakai pulsa telkomsel spoti fimyctic                                        \n",
       "4470  mulai ribu rupiah promosiin usaha telkomsel myads bantu promosi cara tepat sasar daftar iklan bit lymyadsnow                                           \n",
       "473   maaf hubung sambung nomor resmi raih hadiah pt mkios pinmk uinfo hadiah klik www hadiahmkios blogspot com                                              \n",
       "639   surat putus tri care indonesia nomor xv pinpemenang ytg dapat hadiah cek tunai rupiah juta uinfo kunjung www id tri webnode com                        \n",
       "4297  tonton mu vs city mil vs juventus minggu live hapemu menangkankan jerseybola original bertandatangan minggu klik bit lystrimbol dsi                    \n",
       "4342  ngegames dapet pulsa gratisburuan gabung stop unreg customer service dsi                                                                               \n",
       "6788  selamat nomor simcard resmi pil mdptkan hadiah rupiah juta pin menang mk untuk informasi hadiah klik                                                   \n",
       "6871  langgan ythraih peluang dptkan kartu kredit bank percaya ktp bukti hasil sk bit lypnqft balas sms gratis ketik cc                                      \n",
       "\n",
       "      label  \n",
       "5502  1      \n",
       "5956  1      \n",
       "4357  1      \n",
       "281   1      \n",
       "7224  1      \n",
       "5472  1      \n",
       "516   1      \n",
       "2626  1      \n",
       "483   1      \n",
       "154   1      \n",
       "4456  1      \n",
       "5517  1      \n",
       "3375  1      \n",
       "3260  1      \n",
       "3371  1      \n",
       "3922  1      \n",
       "5276  1      \n",
       "6967  1      \n",
       "3249  1      \n",
       "6263  1      \n",
       "3583  1      \n",
       "234   1      \n",
       "6427  1      \n",
       "4470  1      \n",
       "473   1      \n",
       "639   1      \n",
       "4297  1      \n",
       "4342  1      \n",
       "6788  1      \n",
       "6871  1      "
      ]
     },
     "execution_count": 295,
     "metadata": {},
     "output_type": "execute_result"
    }
   ],
   "source": [
    "pd.set_option('display.max_colwidth', -1)\n",
    "\n",
    "print('sample of Spam SMS')\n",
    "df[df.label == 1].sample(30)"
   ]
  },
  {
   "cell_type": "code",
   "execution_count": 294,
   "metadata": {},
   "outputs": [
    {
     "name": "stdout",
     "output_type": "stream",
     "text": [
      "sample of Non-Spam SMS\n"
     ]
    },
    {
     "data": {
      "text/html": [
       "<div>\n",
       "<style scoped>\n",
       "    .dataframe tbody tr th:only-of-type {\n",
       "        vertical-align: middle;\n",
       "    }\n",
       "\n",
       "    .dataframe tbody tr th {\n",
       "        vertical-align: top;\n",
       "    }\n",
       "\n",
       "    .dataframe thead th {\n",
       "        text-align: right;\n",
       "    }\n",
       "</style>\n",
       "<table border=\"1\" class=\"dataframe\">\n",
       "  <thead>\n",
       "    <tr style=\"text-align: right;\">\n",
       "      <th></th>\n",
       "      <th>Teks</th>\n",
       "      <th>label</th>\n",
       "    </tr>\n",
       "  </thead>\n",
       "  <tbody>\n",
       "    <tr>\n",
       "      <th>4889</th>\n",
       "      <td>kaka ba eti jadi bikin sate siang makan bibi</td>\n",
       "      <td>0</td>\n",
       "    </tr>\n",
       "    <tr>\n",
       "      <th>862</th>\n",
       "      <td>duh gusti hujan besar moga riung bocor yah gais</td>\n",
       "      <td>0</td>\n",
       "    </tr>\n",
       "    <tr>\n",
       "      <th>3117</th>\n",
       "      <td>milik verification kode ikan kode orang kode guna untuk masuk mytelkomsel</td>\n",
       "      <td>0</td>\n",
       "    </tr>\n",
       "    <tr>\n",
       "      <th>1104</th>\n",
       "      <td>bapak pesan nasi goreng spesial bungkus graha desilla kamar</td>\n",
       "      <td>0</td>\n",
       "    </tr>\n",
       "    <tr>\n",
       "      <th>5073</th>\n",
       "      <td>collect sms telkomsel nomor gagal kirim sms kenan bayar biaya sms rupiah balas ya nomor informasi customer service</td>\n",
       "      <td>0</td>\n",
       "    </tr>\n",
       "    <tr>\n",
       "      <th>4649</th>\n",
       "      <td>tunggu papa center lantai tangga</td>\n",
       "      <td>0</td>\n",
       "    </tr>\n",
       "    <tr>\n",
       "      <th>4992</th>\n",
       "      <td>verifikasi rltvlmspayhovygcuudpttzmwfclcgshwum</td>\n",
       "      <td>0</td>\n",
       "    </tr>\n",
       "    <tr>\n",
       "      <th>4159</th>\n",
       "      <td>dcbassociationykergfihpsfvfojgbdj</td>\n",
       "      <td>0</td>\n",
       "    </tr>\n",
       "    <tr>\n",
       "      <th>6581</th>\n",
       "      <td>traveloka com milik eticket summary april ykpse pah nama adrian wijaya total passengers</td>\n",
       "      <td>0</td>\n",
       "    </tr>\n",
       "    <tr>\n",
       "      <th>4853</th>\n",
       "      <td>bayak nganri bibi jemput jam tengah kaka</td>\n",
       "      <td>0</td>\n",
       "    </tr>\n",
       "    <tr>\n",
       "      <th>5203</th>\n",
       "      <td>kode verifikasi google</td>\n",
       "      <td>0</td>\n",
       "    </tr>\n",
       "    <tr>\n",
       "      <th>2024</th>\n",
       "      <td>nama notepon tante sari</td>\n",
       "      <td>0</td>\n",
       "    </tr>\n",
       "    <tr>\n",
       "      <th>2486</th>\n",
       "      <td>axis regional kuota paket data jam guna guna lanjut kena tarif normal informasi</td>\n",
       "      <td>0</td>\n",
       "    </tr>\n",
       "    <tr>\n",
       "      <th>1565</th>\n",
       "      <td>nomor rekening dana keluar besar rupiah saldo akhir rupiah berita tari tunai</td>\n",
       "      <td>0</td>\n",
       "    </tr>\n",
       "    <tr>\n",
       "      <th>4724</th>\n",
       "      <td>hari konsul mat tg jam</td>\n",
       "      <td>0</td>\n",
       "    </tr>\n",
       "    <tr>\n",
       "      <th>2063</th>\n",
       "      <td>data ya kak</td>\n",
       "      <td>0</td>\n",
       "    </tr>\n",
       "    <tr>\n",
       "      <th>3007</th>\n",
       "      <td>nomor isi nomor sn</td>\n",
       "      <td>0</td>\n",
       "    </tr>\n",
       "    <tr>\n",
       "      <th>2294</th>\n",
       "      <td>oh gituu syarat</td>\n",
       "      <td>0</td>\n",
       "    </tr>\n",
       "    <tr>\n",
       "      <th>1924</th>\n",
       "      <td>paket flash rupiah untuk mbak hari laku pakai wib tanggal aktif cek statusberhenti langgan informasi detail tarif lihat tsel meinternet</td>\n",
       "      <td>0</td>\n",
       "    </tr>\n",
       "    <tr>\n",
       "      <th>2376</th>\n",
       "      <td>mana ya anter nya</td>\n",
       "      <td>0</td>\n",
       "    </tr>\n",
       "    <tr>\n",
       "      <th>1014</th>\n",
       "      <td>kurang tahu september periksa controllernya waktu instansiasi new tcpdf lupa</td>\n",
       "      <td>0</td>\n",
       "    </tr>\n",
       "    <tr>\n",
       "      <th>1923</th>\n",
       "      <td>paket flash rupiah untuk mbak hari laku pakai wib tanggal aktif cek statusberhenti langgan informasi detail tarif lihat tsel meinternet</td>\n",
       "      <td>0</td>\n",
       "    </tr>\n",
       "    <tr>\n",
       "      <th>1356</th>\n",
       "      <td>tunggu bab masjid</td>\n",
       "      <td>0</td>\n",
       "    </tr>\n",
       "    <tr>\n",
       "      <th>4828</th>\n",
       "      <td>ketik manual ya tambah</td>\n",
       "      <td>0</td>\n",
       "    </tr>\n",
       "    <tr>\n",
       "      <th>2817</th>\n",
       "      <td>sisa kuota bonus mbak terus nikmat internetan jaring indosat ooredoo cek kuota httpim domc</td>\n",
       "      <td>0</td>\n",
       "    </tr>\n",
       "    <tr>\n",
       "      <th>1500</th>\n",
       "      <td>nomor rekening dana keluar besar rupiah saldo akhir rupiah berita bill payment direct eprs nomor</td>\n",
       "      <td>0</td>\n",
       "    </tr>\n",
       "    <tr>\n",
       "      <th>3936</th>\n",
       "      <td>kindl y inp ut f or co nf irma ti on</td>\n",
       "      <td>0</td>\n",
       "    </tr>\n",
       "    <tr>\n",
       "      <th>1218</th>\n",
       "      <td>baru tahu teori sih da rasa rumit</td>\n",
       "      <td>0</td>\n",
       "    </tr>\n",
       "    <tr>\n",
       "      <th>4744</th>\n",
       "      <td>mang</td>\n",
       "      <td>0</td>\n",
       "    </tr>\n",
       "    <tr>\n",
       "      <th>5077</th>\n",
       "      <td>mohon maaf minta lanjut nack</td>\n",
       "      <td>0</td>\n",
       "    </tr>\n",
       "  </tbody>\n",
       "</table>\n",
       "</div>"
      ],
      "text/plain": [
       "                                                                                                                                         Teks  \\\n",
       "4889  kaka ba eti jadi bikin sate siang makan bibi                                                                                              \n",
       "862   duh gusti hujan besar moga riung bocor yah gais                                                                                           \n",
       "3117  milik verification kode ikan kode orang kode guna untuk masuk mytelkomsel                                                                 \n",
       "1104  bapak pesan nasi goreng spesial bungkus graha desilla kamar                                                                               \n",
       "5073  collect sms telkomsel nomor gagal kirim sms kenan bayar biaya sms rupiah balas ya nomor informasi customer service                        \n",
       "4649  tunggu papa center lantai tangga                                                                                                          \n",
       "4992  verifikasi rltvlmspayhovygcuudpttzmwfclcgshwum                                                                                            \n",
       "4159  dcbassociationykergfihpsfvfojgbdj                                                                                                         \n",
       "6581  traveloka com milik eticket summary april ykpse pah nama adrian wijaya total passengers                                                   \n",
       "4853  bayak nganri bibi jemput jam tengah kaka                                                                                                  \n",
       "5203  kode verifikasi google                                                                                                                    \n",
       "2024  nama notepon tante sari                                                                                                                   \n",
       "2486  axis regional kuota paket data jam guna guna lanjut kena tarif normal informasi                                                           \n",
       "1565  nomor rekening dana keluar besar rupiah saldo akhir rupiah berita tari tunai                                                              \n",
       "4724  hari konsul mat tg jam                                                                                                                    \n",
       "2063  data ya kak                                                                                                                               \n",
       "3007  nomor isi nomor sn                                                                                                                        \n",
       "2294  oh gituu syarat                                                                                                                           \n",
       "1924  paket flash rupiah untuk mbak hari laku pakai wib tanggal aktif cek statusberhenti langgan informasi detail tarif lihat tsel meinternet   \n",
       "2376  mana ya anter nya                                                                                                                         \n",
       "1014  kurang tahu september periksa controllernya waktu instansiasi new tcpdf lupa                                                              \n",
       "1923  paket flash rupiah untuk mbak hari laku pakai wib tanggal aktif cek statusberhenti langgan informasi detail tarif lihat tsel meinternet   \n",
       "1356  tunggu bab masjid                                                                                                                         \n",
       "4828  ketik manual ya tambah                                                                                                                    \n",
       "2817  sisa kuota bonus mbak terus nikmat internetan jaring indosat ooredoo cek kuota httpim domc                                                \n",
       "1500  nomor rekening dana keluar besar rupiah saldo akhir rupiah berita bill payment direct eprs nomor                                          \n",
       "3936  kindl y inp ut f or co nf irma ti on                                                                                                      \n",
       "1218  baru tahu teori sih da rasa rumit                                                                                                         \n",
       "4744  mang                                                                                                                                      \n",
       "5077  mohon maaf minta lanjut nack                                                                                                              \n",
       "\n",
       "      label  \n",
       "4889  0      \n",
       "862   0      \n",
       "3117  0      \n",
       "1104  0      \n",
       "5073  0      \n",
       "4649  0      \n",
       "4992  0      \n",
       "4159  0      \n",
       "6581  0      \n",
       "4853  0      \n",
       "5203  0      \n",
       "2024  0      \n",
       "2486  0      \n",
       "1565  0      \n",
       "4724  0      \n",
       "2063  0      \n",
       "3007  0      \n",
       "2294  0      \n",
       "1924  0      \n",
       "2376  0      \n",
       "1014  0      \n",
       "1923  0      \n",
       "1356  0      \n",
       "4828  0      \n",
       "2817  0      \n",
       "1500  0      \n",
       "3936  0      \n",
       "1218  0      \n",
       "4744  0      \n",
       "5077  0      "
      ]
     },
     "execution_count": 294,
     "metadata": {},
     "output_type": "execute_result"
    }
   ],
   "source": [
    "print('sample of Non-Spam SMS')\n",
    "df[df.label == 0].sample(30)"
   ]
  },
  {
   "cell_type": "markdown",
   "metadata": {},
   "source": [
    "#### Highest word frequencies in each class"
   ]
  },
  {
   "cell_type": "code",
   "execution_count": 147,
   "metadata": {},
   "outputs": [],
   "source": [
    "import matplotlib.pyplot as plt\n",
    "from sklearn.feature_extraction.text import CountVectorizer\n",
    "\n",
    "cv = CountVectorizer()\n",
    "words_count_matrix = cv.fit_transform(df['Teks'])\n",
    "df_count_vect = pd.SparseDataFrame(words_count_matrix, columns=cv.get_feature_names())"
   ]
  },
  {
   "cell_type": "code",
   "execution_count": 7,
   "metadata": {},
   "outputs": [],
   "source": [
    "# non-spam\n",
    "df_non_spam_words = df_count_vect[df.label == 0]\n",
    "non_spam_words_count = df_non_spam_words.sum()\n",
    "indices = np.argsort(non_spam_words_count)[::-1][:10]\n",
    "non_spam_words_count = non_spam_words_count[indices]"
   ]
  },
  {
   "cell_type": "code",
   "execution_count": 8,
   "metadata": {},
   "outputs": [
    {
     "data": {
      "image/png": "[encoded data removed]",
      "text/plain": [
       "<Figure size 432x288 with 1 Axes>"
      ]
     },
     "metadata": {},
     "output_type": "display_data"
    }
   ],
   "source": [
    "plt.barh(np.arange(len(non_spam_words_count)), non_spam_words_count.values, align='edge', height=0.8)\n",
    "plt.yticks(np.arange(len(non_spam_words_count)) + 0.4, non_spam_words_count.keys())\n",
    "plt.gca().invert_yaxis()\n",
    "plt.show()"
   ]
  },
  {
   "cell_type": "code",
   "execution_count": 9,
   "metadata": {},
   "outputs": [],
   "source": [
    "# spam\n",
    "df_spam_words = df_count_vect[df.label == 1]\n",
    "spam_words_count = df_spam_words.sum()\n",
    "indices = np.argsort(spam_words_count)[::-1][:10]\n",
    "spam_words_count = spam_words_count[indices]"
   ]
  },
  {
   "cell_type": "code",
   "execution_count": 10,
   "metadata": {},
   "outputs": [
    {
     "data": {
      "image/png": "[encoded data removed]",
      "text/plain": [
       "<Figure size 432x288 with 1 Axes>"
      ]
     },
     "metadata": {},
     "output_type": "display_data"
    }
   ],
   "source": [
    "plt.barh(np.arange(len(spam_words_count)), spam_words_count.values, align='edge', height=0.8)\n",
    "plt.yticks(np.arange(len(spam_words_count)) + 0.4, spam_words_count.keys())\n",
    "plt.gca().invert_yaxis()\n",
    "plt.show()"
   ]
  },
  {
   "cell_type": "markdown",
   "metadata": {},
   "source": [
    "### Get the most and least frequent words"
   ]
  },
  {
   "cell_type": "code",
   "execution_count": null,
   "metadata": {},
   "outputs": [],
   "source": [
    "all_word_count = df_count_vect[df.label < 2].sum()\n",
    "indices = np.argsort(all_word_count)[::-1][:100]\n",
    "all_word_count = all_word_count[indices]"
   ]
  },
  {
   "cell_type": "code",
   "execution_count": 168,
   "metadata": {},
   "outputs": [
    {
     "data": {
      "image/png": "[encoded data removed]",
      "text/plain": [
       "<Figure size 720x1440 with 1 Axes>"
      ]
     },
     "metadata": {
      "needs_background": "light"
     },
     "output_type": "display_data"
    }
   ],
   "source": [
    "plt.figure(figsize=(10, 20))\n",
    "plt.barh(np.arange(len(all_word_count)), all_word_count.values, align='edge', height=0.8)\n",
    "plt.yticks(np.arange(len(all_word_count)) + 0.4, all_word_count.keys())\n",
    "plt.gca().invert_yaxis()\n",
    "plt.title('top 100 most frequent words')\n",
    "plt.show()"
   ]
  },
  {
   "cell_type": "code",
   "execution_count": 173,
   "metadata": {},
   "outputs": [],
   "source": [
    "all_word_count = df_count_vect[df.label < 2].sum()\n",
    "indices = np.argsort(all_word_count)[:100]\n",
    "all_word_count = all_word_count[indices]"
   ]
  },
  {
   "cell_type": "code",
   "execution_count": 174,
   "metadata": {},
   "outputs": [
    {
     "data": {
      "image/png": "[encoded data removed]",
      "text/plain": [
       "<Figure size 720x1440 with 1 Axes>"
      ]
     },
     "metadata": {
      "needs_background": "light"
     },
     "output_type": "display_data"
    }
   ],
   "source": [
    "plt.figure(figsize=(10, 20))\n",
    "plt.barh(np.arange(len(all_word_count)), all_word_count.values, align='edge', height=0.8)\n",
    "plt.yticks(np.arange(len(all_word_count)) + 0.4, all_word_count.keys())\n",
    "plt.gca().invert_yaxis()\n",
    "plt.title('top 100 least frequent words')\n",
    "plt.show()"
   ]
  },
  {
   "cell_type": "code",
   "execution_count": 175,
   "metadata": {},
   "outputs": [],
   "source": [
    "all_word_count = df_count_vect[df.label < 2].sum()"
   ]
  },
  {
   "cell_type": "code",
   "execution_count": 279,
   "metadata": {},
   "outputs": [],
   "source": [
    "too_common_words = list(filter(lambda w: all_word_count[w] > 1250, all_word_count.keys()))\n",
    "too_rare_words = list(filter(lambda w: all_word_count[w] < 20, all_word_count.keys()))"
   ]
  },
  {
   "cell_type": "code",
   "execution_count": 280,
   "metadata": {},
   "outputs": [
    {
     "data": {
      "text/plain": [
       "6"
      ]
     },
     "execution_count": 280,
     "metadata": {},
     "output_type": "execute_result"
    }
   ],
   "source": [
    "len(too_common_words)"
   ]
  },
  {
   "cell_type": "code",
   "execution_count": 281,
   "metadata": {},
   "outputs": [
    {
     "data": {
      "text/plain": [
       "8856"
      ]
     },
     "execution_count": 281,
     "metadata": {},
     "output_type": "execute_result"
    }
   ],
   "source": [
    "len(too_rare_words)"
   ]
  },
  {
   "cell_type": "code",
   "execution_count": 282,
   "metadata": {},
   "outputs": [
    {
     "data": {
      "text/plain": [
       "9504"
      ]
     },
     "execution_count": 282,
     "metadata": {},
     "output_type": "execute_result"
    }
   ],
   "source": [
    "len(all_word_count.keys())"
   ]
  },
  {
   "cell_type": "code",
   "execution_count": 283,
   "metadata": {},
   "outputs": [
    {
     "data": {
      "text/plain": [
       "'chickennasitea'"
      ]
     },
     "execution_count": 283,
     "metadata": {},
     "output_type": "execute_result"
    }
   ],
   "source": [
    "too_rare_words[1245]"
   ]
  },
  {
   "cell_type": "markdown",
   "metadata": {},
   "source": [
    "## Feature Extraction"
   ]
  },
  {
   "cell_type": "code",
   "execution_count": 225,
   "metadata": {},
   "outputs": [
    {
     "data": {
      "text/plain": [
       "((5796,), (1451,), (5796,), (1451,))"
      ]
     },
     "execution_count": 225,
     "metadata": {},
     "output_type": "execute_result"
    }
   ],
   "source": [
    "from utils import fair_train_test_split\n",
    "\n",
    "X = df['Teks']\n",
    "y = df['label']\n",
    "\n",
    "X_train, X_test, y_train, y_test = fair_train_test_split(X, y, test_size=0.2)\n",
    "X_train.shape, X_test.shape, y_train.shape, y_test.shape"
   ]
  },
  {
   "cell_type": "markdown",
   "metadata": {},
   "source": [
    "### N-Gram"
   ]
  },
  {
   "cell_type": "code",
   "execution_count": 226,
   "metadata": {
    "scrolled": true
   },
   "outputs": [
    {
     "data": {
      "text/plain": [
       "(5796, 8428)"
      ]
     },
     "execution_count": 226,
     "metadata": {},
     "output_type": "execute_result"
    }
   ],
   "source": [
    "from sklearn.feature_extraction.text import CountVectorizer\n",
    "\n",
    "cv = CountVectorizer()\n",
    "X_train_cv = cv.fit_transform(X_train)\n",
    "X_train_cv.shape"
   ]
  },
  {
   "cell_type": "markdown",
   "metadata": {},
   "source": [
    "### TF-IDF"
   ]
  },
  {
   "cell_type": "code",
   "execution_count": 227,
   "metadata": {},
   "outputs": [
    {
     "data": {
      "text/plain": [
       "(5796, 8428)"
      ]
     },
     "execution_count": 227,
     "metadata": {},
     "output_type": "execute_result"
    }
   ],
   "source": [
    "from sklearn.feature_extraction.text import TfidfVectorizer\n",
    "\n",
    "tfidf = TfidfVectorizer()\n",
    "X_train_tfidf = tfidf.fit_transform(X_train)\n",
    "X_train_tfidf.shape"
   ]
  },
  {
   "cell_type": "markdown",
   "metadata": {},
   "source": [
    "### Word Embedding: Word2Vec"
   ]
  },
  {
   "cell_type": "code",
   "execution_count": 73,
   "metadata": {},
   "outputs": [],
   "source": [
    "import gensim\n",
    "from functools import reduce"
   ]
  },
  {
   "cell_type": "code",
   "execution_count": 284,
   "metadata": {},
   "outputs": [],
   "source": [
    "EMBEDDING_SIZE = 10"
   ]
  },
  {
   "cell_type": "code",
   "execution_count": 285,
   "metadata": {},
   "outputs": [],
   "source": [
    "model = gensim.models.Word2Vec(list(map(lambda s: s.split(), X)), min_count=1,  size=EMBEDDING_SIZE)"
   ]
  },
  {
   "cell_type": "code",
   "execution_count": 286,
   "metadata": {},
   "outputs": [
    {
     "data": {
      "text/plain": [
       "[('ry', 0.9359518885612488),\n",
       " ('npmwz', 0.9324858784675598),\n",
       " ('safitri', 0.9253289699554443),\n",
       " ('hubsms', 0.925121009349823),\n",
       " ('boladpt', 0.9246889352798462),\n",
       " ('oooh', 0.9226250648498535),\n",
       " ('mizuno', 0.9223079681396484),\n",
       " ('tabugan', 0.9199936389923096),\n",
       " ('diapain', 0.9188683032989502),\n",
       " ('temenin', 0.9146230220794678)]"
      ]
     },
     "execution_count": 286,
     "metadata": {},
     "output_type": "execute_result"
    }
   ],
   "source": [
    "model.wv.most_similar('adira')"
   ]
  },
  {
   "cell_type": "code",
   "execution_count": 287,
   "metadata": {},
   "outputs": [],
   "source": [
    "sentence_embedding = lambda s: reduce(\n",
    "        lambda v1, v2: v1 + v2, \n",
    "        list(\n",
    "            map(\n",
    "                model.wv.get_vector,\n",
    "                [w for w in set(s.split()) if w not in too_common_words and w not in too_rare_words]\n",
    "            )\n",
    "        ),\n",
    "        np.zeros(EMBEDDING_SIZE)\n",
    "    )"
   ]
  },
  {
   "cell_type": "code",
   "execution_count": 288,
   "metadata": {},
   "outputs": [],
   "source": [
    "transform_to_embedding_dataset = lambda dataset: np.array(list(map(sentence_embedding, dataset)))"
   ]
  },
  {
   "cell_type": "code",
   "execution_count": 289,
   "metadata": {},
   "outputs": [],
   "source": [
    "X_train_embedding = transform_to_embedding_dataset(X_train)"
   ]
  },
  {
   "cell_type": "markdown",
   "metadata": {},
   "source": [
    "## Model Evaluation"
   ]
  },
  {
   "cell_type": "code",
   "execution_count": 14,
   "metadata": {},
   "outputs": [
    {
     "name": "stdout",
     "output_type": "stream",
     "text": [
      "Multinomial Naive Bayes with count vectorizer\t: 0.9193659545141282\n",
      "Multinomial Naive Bayes with tfidf\t\t: 0.9035148173673329\n"
     ]
    }
   ],
   "source": [
    "from sklearn.naive_bayes import MultinomialNB\n",
    "\n",
    "clf = MultinomialNB().fit(X_train_cv, y_train)\n",
    "print('Multinomial Naive Bayes with count vectorizer\\t:', clf.score(cv.transform(X_test), y_test))\n",
    "\n",
    "clf = MultinomialNB().fit(X_train_tfidf, y_train)\n",
    "print('Multinomial Naive Bayes with tfidf\\t\\t:', clf.score(tfidf.transform(X_test), y_test))"
   ]
  },
  {
   "cell_type": "code",
   "execution_count": 15,
   "metadata": {},
   "outputs": [
    {
     "name": "stdout",
     "output_type": "stream",
     "text": [
      "Logistic Regression with count vectorizer\t: 0.9338387319090282\n",
      "Logistic Regression with tfidf\t\t\t: 0.9276361130254996\n"
     ]
    }
   ],
   "source": [
    "from sklearn.linear_model import LogisticRegression\n",
    "\n",
    "clf = LogisticRegression().fit(X_train_cv, y_train)\n",
    "print('Logistic Regression with count vectorizer\\t:', clf.score(cv.transform(X_test), y_test))\n",
    "\n",
    "clf = LogisticRegression().fit(X_train_tfidf, y_train)\n",
    "print('Logistic Regression with tfidf\\t\\t\\t:', clf.score(tfidf.transform(X_test), y_test))"
   ]
  },
  {
   "cell_type": "code",
   "execution_count": 16,
   "metadata": {},
   "outputs": [
    {
     "name": "stdout",
     "output_type": "stream",
     "text": [
      "SVM Linear Kernel with count vectorizer\t\t: 0.9317711922811854\n",
      "SVM Linear Kernel with tfidf\t\t\t: 0.9345279117849759\n"
     ]
    }
   ],
   "source": [
    "from sklearn.svm import SVC\n",
    "\n",
    "clf = SVC(kernel='linear').fit(X_train_cv, y_train)\n",
    "print('SVM Linear Kernel with count vectorizer\\t\\t:', clf.score(cv.transform(X_test), y_test))\n",
    "\n",
    "clf = SVC(kernel='linear').fit(X_train_tfidf, y_train)\n",
    "print('SVM Linear Kernel with tfidf\\t\\t\\t:', clf.score(tfidf.transform(X_test), y_test))"
   ]
  },
  {
   "cell_type": "code",
   "execution_count": 291,
   "metadata": {},
   "outputs": [
    {
     "name": "stdout",
     "output_type": "stream",
     "text": [
      "SVM RBF Kernel with count vectorizer\t: 0.9443219404630651\n",
      "SVM RBF Kernel with tfidf\t\t: 0.9454244762954797\n",
      "SVM RBF Kernel with word embedding\t: 0.8676957001102535\n"
     ]
    }
   ],
   "source": [
    "from sklearn.svm import SVC\n",
    "\n",
    "clf = SVC(gamma=0.05).fit(X_train_cv, y_train)\n",
    "print('SVM RBF Kernel with count vectorizer\\t\\t:', clf.score(cv.transform(X_test), y_test))\n",
    "\n",
    "clf = SVC(gamma='scale').fit(X_train_tfidf, y_train)\n",
    "print('SVM RBF Kernel with tfidf\\t\\t:', clf.score(tfidf.transform(X_test), y_test))\n",
    "\n",
    "clf = SVC(gamma='scale').fit(X_train_embedding, y_train)\n",
    "print('SVM RBF Kernel with word embedding\\t:', clf.score(transform_to_embedding_dataset(X_test), y_test))"
   ]
  },
  {
   "cell_type": "code",
   "execution_count": 292,
   "metadata": {},
   "outputs": [
    {
     "name": "stdout",
     "output_type": "stream",
     "text": [
      "SVM Sigmoid Kernel with count vectorizer\t: 0.8914002205071665\n",
      "SVM Sigmoid Kernel with tfidf\t\t\t: 0.9349503858875413\n",
      "SVM Sigmoid Kernel with word embedding\t: 0.6879823594266814\n"
     ]
    }
   ],
   "source": [
    "from sklearn.svm import SVC\n",
    "\n",
    "clf = SVC(gamma='scale', kernel='sigmoid').fit(X_train_cv, y_train)\n",
    "print('SVM Sigmoid Kernel with count vectorizer\\t:', clf.score(cv.transform(X_test), y_test))\n",
    "\n",
    "clf = SVC(gamma='scale', kernel='sigmoid').fit(X_train_tfidf, y_train)\n",
    "print('SVM Sigmoid Kernel with tfidf\\t\\t\\t:', clf.score(tfidf.transform(X_test), y_test))\n",
    "\n",
    "clf = SVC(gamma='scale', kernel='sigmoid').fit(X_train_embedding, y_train)\n",
    "print('SVM Sigmoid Kernel with word embedding\\t:', clf.score(transform_to_embedding_dataset(X_test), y_test))"
   ]
  },
  {
   "cell_type": "code",
   "execution_count": 293,
   "metadata": {},
   "outputs": [
    {
     "name": "stdout",
     "output_type": "stream",
     "text": [
      "Random Forest with count vectorizer\t: 0.9404630650496141\n",
      "Random Forest with tfidf\t\t: 0.9443219404630651\n",
      "Random Forest with word embedding\t: 0.9090407938257994\n"
     ]
    }
   ],
   "source": [
    "from sklearn.ensemble import RandomForestClassifier\n",
    "\n",
    "clf = RandomForestClassifier(n_estimators=400).fit(X_train_cv, y_train)\n",
    "print('Random Forest with count vectorizer\\t\\t:', clf.score(cv.transform(X_test), y_test))\n",
    "\n",
    "clf = RandomForestClassifier(n_estimators=400).fit(X_train_tfidf, y_train)\n",
    "print('Random Forest with tfidf\\t\\t:', clf.score(tfidf.transform(X_test), y_test))\n",
    "\n",
    "clf = RandomForestClassifier(n_estimators=400).fit(X_train_embedding, y_train)\n",
    "print('Random Forest with word embedding\\t:', clf.score(transform_to_embedding_dataset(X_test), y_test))"
   ]
  },
  {
   "cell_type": "code",
   "execution_count": 253,
   "metadata": {},
   "outputs": [
    {
     "name": "stdout",
     "output_type": "stream",
     "text": [
      "Ada Boost with count vectorizer\t: 0.9244762954796031\n",
      "Ada Boost with tfidf\t\t: 0.9162072767364939\n",
      "Ada Boost with word embedding\t: 0.8814773980154355\n"
     ]
    }
   ],
   "source": [
    "from sklearn.ensemble import AdaBoostClassifier\n",
    "\n",
    "clf = AdaBoostClassifier(n_estimators=450).fit(X_train_cv, y_train)\n",
    "print('Ada Boost with count vectorizer\\t\\t\\t:', clf.score(cv.transform(X_test), y_test))\n",
    "\n",
    "clf = AdaBoostClassifier(n_estimators=450).fit(X_train_tfidf, y_train)\n",
    "print('Ada Boost with tfidf\\t\\t:', clf.score(tfidf.transform(X_test), y_test))\n",
    "\n",
    "clf = AdaBoostClassifier(n_estimators=450).fit(X_train_embedding, y_train)\n",
    "print('Ada Boost with word embedding\\t:', clf.score(transform_to_embedding_dataset(X_test), y_test))"
   ]
  },
  {
   "cell_type": "code",
   "execution_count": 21,
   "metadata": {},
   "outputs": [
    {
     "name": "stdout",
     "output_type": "stream",
     "text": [
      "Gradient Boosting with count vectorizer\t\t: 0.9338387319090282\n",
      "Gradient Boosting with tfidf\t\t\t: 0.9345279117849759\n"
     ]
    }
   ],
   "source": [
    "from sklearn.ensemble import GradientBoostingClassifier\n",
    "\n",
    "clf = GradientBoostingClassifier(n_estimators=1500).fit(X_train_cv, y_train)\n",
    "print('Gradient Boosting with count vectorizer\\t\\t:', clf.score(cv.transform(X_test), y_test))\n",
    "\n",
    "clf = GradientBoostingClassifier(n_estimators=1500).fit(X_train_tfidf, y_train)\n",
    "print('Gradient Boosting with tfidf\\t\\t\\t:', clf.score(tfidf.transform(X_test), y_test))"
   ]
  },
  {
   "cell_type": "code",
   "execution_count": null,
   "metadata": {},
   "outputs": [],
   "source": []
  }
 ],
 "metadata": {
  "kernelspec": {
   "display_name": "Python 3",
   "language": "python",
   "name": "python3"
  },
  "language_info": {
   "codemirror_mode": {
    "name": "ipython",
    "version": 3
   },
   "file_extension": ".py",
   "mimetype": "text/x-python",
   "name": "python",
   "nbconvert_exporter": "python",
   "pygments_lexer": "ipython3",
   "version": "3.6.5"
  }
 },
 "nbformat": 4,
 "nbformat_minor": 2
}
