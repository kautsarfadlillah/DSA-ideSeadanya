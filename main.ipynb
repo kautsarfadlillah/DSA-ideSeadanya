{
 "cells": [
  {
   "cell_type": "code",
   "execution_count": 1,
   "metadata": {},
   "outputs": [],
   "source": [
    "import pandas as pd\n",
    "import numpy as np"
   ]
  },
  {
   "cell_type": "code",
   "execution_count": 2,
   "metadata": {},
   "outputs": [
    {
     "data": {
      "text/html": [
       "<div>\n",
       "<style scoped>\n",
       "    .dataframe tbody tr th:only-of-type {\n",
       "        vertical-align: middle;\n",
       "    }\n",
       "\n",
       "    .dataframe tbody tr th {\n",
       "        vertical-align: top;\n",
       "    }\n",
       "\n",
       "    .dataframe thead th {\n",
       "        text-align: right;\n",
       "    }\n",
       "</style>\n",
       "<table border=\"1\" class=\"dataframe\">\n",
       "  <thead>\n",
       "    <tr style=\"text-align: right;\">\n",
       "      <th></th>\n",
       "      <th>Teks</th>\n",
       "      <th>label</th>\n",
       "    </tr>\n",
       "  </thead>\n",
       "  <tbody>\n",
       "    <tr>\n",
       "      <th>0</th>\n",
       "      <td>dek baik</td>\n",
       "      <td>0</td>\n",
       "    </tr>\n",
       "    <tr>\n",
       "      <th>1</th>\n",
       "      <td>ikut seminar inspiratif cara mudah sukses bisn...</td>\n",
       "      <td>1</td>\n",
       "    </tr>\n",
       "    <tr>\n",
       "      <th>2</th>\n",
       "      <td>pilih menang cek rupiah juta kuota flash inter...</td>\n",
       "      <td>1</td>\n",
       "    </tr>\n",
       "    <tr>\n",
       "      <th>3</th>\n",
       "      <td>punya masalah uang cukup jamin bpkb mobil pinj...</td>\n",
       "      <td>1</td>\n",
       "    </tr>\n",
       "    <tr>\n",
       "      <th>4</th>\n",
       "      <td>diskn tgel jkerbet bit lysngroy pasar baik gam...</td>\n",
       "      <td>1</td>\n",
       "    </tr>\n",
       "  </tbody>\n",
       "</table>\n",
       "</div>"
      ],
      "text/plain": [
       "                                                Teks  label\n",
       "0                                           dek baik      0\n",
       "1  ikut seminar inspiratif cara mudah sukses bisn...      1\n",
       "2  pilih menang cek rupiah juta kuota flash inter...      1\n",
       "3  punya masalah uang cukup jamin bpkb mobil pinj...      1\n",
       "4  diskn tgel jkerbet bit lysngroy pasar baik gam...      1"
      ]
     },
     "execution_count": 2,
     "metadata": {},
     "output_type": "execute_result"
    }
   ],
   "source": [
    "df = pd.read_csv('clean_dataset_with_stemming.csv')\n",
    "df.head()"
   ]
  },
  {
   "cell_type": "markdown",
   "metadata": {},
   "source": [
    "## Data Description"
   ]
  },
  {
   "cell_type": "markdown",
   "metadata": {},
   "source": [
    "#### TODO : Add data description (maybe words frequencies in each class)"
   ]
  },
  {
   "cell_type": "markdown",
   "metadata": {},
   "source": [
    "#### Data preview"
   ]
  },
  {
   "cell_type": "code",
   "execution_count": 3,
   "metadata": {},
   "outputs": [
    {
     "name": "stdout",
     "output_type": "stream",
     "text": [
      "SMS\t: 7247 data\n",
      "\n",
      "consist of :\n",
      "- Spam SMS\t: 4156 data\n",
      "- Non-Spam SMS\t: 3091 data\n"
     ]
    }
   ],
   "source": [
    "print('SMS\\t:', df.shape[0], 'data\\n')\n",
    "print('consist of :')\n",
    "print('- Spam SMS\\t:', df[df.label == 1].shape[0], 'data')\n",
    "print('- Non-Spam SMS\\t:', df[df.label == 0].shape[0], 'data')"
   ]
  },
  {
   "cell_type": "code",
   "execution_count": 4,
   "metadata": {},
   "outputs": [
    {
     "name": "stdout",
     "output_type": "stream",
     "text": [
      "sample of Spam SMS\n"
     ]
    },
    {
     "data": {
      "text/html": [
       "<div>\n",
       "<style scoped>\n",
       "    .dataframe tbody tr th:only-of-type {\n",
       "        vertical-align: middle;\n",
       "    }\n",
       "\n",
       "    .dataframe tbody tr th {\n",
       "        vertical-align: top;\n",
       "    }\n",
       "\n",
       "    .dataframe thead th {\n",
       "        text-align: right;\n",
       "    }\n",
       "</style>\n",
       "<table border=\"1\" class=\"dataframe\">\n",
       "  <thead>\n",
       "    <tr style=\"text-align: right;\">\n",
       "      <th></th>\n",
       "      <th>Teks</th>\n",
       "      <th>label</th>\n",
       "    </tr>\n",
       "  </thead>\n",
       "  <tbody>\n",
       "    <tr>\n",
       "      <th>6065</th>\n",
       "      <td>premium pizza diskon waktu batas sd september online klik goo glfhyi hubung gratis biaya sk laku</td>\n",
       "      <td>1</td>\n",
       "    </tr>\n",
       "    <tr>\n",
       "      <th>444</th>\n",
       "      <td>nomor baru papa kirimin pulsa nomor baru papa papa kantor polisi masalah telepon papa</td>\n",
       "      <td>1</td>\n",
       "    </tr>\n",
       "    <tr>\n",
       "      <th>3486</th>\n",
       "      <td>nikmat alam interaksi asisten virtual telkomsel akun line telkomsel tsel melineva</td>\n",
       "      <td>1</td>\n",
       "    </tr>\n",
       "    <tr>\n",
       "      <th>5388</th>\n",
       "      <td>beli gratis pizza pasta tukar sms pizzaexpress pizza marzano dekat laku hari tc apply promo</td>\n",
       "      <td>1</td>\n",
       "    </tr>\n",
       "    <tr>\n",
       "      <th>2181</th>\n",
       "      <td>main togel online mudah aman www afatogel com diskon togel besar minimal deposit live dingdong pasar togel resmi</td>\n",
       "      <td>1</td>\n",
       "    </tr>\n",
       "    <tr>\n",
       "      <th>441</th>\n",
       "      <td>bapak pinjam hp orang bliin bapak ribu kirim nomr brunya bapak bapak msalh kantor polisi tlpsms nnti bapak telepon penting</td>\n",
       "      <td>1</td>\n",
       "    </tr>\n",
       "    <tr>\n",
       "      <th>2512</th>\n",
       "      <td>special diskon nasi bebek dower madura ekores teh manis ribu bebek dower citraland tukar hari dine in only slma stok promo</td>\n",
       "      <td>1</td>\n",
       "    </tr>\n",
       "    <tr>\n",
       "      <th>217</th>\n",
       "      <td>isi saldo tcashmu jaring atm atm bca laku transfer bank pilih bank tcash kode bank guna nomor hp nomor rekening tuju</td>\n",
       "      <td>1</td>\n",
       "    </tr>\n",
       "    <tr>\n",
       "      <th>6570</th>\n",
       "      <td>belanja hemat tokopedia gratis ongkir pakai ninja xpress download aplikasi bit lypromotokped habis promonya</td>\n",
       "      <td>1</td>\n",
       "    </tr>\n",
       "    <tr>\n",
       "      <th>3810</th>\n",
       "      <td>dapat perdana kuota internet gb rupiah booth telkomsel terminal poris plawad isi saldo tcashmu dptkan promo skb</td>\n",
       "      <td>1</td>\n",
       "    </tr>\n",
       "  </tbody>\n",
       "</table>\n",
       "</div>"
      ],
      "text/plain": [
       "                                                                                                                            Teks  \\\n",
       "6065  premium pizza diskon waktu batas sd september online klik goo glfhyi hubung gratis biaya sk laku                             \n",
       "444   nomor baru papa kirimin pulsa nomor baru papa papa kantor polisi masalah telepon papa                                        \n",
       "3486  nikmat alam interaksi asisten virtual telkomsel akun line telkomsel tsel melineva                                            \n",
       "5388  beli gratis pizza pasta tukar sms pizzaexpress pizza marzano dekat laku hari tc apply promo                                  \n",
       "2181  main togel online mudah aman www afatogel com diskon togel besar minimal deposit live dingdong pasar togel resmi             \n",
       "441   bapak pinjam hp orang bliin bapak ribu kirim nomr brunya bapak bapak msalh kantor polisi tlpsms nnti bapak telepon penting   \n",
       "2512  special diskon nasi bebek dower madura ekores teh manis ribu bebek dower citraland tukar hari dine in only slma stok promo   \n",
       "217   isi saldo tcashmu jaring atm atm bca laku transfer bank pilih bank tcash kode bank guna nomor hp nomor rekening tuju         \n",
       "6570  belanja hemat tokopedia gratis ongkir pakai ninja xpress download aplikasi bit lypromotokped habis promonya                  \n",
       "3810  dapat perdana kuota internet gb rupiah booth telkomsel terminal poris plawad isi saldo tcashmu dptkan promo skb              \n",
       "\n",
       "      label  \n",
       "6065  1      \n",
       "444   1      \n",
       "3486  1      \n",
       "5388  1      \n",
       "2181  1      \n",
       "441   1      \n",
       "2512  1      \n",
       "217   1      \n",
       "6570  1      \n",
       "3810  1      "
      ]
     },
     "execution_count": 4,
     "metadata": {},
     "output_type": "execute_result"
    }
   ],
   "source": [
    "pd.set_option('display.max_colwidth', -1)\n",
    "\n",
    "print('sample of Spam SMS')\n",
    "df[df.label == 1].sample(10)"
   ]
  },
  {
   "cell_type": "code",
   "execution_count": 5,
   "metadata": {},
   "outputs": [
    {
     "name": "stdout",
     "output_type": "stream",
     "text": [
      "sample of Non-Spam SMS\n"
     ]
    },
    {
     "data": {
      "text/html": [
       "<div>\n",
       "<style scoped>\n",
       "    .dataframe tbody tr th:only-of-type {\n",
       "        vertical-align: middle;\n",
       "    }\n",
       "\n",
       "    .dataframe tbody tr th {\n",
       "        vertical-align: top;\n",
       "    }\n",
       "\n",
       "    .dataframe thead th {\n",
       "        text-align: right;\n",
       "    }\n",
       "</style>\n",
       "<table border=\"1\" class=\"dataframe\">\n",
       "  <thead>\n",
       "    <tr style=\"text-align: right;\">\n",
       "      <th></th>\n",
       "      <th>Teks</th>\n",
       "      <th>label</th>\n",
       "    </tr>\n",
       "  </thead>\n",
       "  <tbody>\n",
       "    <tr>\n",
       "      <th>2854</th>\n",
       "      <td>snow verification kode</td>\n",
       "      <td>0</td>\n",
       "    </tr>\n",
       "    <tr>\n",
       "      <th>4942</th>\n",
       "      <td>tes</td>\n",
       "      <td>0</td>\n",
       "    </tr>\n",
       "    <tr>\n",
       "      <th>2714</th>\n",
       "      <td>milik google verification kode</td>\n",
       "      <td>0</td>\n",
       "    </tr>\n",
       "    <tr>\n",
       "      <th>770</th>\n",
       "      <td>perlu kampus nama kirimin kunci pakai jne cenah ip</td>\n",
       "      <td>0</td>\n",
       "    </tr>\n",
       "    <tr>\n",
       "      <th>2657</th>\n",
       "      <td>use as milik login kode vsco account kit by facebook</td>\n",
       "      <td>0</td>\n",
       "    </tr>\n",
       "    <tr>\n",
       "      <th>1112</th>\n",
       "      <td>pas ngomong langsung diem nuy kikuk diomongin</td>\n",
       "      <td>0</td>\n",
       "    </tr>\n",
       "    <tr>\n",
       "      <th>1815</th>\n",
       "      <td>langgan tribe aktif sd download tribe httponelink toswthw menang samsung galaxy informasi irenetribenow televisi</td>\n",
       "      <td>0</td>\n",
       "    </tr>\n",
       "    <tr>\n",
       "      <th>6646</th>\n",
       "      <td>tagih kredivo rupiah jatuh tempo bayar hindar denda bayar lewat aplikasiapp kredivo com</td>\n",
       "      <td>0</td>\n",
       "    </tr>\n",
       "    <tr>\n",
       "      <th>4874</th>\n",
       "      <td>asalamualaikum kaka bibi pakai sepeda kaka coba nomor porsih haji bibi perobahan lihat ka</td>\n",
       "      <td>0</td>\n",
       "    </tr>\n",
       "    <tr>\n",
       "      <th>1976</th>\n",
       "      <td>halo kak interviewnya tetap jam</td>\n",
       "      <td>0</td>\n",
       "    </tr>\n",
       "  </tbody>\n",
       "</table>\n",
       "</div>"
      ],
      "text/plain": [
       "                                                                                                                  Teks  \\\n",
       "2854  snow verification kode                                                                                             \n",
       "4942  tes                                                                                                                \n",
       "2714  milik google verification kode                                                                                     \n",
       "770   perlu kampus nama kirimin kunci pakai jne cenah ip                                                                 \n",
       "2657  use as milik login kode vsco account kit by facebook                                                               \n",
       "1112  pas ngomong langsung diem nuy kikuk diomongin                                                                      \n",
       "1815  langgan tribe aktif sd download tribe httponelink toswthw menang samsung galaxy informasi irenetribenow televisi   \n",
       "6646  tagih kredivo rupiah jatuh tempo bayar hindar denda bayar lewat aplikasiapp kredivo com                            \n",
       "4874  asalamualaikum kaka bibi pakai sepeda kaka coba nomor porsih haji bibi perobahan lihat ka                          \n",
       "1976  halo kak interviewnya tetap jam                                                                                    \n",
       "\n",
       "      label  \n",
       "2854  0      \n",
       "4942  0      \n",
       "2714  0      \n",
       "770   0      \n",
       "2657  0      \n",
       "1112  0      \n",
       "1815  0      \n",
       "6646  0      \n",
       "4874  0      \n",
       "1976  0      "
      ]
     },
     "execution_count": 5,
     "metadata": {},
     "output_type": "execute_result"
    }
   ],
   "source": [
    "print('sample of Non-Spam SMS')\n",
    "df[df.label == 0].sample(10)"
   ]
  },
  {
   "cell_type": "markdown",
   "metadata": {},
   "source": [
    "#### Highest word frequencies in each class"
   ]
  },
  {
   "cell_type": "code",
   "execution_count": 6,
   "metadata": {},
   "outputs": [],
   "source": [
    "import matplotlib.pyplot as plt\n",
    "from sklearn.feature_extraction.text import CountVectorizer\n",
    "\n",
    "cv = CountVectorizer()\n",
    "words_count_matrix = cv.fit_transform(df['Teks'])\n",
    "df_count_vect = pd.SparseDataFrame(words_count_matrix, columns=cv.get_feature_names())"
   ]
  },
  {
   "cell_type": "code",
   "execution_count": 7,
   "metadata": {},
   "outputs": [],
   "source": [
    "# non-spam\n",
    "df_non_spam_words = df_count_vect[df.label == 0]\n",
    "non_spam_words_count = df_non_spam_words.sum()\n",
    "indices = np.argsort(non_spam_words_count)[::-1][:10]\n",
    "non_spam_words_count = non_spam_words_count[indices]"
   ]
  },
  {
   "cell_type": "code",
   "execution_count": 8,
   "metadata": {},
   "outputs": [
    {
     "data": {
      "image/png": "[encoded data removed]",
      "text/plain": [
       "<Figure size 432x288 with 1 Axes>"
      ]
     },
     "metadata": {},
     "output_type": "display_data"
    }
   ],
   "source": [
    "plt.barh(np.arange(len(non_spam_words_count)), non_spam_words_count.values, align='edge', height=0.8)\n",
    "plt.yticks(np.arange(len(non_spam_words_count)) + 0.4, non_spam_words_count.keys())\n",
    "plt.gca().invert_yaxis()\n",
    "plt.show()"
   ]
  },
  {
   "cell_type": "code",
   "execution_count": 9,
   "metadata": {},
   "outputs": [],
   "source": [
    "# spam\n",
    "df_spam_words = df_count_vect[df.label == 1]\n",
    "spam_words_count = df_spam_words.sum()\n",
    "indices = np.argsort(spam_words_count)[::-1][:10]\n",
    "spam_words_count = spam_words_count[indices]"
   ]
  },
  {
   "cell_type": "code",
   "execution_count": 10,
   "metadata": {},
   "outputs": [
    {
     "data": {
      "image/png": "[encoded data removed]",
      "text/plain": [
       "<Figure size 432x288 with 1 Axes>"
      ]
     },
     "metadata": {},
     "output_type": "display_data"
    }
   ],
   "source": [
    "plt.barh(np.arange(len(spam_words_count)), spam_words_count.values, align='edge', height=0.8)\n",
    "plt.yticks(np.arange(len(spam_words_count)) + 0.4, spam_words_count.keys())\n",
    "plt.gca().invert_yaxis()\n",
    "plt.show()"
   ]
  },
  {
   "cell_type": "markdown",
   "metadata": {},
   "source": [
    "## Feature Extraction"
   ]
  },
  {
   "cell_type": "markdown",
   "metadata": {},
   "source": [
    "#### TODO: Add more feature extraction"
   ]
  },
  {
   "cell_type": "code",
   "execution_count": 11,
   "metadata": {},
   "outputs": [
    {
     "data": {
      "text/plain": [
       "((5796,), (1451,), (5796,), (1451,))"
      ]
     },
     "execution_count": 11,
     "metadata": {},
     "output_type": "execute_result"
    }
   ],
   "source": [
    "from utils import fair_train_test_split\n",
    "\n",
    "X = df['Teks']\n",
    "y = df['label']\n",
    "\n",
    "X_train, X_test, y_train, y_test = fair_train_test_split(X, y, test_size=0.2)\n",
    "X_train.shape, X_test.shape, y_train.shape, y_test.shape"
   ]
  },
  {
   "cell_type": "code",
   "execution_count": 12,
   "metadata": {},
   "outputs": [
    {
     "data": {
      "text/plain": [
       "(5796, 8428)"
      ]
     },
     "execution_count": 12,
     "metadata": {},
     "output_type": "execute_result"
    }
   ],
   "source": [
    "from sklearn.feature_extraction.text import CountVectorizer\n",
    "\n",
    "cv = CountVectorizer()\n",
    "X_train_cv = cv.fit_transform(X_train)\n",
    "X_train_cv.shape"
   ]
  },
  {
   "cell_type": "code",
   "execution_count": 13,
   "metadata": {},
   "outputs": [
    {
     "data": {
      "text/plain": [
       "(5796, 8428)"
      ]
     },
     "execution_count": 13,
     "metadata": {},
     "output_type": "execute_result"
    }
   ],
   "source": [
    "from sklearn.feature_extraction.text import TfidfVectorizer\n",
    "\n",
    "tfidf = TfidfVectorizer()\n",
    "X_train_tfidf = tfidf.fit_transform(X_train)\n",
    "X_train_tfidf.shape"
   ]
  },
  {
   "cell_type": "markdown",
   "metadata": {},
   "source": [
    "## Model Evaluation"
   ]
  },
  {
   "cell_type": "markdown",
   "metadata": {},
   "source": [
    "#### TODO: Add more Classifier Model and hyperparameter tuning"
   ]
  },
  {
   "cell_type": "code",
   "execution_count": 14,
   "metadata": {},
   "outputs": [
    {
     "name": "stdout",
     "output_type": "stream",
     "text": [
      "Multinomial Naive Bayes with count vectorizer\t: 0.9193659545141282\n",
      "Multinomial Naive Bayes with tfidf\t\t: 0.9035148173673329\n"
     ]
    }
   ],
   "source": [
    "from sklearn.naive_bayes import MultinomialNB\n",
    "\n",
    "clf = MultinomialNB().fit(X_train_cv, y_train)\n",
    "print('Multinomial Naive Bayes with count vectorizer\\t:', clf.score(cv.transform(X_test), y_test))\n",
    "\n",
    "clf = MultinomialNB().fit(X_train_tfidf, y_train)\n",
    "print('Multinomial Naive Bayes with tfidf\\t\\t:', clf.score(tfidf.transform(X_test), y_test))"
   ]
  },
  {
   "cell_type": "code",
   "execution_count": 15,
   "metadata": {},
   "outputs": [
    {
     "name": "stdout",
     "output_type": "stream",
     "text": [
      "Logistic Regression with count vectorizer\t: 0.9338387319090282\n",
      "Logistic Regression with tfidf\t\t\t: 0.9276361130254996\n"
     ]
    }
   ],
   "source": [
    "from sklearn.linear_model import LogisticRegression\n",
    "\n",
    "clf = LogisticRegression().fit(X_train_cv, y_train)\n",
    "print('Logistic Regression with count vectorizer\\t:', clf.score(cv.transform(X_test), y_test))\n",
    "\n",
    "clf = LogisticRegression().fit(X_train_tfidf, y_train)\n",
    "print('Logistic Regression with tfidf\\t\\t\\t:', clf.score(tfidf.transform(X_test), y_test))"
   ]
  },
  {
   "cell_type": "code",
   "execution_count": 16,
   "metadata": {},
   "outputs": [
    {
     "name": "stdout",
     "output_type": "stream",
     "text": [
      "SVM Linear Kernel with count vectorizer\t\t: 0.9317711922811854\n",
      "SVM Linear Kernel with tfidf\t\t\t: 0.9345279117849759\n"
     ]
    }
   ],
   "source": [
    "from sklearn.svm import SVC\n",
    "\n",
    "clf = SVC(kernel='linear').fit(X_train_cv, y_train)\n",
    "print('SVM Linear Kernel with count vectorizer\\t\\t:', clf.score(cv.transform(X_test), y_test))\n",
    "\n",
    "clf = SVC(kernel='linear').fit(X_train_tfidf, y_train)\n",
    "print('SVM Linear Kernel with tfidf\\t\\t\\t:', clf.score(tfidf.transform(X_test), y_test))"
   ]
  },
  {
   "cell_type": "code",
   "execution_count": 17,
   "metadata": {},
   "outputs": [
    {
     "name": "stdout",
     "output_type": "stream",
     "text": [
      "SVM RBF Kernel with count vectorizer\t\t: 0.9407305306685044\n",
      "SVM RBF Kernel with tfidf\t\t\t: 0.9276361130254996\n"
     ]
    }
   ],
   "source": [
    "from sklearn.svm import SVC\n",
    "\n",
    "clf = SVC(gamma=0.05).fit(X_train_cv, y_train)\n",
    "print('SVM RBF Kernel with count vectorizer\\t\\t:', clf.score(cv.transform(X_test), y_test))\n",
    "\n",
    "clf = SVC(gamma=0.05).fit(X_train_tfidf, y_train)\n",
    "print('SVM RBF Kernel with tfidf\\t\\t\\t:', clf.score(tfidf.transform(X_test), y_test))"
   ]
  },
  {
   "cell_type": "code",
   "execution_count": 18,
   "metadata": {},
   "outputs": [
    {
     "name": "stdout",
     "output_type": "stream",
     "text": [
      "SVM RBF Kernel with count vectorizer\t\t: 0.90144727773949\n",
      "SVM RBF Kernel with tfidf\t\t\t: 0.9276361130254996\n"
     ]
    }
   ],
   "source": [
    "from sklearn.svm import SVC\n",
    "\n",
    "clf = SVC(gamma=0.05, kernel='sigmoid').fit(X_train_cv, y_train)\n",
    "print('SVM RBF Kernel with count vectorizer\\t\\t:', clf.score(cv.transform(X_test), y_test))\n",
    "\n",
    "clf = SVC(gamma=0.05).fit(X_train_tfidf, y_train)\n",
    "print('SVM RBF Kernel with tfidf\\t\\t\\t:', clf.score(tfidf.transform(X_test), y_test))"
   ]
  },
  {
   "cell_type": "code",
   "execution_count": 19,
   "metadata": {},
   "outputs": [
    {
     "name": "stdout",
     "output_type": "stream",
     "text": [
      "Random Forest with count vectorizer\t\t: 0.9427980702963473\n",
      "Random Forest with tfidf\t\t\t: 0.9448656099241902\n"
     ]
    }
   ],
   "source": [
    "from sklearn.ensemble import RandomForestClassifier\n",
    "\n",
    "clf = RandomForestClassifier(n_estimators=400).fit(X_train_cv, y_train)\n",
    "print('Random Forest with count vectorizer\\t\\t:', clf.score(cv.transform(X_test), y_test))\n",
    "\n",
    "clf = RandomForestClassifier(n_estimators=400).fit(X_train_tfidf, y_train)\n",
    "print('Random Forest with tfidf\\t\\t\\t:', clf.score(tfidf.transform(X_test), y_test))"
   ]
  },
  {
   "cell_type": "code",
   "execution_count": 20,
   "metadata": {},
   "outputs": [
    {
     "name": "stdout",
     "output_type": "stream",
     "text": [
      "Ada Boost with count vectorizer\t\t\t: 0.9407305306685044\n",
      "Ada Boost with tfidf\t\t\t\t: 0.926946933149552\n"
     ]
    }
   ],
   "source": [
    "from sklearn.ensemble import AdaBoostClassifier\n",
    "\n",
    "clf = AdaBoostClassifier(n_estimators=450).fit(X_train_cv, y_train)\n",
    "print('Ada Boost with count vectorizer\\t\\t\\t:', clf.score(cv.transform(X_test), y_test))\n",
    "\n",
    "clf = AdaBoostClassifier(n_estimators=450).fit(X_train_tfidf, y_train)\n",
    "print('Ada Boost with tfidf\\t\\t\\t\\t:', clf.score(tfidf.transform(X_test), y_test))"
   ]
  },
  {
   "cell_type": "code",
   "execution_count": 21,
   "metadata": {},
   "outputs": [
    {
     "name": "stdout",
     "output_type": "stream",
     "text": [
      "Gradient Boosting with count vectorizer\t\t: 0.9338387319090282\n",
      "Gradient Boosting with tfidf\t\t\t: 0.9345279117849759\n"
     ]
    }
   ],
   "source": [
    "from sklearn.ensemble import GradientBoostingClassifier\n",
    "\n",
    "clf = GradientBoostingClassifier(n_estimators=1500).fit(X_train_cv, y_train)\n",
    "print('Gradient Boosting with count vectorizer\\t\\t:', clf.score(cv.transform(X_test), y_test))\n",
    "\n",
    "clf = GradientBoostingClassifier(n_estimators=1500).fit(X_train_tfidf, y_train)\n",
    "print('Gradient Boosting with tfidf\\t\\t\\t:', clf.score(tfidf.transform(X_test), y_test))"
   ]
  },
  {
   "cell_type": "code",
   "execution_count": null,
   "metadata": {},
   "outputs": [],
   "source": []
  }
 ],
 "metadata": {
  "kernelspec": {
   "display_name": "Python 3",
   "language": "python",
   "name": "python3"
  },
  "language_info": {
   "codemirror_mode": {
    "name": "ipython",
    "version": 3
   },
   "file_extension": ".py",
   "mimetype": "text/x-python",
   "name": "python",
   "nbconvert_exporter": "python",
   "pygments_lexer": "ipython3",
   "version": "3.6.5"
  }
 },
 "nbformat": 4,
 "nbformat_minor": 2
}
