{
 "cells": [
  {
   "cell_type": "code",
   "execution_count": 1,
   "metadata": {},
   "outputs": [],
   "source": [
    "import pandas as pd\n",
    "import numpy as np"
   ]
  },
  {
   "cell_type": "code",
   "execution_count": 2,
   "metadata": {},
   "outputs": [
    {
     "data": {
      "text/html": [
       "<div>\n",
       "<style scoped>\n",
       "    .dataframe tbody tr th:only-of-type {\n",
       "        vertical-align: middle;\n",
       "    }\n",
       "\n",
       "    .dataframe tbody tr th {\n",
       "        vertical-align: top;\n",
       "    }\n",
       "\n",
       "    .dataframe thead th {\n",
       "        text-align: right;\n",
       "    }\n",
       "</style>\n",
       "<table border=\"1\" class=\"dataframe\">\n",
       "  <thead>\n",
       "    <tr style=\"text-align: right;\">\n",
       "      <th></th>\n",
       "      <th>Teks</th>\n",
       "      <th>label</th>\n",
       "    </tr>\n",
       "  </thead>\n",
       "  <tbody>\n",
       "    <tr>\n",
       "      <th>0</th>\n",
       "      <td>dek baik</td>\n",
       "      <td>0</td>\n",
       "    </tr>\n",
       "    <tr>\n",
       "      <th>1</th>\n",
       "      <td>ikut seminar inspiratif cara mudah sukses bisn...</td>\n",
       "      <td>1</td>\n",
       "    </tr>\n",
       "    <tr>\n",
       "      <th>2</th>\n",
       "      <td>pilih menang cek rupiah juta kuota flash inter...</td>\n",
       "      <td>1</td>\n",
       "    </tr>\n",
       "    <tr>\n",
       "      <th>3</th>\n",
       "      <td>punya masalah uang cukup jamin bpkb mobil pinj...</td>\n",
       "      <td>1</td>\n",
       "    </tr>\n",
       "    <tr>\n",
       "      <th>4</th>\n",
       "      <td>diskn tgel jkerbet bit lysngroy pasar baik gam...</td>\n",
       "      <td>1</td>\n",
       "    </tr>\n",
       "  </tbody>\n",
       "</table>\n",
       "</div>"
      ],
      "text/plain": [
       "                                                Teks  label\n",
       "0                                           dek baik      0\n",
       "1  ikut seminar inspiratif cara mudah sukses bisn...      1\n",
       "2  pilih menang cek rupiah juta kuota flash inter...      1\n",
       "3  punya masalah uang cukup jamin bpkb mobil pinj...      1\n",
       "4  diskn tgel jkerbet bit lysngroy pasar baik gam...      1"
      ]
     },
     "execution_count": 2,
     "metadata": {},
     "output_type": "execute_result"
    }
   ],
   "source": [
    "df = pd.read_csv('clean_dataset_with_stemming.csv')\n",
    "df.head()"
   ]
  },
  {
   "cell_type": "markdown",
   "metadata": {},
   "source": [
    "## Data Description"
   ]
  },
  {
   "cell_type": "markdown",
   "metadata": {},
   "source": [
    "#### TODO : Add data description (maybe words frequencies in each class)"
   ]
  },
  {
   "cell_type": "markdown",
   "metadata": {},
   "source": [
    "#### Data preview"
   ]
  },
  {
   "cell_type": "code",
   "execution_count": 3,
   "metadata": {},
   "outputs": [
    {
     "name": "stdout",
     "output_type": "stream",
     "text": [
      "SMS\t: 7247 data\n",
      "\n",
      "consist of :\n",
      "- Spam SMS\t: 4156 data\n",
      "- Non-Spam SMS\t: 3091 data\n"
     ]
    }
   ],
   "source": [
    "print('SMS\\t:', df.shape[0], 'data\\n')\n",
    "print('consist of :')\n",
    "print('- Spam SMS\\t:', df[df.label == 1].shape[0], 'data')\n",
    "print('- Non-Spam SMS\\t:', df[df.label == 0].shape[0], 'data')"
   ]
  },
  {
   "cell_type": "code",
   "execution_count": 4,
   "metadata": {},
   "outputs": [
    {
     "name": "stdout",
     "output_type": "stream",
     "text": [
      "sample of Spam SMS\n"
     ]
    },
    {
     "data": {
      "text/html": [
       "<div>\n",
       "<style scoped>\n",
       "    .dataframe tbody tr th:only-of-type {\n",
       "        vertical-align: middle;\n",
       "    }\n",
       "\n",
       "    .dataframe tbody tr th {\n",
       "        vertical-align: top;\n",
       "    }\n",
       "\n",
       "    .dataframe thead th {\n",
       "        text-align: right;\n",
       "    }\n",
       "</style>\n",
       "<table border=\"1\" class=\"dataframe\">\n",
       "  <thead>\n",
       "    <tr style=\"text-align: right;\">\n",
       "      <th></th>\n",
       "      <th>Teks</th>\n",
       "      <th>label</th>\n",
       "    </tr>\n",
       "  </thead>\n",
       "  <tbody>\n",
       "    <tr>\n",
       "      <th>2822</th>\n",
       "      <td>spesial diskon rprbbln harga normal ribu telpon sms puas im plus kuota gbgb ketik juli</td>\n",
       "      <td>1</td>\n",
       "    </tr>\n",
       "    <tr>\n",
       "      <th>6377</th>\n",
       "      <td>free cloud choco nut gr indomaret isi saldo tcash min ribu dapat promonya outlet stok batas sk laku tsel meidmpromo</td>\n",
       "      <td>1</td>\n",
       "    </tr>\n",
       "    <tr>\n",
       "      <th>607</th>\n",
       "      <td>selamat nomor pilih mdptkan kejut hadiah langsung care kode menang bch informasi lenkap kunjung situs www hadiahtcare blogspot com</td>\n",
       "      <td>1</td>\n",
       "    </tr>\n",
       "    <tr>\n",
       "      <th>6949</th>\n",
       "      <td>chatime beli get free lemon series yoghurt lemon juicelemon black tealemon green tea laku hari tukar sms store dekat sk promo</td>\n",
       "      <td>1</td>\n",
       "    </tr>\n",
       "    <tr>\n",
       "      <th>6755</th>\n",
       "      <td>nomor simcard dapat rupiah juta shopee pin kodebh informasi klik www berkahshopee blogspot cowok id</td>\n",
       "      <td>1</td>\n",
       "    </tr>\n",
       "    <tr>\n",
       "      <th>4133</th>\n",
       "      <td>nomor hangus dapat tambah masa aktif hari cukup isi ulang nominal cek masa aktif</td>\n",
       "      <td>1</td>\n",
       "    </tr>\n",
       "    <tr>\n",
       "      <th>6363</th>\n",
       "      <td>saldo tcash rupiah dapat registrasi akun tcash cek cara tsel metcashget promo september buru sk laku</td>\n",
       "      <td>1</td>\n",
       "    </tr>\n",
       "    <tr>\n",
       "      <th>479</th>\n",
       "      <td>maaf uang transfer bank xxx an xxx nomor rekening xxx transfer sms terima kasih</td>\n",
       "      <td>1</td>\n",
       "    </tr>\n",
       "    <tr>\n",
       "      <th>301</th>\n",
       "      <td>promo beli paket flash mulai gb my telkomsel aplikasi extra telpon mnthr buru promo batas sk</td>\n",
       "      <td>1</td>\n",
       "    </tr>\n",
       "    <tr>\n",
       "      <th>4580</th>\n",
       "      <td>selamat datang vietnam hemat paket roaming in telepon indonesiasmsinternet mulai rbandi mytelkomsel aplikasi klik tsel meroam</td>\n",
       "      <td>1</td>\n",
       "    </tr>\n",
       "    <tr>\n",
       "      <th>5748</th>\n",
       "      <td>sulit cari voucher game molpoints jadi id loh sedia voucher game steamgarenapsngame on kunjung bit lyayopaymol</td>\n",
       "      <td>1</td>\n",
       "    </tr>\n",
       "    <tr>\n",
       "      <th>4116</th>\n",
       "      <td>via vallen nada sambung ambil nada santai balas</td>\n",
       "      <td>1</td>\n",
       "    </tr>\n",
       "    <tr>\n",
       "      <th>3435</th>\n",
       "      <td>super murah bebas telpon minta operator jam mulai rupiah aktif simpati kartu as loop skb</td>\n",
       "      <td>1</td>\n",
       "    </tr>\n",
       "    <tr>\n",
       "      <th>6524</th>\n",
       "      <td>hot promo paket combo baik utkmu rupiah ribu hari gb jam min sms tsel aktivasi outlet dekat skb</td>\n",
       "      <td>1</td>\n",
       "    </tr>\n",
       "    <tr>\n",
       "      <th>3154</th>\n",
       "      <td>yuk ikut teman munculin pesan seru waktu telpon gabung popcall update pesan kreasi suka hubung customer service</td>\n",
       "      <td>1</td>\n",
       "    </tr>\n",
       "    <tr>\n",
       "      <th>3104</th>\n",
       "      <td>hemat rprb beli paket internet flash regular gb aplikasi mytelkomsel ayo aktif paket klik httptsel meqi</td>\n",
       "      <td>1</td>\n",
       "    </tr>\n",
       "    <tr>\n",
       "      <th>151</th>\n",
       "      <td>banting harga internetan kuota gb ribu rupiah paket laku bulan ketik sd desember</td>\n",
       "      <td>1</td>\n",
       "    </tr>\n",
       "    <tr>\n",
       "      <th>3497</th>\n",
       "      <td>hot promo diskon ribu beli all produk mizuno httpsmizuno id tukar poin telkomsel ketik mizuno kirim cek poin skb</td>\n",
       "      <td>1</td>\n",
       "    </tr>\n",
       "    <tr>\n",
       "      <th>2900</th>\n",
       "      <td>sempat dapat logam muliabonus pulsa ayo aktif paket data gb telepon jam tsel smshanya ribu hubung httpsbit lyozla skb</td>\n",
       "      <td>1</td>\n",
       "    </tr>\n",
       "    <tr>\n",
       "      <th>5564</th>\n",
       "      <td>semarak merdeka paketcash free lays beli nescafe uht harga spesial milo ribu indomaret buru stok batas skb tsel meidmpromo</td>\n",
       "      <td>1</td>\n",
       "    </tr>\n",
       "    <tr>\n",
       "      <th>6451</th>\n",
       "      <td>telpon rupiah telpon puas berkalikali hari tsel minta allopr program tarif awal hubung</td>\n",
       "      <td>1</td>\n",
       "    </tr>\n",
       "    <tr>\n",
       "      <th>4238</th>\n",
       "      <td>kuota tip khawatir gratis kuota games gb freefire mobilelegends pubg nih buat myim yuk download httpbit lymyimrg dp</td>\n",
       "      <td>1</td>\n",
       "    </tr>\n",
       "    <tr>\n",
       "      <th>6476</th>\n",
       "      <td>khusus hadir paket hot promo combo baik untuk sgr aktif paket mytelkomsel aplikasi tsel mehotoffer skb</td>\n",
       "      <td>1</td>\n",
       "    </tr>\n",
       "    <tr>\n",
       "      <th>4261</th>\n",
       "      <td>beli kuota im ooredoo bukalapak diskon februari langsung klik httpbukl pkimfeb</td>\n",
       "      <td>1</td>\n",
       "    </tr>\n",
       "    <tr>\n",
       "      <th>2411</th>\n",
       "      <td>selamatanda poin diskon zalora min transaksi ribu masuk kode voucher tselpaxawo situs zalora cowok id informasi zlra cotselpaxx skb</td>\n",
       "      <td>1</td>\n",
       "    </tr>\n",
       "    <tr>\n",
       "      <th>3186</th>\n",
       "      <td>nomor undi pesta hadiah sms banking telkomsel wdgwar menang wisata thailandspd motorspeaker harman kardondllskb informasi tsel mepestahadiahsmsbanking</td>\n",
       "      <td>1</td>\n",
       "    </tr>\n",
       "    <tr>\n",
       "      <th>5462</th>\n",
       "      <td>punya saldo bonus tcash isi pulsa hangus november cek saldo bonus via tcash wallet tsel meget beli pulsa kuota skb tsel memngbyk</td>\n",
       "      <td>1</td>\n",
       "    </tr>\n",
       "    <tr>\n",
       "      <th>416</th>\n",
       "      <td>gratis internetan hg mbak telpon menit sms indosat isiulang mulai ribu daftar ketik gratis kirim gratis isi ulang</td>\n",
       "      <td>1</td>\n",
       "    </tr>\n",
       "    <tr>\n",
       "      <th>7003</th>\n",
       "      <td>nikmat tanding liga top eropa maxstream original series channel pilih tambah biaya maxstream download tsel memaxstream</td>\n",
       "      <td>1</td>\n",
       "    </tr>\n",
       "    <tr>\n",
       "      <th>4323</th>\n",
       "      <td>beli pulsa paket data im ooredoo hemat elevenia agst september informasi httpelv cowgx</td>\n",
       "      <td>1</td>\n",
       "    </tr>\n",
       "  </tbody>\n",
       "</table>\n",
       "</div>"
      ],
      "text/plain": [
       "                                                                                                                                                        Teks  \\\n",
       "2822  spesial diskon rprbbln harga normal ribu telpon sms puas im plus kuota gbgb ketik juli                                                                   \n",
       "6377  free cloud choco nut gr indomaret isi saldo tcash min ribu dapat promonya outlet stok batas sk laku tsel meidmpromo                                      \n",
       "607   selamat nomor pilih mdptkan kejut hadiah langsung care kode menang bch informasi lenkap kunjung situs www hadiahtcare blogspot com                       \n",
       "6949  chatime beli get free lemon series yoghurt lemon juicelemon black tealemon green tea laku hari tukar sms store dekat sk promo                            \n",
       "6755  nomor simcard dapat rupiah juta shopee pin kodebh informasi klik www berkahshopee blogspot cowok id                                                      \n",
       "4133  nomor hangus dapat tambah masa aktif hari cukup isi ulang nominal cek masa aktif                                                                         \n",
       "6363  saldo tcash rupiah dapat registrasi akun tcash cek cara tsel metcashget promo september buru sk laku                                                     \n",
       "479   maaf uang transfer bank xxx an xxx nomor rekening xxx transfer sms terima kasih                                                                          \n",
       "301   promo beli paket flash mulai gb my telkomsel aplikasi extra telpon mnthr buru promo batas sk                                                             \n",
       "4580  selamat datang vietnam hemat paket roaming in telepon indonesiasmsinternet mulai rbandi mytelkomsel aplikasi klik tsel meroam                            \n",
       "5748  sulit cari voucher game molpoints jadi id loh sedia voucher game steamgarenapsngame on kunjung bit lyayopaymol                                           \n",
       "4116  via vallen nada sambung ambil nada santai balas                                                                                                          \n",
       "3435  super murah bebas telpon minta operator jam mulai rupiah aktif simpati kartu as loop skb                                                                 \n",
       "6524  hot promo paket combo baik utkmu rupiah ribu hari gb jam min sms tsel aktivasi outlet dekat skb                                                          \n",
       "3154  yuk ikut teman munculin pesan seru waktu telpon gabung popcall update pesan kreasi suka hubung customer service                                          \n",
       "3104  hemat rprb beli paket internet flash regular gb aplikasi mytelkomsel ayo aktif paket klik httptsel meqi                                                  \n",
       "151   banting harga internetan kuota gb ribu rupiah paket laku bulan ketik sd desember                                                                         \n",
       "3497  hot promo diskon ribu beli all produk mizuno httpsmizuno id tukar poin telkomsel ketik mizuno kirim cek poin skb                                         \n",
       "2900  sempat dapat logam muliabonus pulsa ayo aktif paket data gb telepon jam tsel smshanya ribu hubung httpsbit lyozla skb                                    \n",
       "5564  semarak merdeka paketcash free lays beli nescafe uht harga spesial milo ribu indomaret buru stok batas skb tsel meidmpromo                               \n",
       "6451  telpon rupiah telpon puas berkalikali hari tsel minta allopr program tarif awal hubung                                                                   \n",
       "4238  kuota tip khawatir gratis kuota games gb freefire mobilelegends pubg nih buat myim yuk download httpbit lymyimrg dp                                      \n",
       "6476  khusus hadir paket hot promo combo baik untuk sgr aktif paket mytelkomsel aplikasi tsel mehotoffer skb                                                   \n",
       "4261  beli kuota im ooredoo bukalapak diskon februari langsung klik httpbukl pkimfeb                                                                           \n",
       "2411  selamatanda poin diskon zalora min transaksi ribu masuk kode voucher tselpaxawo situs zalora cowok id informasi zlra cotselpaxx skb                      \n",
       "3186  nomor undi pesta hadiah sms banking telkomsel wdgwar menang wisata thailandspd motorspeaker harman kardondllskb informasi tsel mepestahadiahsmsbanking   \n",
       "5462  punya saldo bonus tcash isi pulsa hangus november cek saldo bonus via tcash wallet tsel meget beli pulsa kuota skb tsel memngbyk                         \n",
       "416   gratis internetan hg mbak telpon menit sms indosat isiulang mulai ribu daftar ketik gratis kirim gratis isi ulang                                        \n",
       "7003  nikmat tanding liga top eropa maxstream original series channel pilih tambah biaya maxstream download tsel memaxstream                                   \n",
       "4323  beli pulsa paket data im ooredoo hemat elevenia agst september informasi httpelv cowgx                                                                   \n",
       "\n",
       "      label  \n",
       "2822  1      \n",
       "6377  1      \n",
       "607   1      \n",
       "6949  1      \n",
       "6755  1      \n",
       "4133  1      \n",
       "6363  1      \n",
       "479   1      \n",
       "301   1      \n",
       "4580  1      \n",
       "5748  1      \n",
       "4116  1      \n",
       "3435  1      \n",
       "6524  1      \n",
       "3154  1      \n",
       "3104  1      \n",
       "151   1      \n",
       "3497  1      \n",
       "2900  1      \n",
       "5564  1      \n",
       "6451  1      \n",
       "4238  1      \n",
       "6476  1      \n",
       "4261  1      \n",
       "2411  1      \n",
       "3186  1      \n",
       "5462  1      \n",
       "416   1      \n",
       "7003  1      \n",
       "4323  1      "
      ]
     },
     "execution_count": 4,
     "metadata": {},
     "output_type": "execute_result"
    }
   ],
   "source": [
    "pd.set_option('display.max_colwidth', -1)\n",
    "\n",
    "print('sample of Spam SMS')\n",
    "df[df.label == 1].sample(30)"
   ]
  },
  {
   "cell_type": "code",
   "execution_count": 5,
   "metadata": {},
   "outputs": [
    {
     "name": "stdout",
     "output_type": "stream",
     "text": [
      "sample of Non-Spam SMS\n"
     ]
    },
    {
     "data": {
      "text/html": [
       "<div>\n",
       "<style scoped>\n",
       "    .dataframe tbody tr th:only-of-type {\n",
       "        vertical-align: middle;\n",
       "    }\n",
       "\n",
       "    .dataframe tbody tr th {\n",
       "        vertical-align: top;\n",
       "    }\n",
       "\n",
       "    .dataframe thead th {\n",
       "        text-align: right;\n",
       "    }\n",
       "</style>\n",
       "<table border=\"1\" class=\"dataframe\">\n",
       "  <thead>\n",
       "    <tr style=\"text-align: right;\">\n",
       "      <th></th>\n",
       "      <th>Teks</th>\n",
       "      <th>label</th>\n",
       "    </tr>\n",
       "  </thead>\n",
       "  <tbody>\n",
       "    <tr>\n",
       "      <th>2185</th>\n",
       "      <td>maaf faishol akun verifikasi terimakasih semangat</td>\n",
       "      <td>0</td>\n",
       "    </tr>\n",
       "    <tr>\n",
       "      <th>6839</th>\n",
       "      <td>paket gb hari akhir pd lanjut kena tarif non paket beli paket murah via mytelkomsel tsel memytsel</td>\n",
       "      <td>0</td>\n",
       "    </tr>\n",
       "    <tr>\n",
       "      <th>3376</th>\n",
       "      <td>pulang hormat sisa kuota flash mbak download mytelkomsel apps httptsel metsel cek kuotabeli paket flash hubung</td>\n",
       "      <td>0</td>\n",
       "    </tr>\n",
       "    <tr>\n",
       "      <th>763</th>\n",
       "      <td>assalamualaikum ibu nama mhsi ilkom baru bimbing skripsi mohon maaf ibu minggu kampus hari ibu terima kasih</td>\n",
       "      <td>0</td>\n",
       "    </tr>\n",
       "    <tr>\n",
       "      <th>89</th>\n",
       "      <td>hormat langgan telkomsel tingkat sistem layan tanggal april pklwib sila aktivasi paket isi pulsa waktu terimakasih</td>\n",
       "      <td>0</td>\n",
       "    </tr>\n",
       "    <tr>\n",
       "      <th>1325</th>\n",
       "      <td>selamat malam mohon isi rsvp httpsgoo glformsryroporaalpw penting final mohon isi pukul malam informasi lanjut harap cek email terimakasih panitia cpc compfest</td>\n",
       "      <td>0</td>\n",
       "    </tr>\n",
       "    <tr>\n",
       "      <th>3697</th>\n",
       "      <td>total isi ulang besar rupiah isi ulang sd rupiah ribu dapat rupiah ribu pulsa tsel hari promo sd desember sk laku</td>\n",
       "      <td>0</td>\n",
       "    </tr>\n",
       "    <tr>\n",
       "      <th>4859</th>\n",
       "      <td>kaka bibi makan abudi adodi</td>\n",
       "      <td>0</td>\n",
       "    </tr>\n",
       "    <tr>\n",
       "      <th>779</th>\n",
       "      <td>baik bapak besok bawa form nilai bapak berkas</td>\n",
       "      <td>0</td>\n",
       "    </tr>\n",
       "    <tr>\n",
       "      <th>1567</th>\n",
       "      <td>nomor rekening dana keluar besar rupiah saldo akhir rupiah berita tari tunai</td>\n",
       "      <td>0</td>\n",
       "    </tr>\n",
       "    <tr>\n",
       "      <th>2200</th>\n",
       "      <td>unggah waktu habis daftar</td>\n",
       "      <td>0</td>\n",
       "    </tr>\n",
       "    <tr>\n",
       "      <th>1551</th>\n",
       "      <td>bni sms banking req vcn rupiah sukses vcncvcvalid thru guna sd ref</td>\n",
       "      <td>0</td>\n",
       "    </tr>\n",
       "    <tr>\n",
       "      <th>3656</th>\n",
       "      <td>pulang hormat sisa kuota flash mbak download mytelkomsel apps httptsel metsel cek kuotabeli paket flash hubung</td>\n",
       "      <td>0</td>\n",
       "    </tr>\n",
       "    <tr>\n",
       "      <th>5220</th>\n",
       "      <td>mohon maaf layan guna aktif kartu kirim data via sms format niknomor ktpnomor kartu keluarga</td>\n",
       "      <td>0</td>\n",
       "    </tr>\n",
       "    <tr>\n",
       "      <th>2208</th>\n",
       "      <td>kde verifkasi flip kakak</td>\n",
       "      <td>0</td>\n",
       "    </tr>\n",
       "    <tr>\n",
       "      <th>4591</th>\n",
       "      <td>milik rahasia password registration goviet asks milik password do not give it anyone milik password</td>\n",
       "      <td>0</td>\n",
       "    </tr>\n",
       "    <tr>\n",
       "      <th>2097</th>\n",
       "      <td>okee</td>\n",
       "      <td>0</td>\n",
       "    </tr>\n",
       "    <tr>\n",
       "      <th>4671</th>\n",
       "      <td>akhir pas stasiun</td>\n",
       "      <td>0</td>\n",
       "    </tr>\n",
       "    <tr>\n",
       "      <th>4388</th>\n",
       "      <td>kode token beli paket situs sila masuk kode token lanjut proses beli</td>\n",
       "      <td>0</td>\n",
       "    </tr>\n",
       "    <tr>\n",
       "      <th>4902</th>\n",
       "      <td>asalamualaikum kaka papah ko gamaen bibi bibi kangen besok bibi kaka baik wass</td>\n",
       "      <td>0</td>\n",
       "    </tr>\n",
       "    <tr>\n",
       "      <th>5768</th>\n",
       "      <td>terima hadiah nsp rindu givirzha nsp biaya hadiah beban nsp balas pesan ketik tuju</td>\n",
       "      <td>0</td>\n",
       "    </tr>\n",
       "    <tr>\n",
       "      <th>984</th>\n",
       "      <td>masak bawa bahan rumah biar irit wkwk</td>\n",
       "      <td>0</td>\n",
       "    </tr>\n",
       "    <tr>\n",
       "      <th>1554</th>\n",
       "      <td>bni sms banking saldo rekening besar rupiah</td>\n",
       "      <td>0</td>\n",
       "    </tr>\n",
       "    <tr>\n",
       "      <th>5216</th>\n",
       "      <td>internetan tarif perkbpemakaian sd rupiah internetan khawatir kuota habis guna paket unlimited beli myim</td>\n",
       "      <td>0</td>\n",
       "    </tr>\n",
       "    <tr>\n",
       "      <th>1244</th>\n",
       "      <td>wisuda hari jumat</td>\n",
       "      <td>0</td>\n",
       "    </tr>\n",
       "    <tr>\n",
       "      <th>1109</th>\n",
       "      <td>pakai kamera nama kamera nama handy cam prodi</td>\n",
       "      <td>0</td>\n",
       "    </tr>\n",
       "    <tr>\n",
       "      <th>2387</th>\n",
       "      <td>abg nnti chat ayah waline yah bangsoalnya takut ayah umak punya pulsa kartu pakai ayah punya pulsaayah punya pulsa</td>\n",
       "      <td>0</td>\n",
       "    </tr>\n",
       "    <tr>\n",
       "      <th>2344</th>\n",
       "      <td>maaf mas tim vivat daftar tim portal icpc baylor edu mohon cek email registrasi poin tim verifikasi akun tim buat portal terimakasih</td>\n",
       "      <td>0</td>\n",
       "    </tr>\n",
       "    <tr>\n",
       "      <th>1168</th>\n",
       "      <td>selisih sesuai janji sbelumhya nilai batas cek hadir jauh habis turun terus</td>\n",
       "      <td>0</td>\n",
       "    </tr>\n",
       "    <tr>\n",
       "      <th>2710</th>\n",
       "      <td>milik google verification kode</td>\n",
       "      <td>0</td>\n",
       "    </tr>\n",
       "  </tbody>\n",
       "</table>\n",
       "</div>"
      ],
      "text/plain": [
       "                                                                                                                                                                 Teks  \\\n",
       "2185  maaf faishol akun verifikasi terimakasih semangat                                                                                                                 \n",
       "6839  paket gb hari akhir pd lanjut kena tarif non paket beli paket murah via mytelkomsel tsel memytsel                                                                 \n",
       "3376  pulang hormat sisa kuota flash mbak download mytelkomsel apps httptsel metsel cek kuotabeli paket flash hubung                                                    \n",
       "763   assalamualaikum ibu nama mhsi ilkom baru bimbing skripsi mohon maaf ibu minggu kampus hari ibu terima kasih                                                       \n",
       "89    hormat langgan telkomsel tingkat sistem layan tanggal april pklwib sila aktivasi paket isi pulsa waktu terimakasih                                                \n",
       "1325  selamat malam mohon isi rsvp httpsgoo glformsryroporaalpw penting final mohon isi pukul malam informasi lanjut harap cek email terimakasih panitia cpc compfest   \n",
       "3697  total isi ulang besar rupiah isi ulang sd rupiah ribu dapat rupiah ribu pulsa tsel hari promo sd desember sk laku                                                 \n",
       "4859  kaka bibi makan abudi adodi                                                                                                                                       \n",
       "779   baik bapak besok bawa form nilai bapak berkas                                                                                                                     \n",
       "1567  nomor rekening dana keluar besar rupiah saldo akhir rupiah berita tari tunai                                                                                      \n",
       "2200  unggah waktu habis daftar                                                                                                                                         \n",
       "1551  bni sms banking req vcn rupiah sukses vcncvcvalid thru guna sd ref                                                                                                \n",
       "3656  pulang hormat sisa kuota flash mbak download mytelkomsel apps httptsel metsel cek kuotabeli paket flash hubung                                                    \n",
       "5220  mohon maaf layan guna aktif kartu kirim data via sms format niknomor ktpnomor kartu keluarga                                                                      \n",
       "2208  kde verifkasi flip kakak                                                                                                                                          \n",
       "4591  milik rahasia password registration goviet asks milik password do not give it anyone milik password                                                               \n",
       "2097  okee                                                                                                                                                              \n",
       "4671  akhir pas stasiun                                                                                                                                                 \n",
       "4388  kode token beli paket situs sila masuk kode token lanjut proses beli                                                                                              \n",
       "4902  asalamualaikum kaka papah ko gamaen bibi bibi kangen besok bibi kaka baik wass                                                                                    \n",
       "5768  terima hadiah nsp rindu givirzha nsp biaya hadiah beban nsp balas pesan ketik tuju                                                                                \n",
       "984   masak bawa bahan rumah biar irit wkwk                                                                                                                             \n",
       "1554  bni sms banking saldo rekening besar rupiah                                                                                                                       \n",
       "5216  internetan tarif perkbpemakaian sd rupiah internetan khawatir kuota habis guna paket unlimited beli myim                                                          \n",
       "1244  wisuda hari jumat                                                                                                                                                 \n",
       "1109  pakai kamera nama kamera nama handy cam prodi                                                                                                                     \n",
       "2387  abg nnti chat ayah waline yah bangsoalnya takut ayah umak punya pulsa kartu pakai ayah punya pulsaayah punya pulsa                                                \n",
       "2344  maaf mas tim vivat daftar tim portal icpc baylor edu mohon cek email registrasi poin tim verifikasi akun tim buat portal terimakasih                              \n",
       "1168  selisih sesuai janji sbelumhya nilai batas cek hadir jauh habis turun terus                                                                                       \n",
       "2710  milik google verification kode                                                                                                                                    \n",
       "\n",
       "      label  \n",
       "2185  0      \n",
       "6839  0      \n",
       "3376  0      \n",
       "763   0      \n",
       "89    0      \n",
       "1325  0      \n",
       "3697  0      \n",
       "4859  0      \n",
       "779   0      \n",
       "1567  0      \n",
       "2200  0      \n",
       "1551  0      \n",
       "3656  0      \n",
       "5220  0      \n",
       "2208  0      \n",
       "4591  0      \n",
       "2097  0      \n",
       "4671  0      \n",
       "4388  0      \n",
       "4902  0      \n",
       "5768  0      \n",
       "984   0      \n",
       "1554  0      \n",
       "5216  0      \n",
       "1244  0      \n",
       "1109  0      \n",
       "2387  0      \n",
       "2344  0      \n",
       "1168  0      \n",
       "2710  0      "
      ]
     },
     "execution_count": 5,
     "metadata": {},
     "output_type": "execute_result"
    }
   ],
   "source": [
    "print('sample of Non-Spam SMS')\n",
    "df[df.label == 0].sample(30)"
   ]
  },
  {
   "cell_type": "markdown",
   "metadata": {},
   "source": [
    "#### Highest word frequencies in each class"
   ]
  },
  {
   "cell_type": "code",
   "execution_count": 6,
   "metadata": {},
   "outputs": [],
   "source": [
    "import matplotlib.pyplot as plt\n",
    "from sklearn.feature_extraction.text import CountVectorizer\n",
    "\n",
    "cv = CountVectorizer()\n",
    "words_count_matrix = cv.fit_transform(df['Teks'])\n",
    "df_count_vect = pd.SparseDataFrame(words_count_matrix, columns=cv.get_feature_names())"
   ]
  },
  {
   "cell_type": "code",
   "execution_count": 7,
   "metadata": {},
   "outputs": [],
   "source": [
    "# non-spam\n",
    "df_non_spam_words = df_count_vect[df.label == 0]\n",
    "non_spam_words_count = df_non_spam_words.sum()\n",
    "indices = np.argsort(non_spam_words_count)[::-1][:20]\n",
    "non_spam_words_count = non_spam_words_count[indices]"
   ]
  },
  {
   "cell_type": "code",
   "execution_count": 8,
   "metadata": {},
   "outputs": [
    {
     "data": {
      "image/png": "[encoded data removed]",
      "text/plain": [
       "<Figure size 432x288 with 1 Axes>"
      ]
     },
     "metadata": {
      "needs_background": "light"
     },
     "output_type": "display_data"
    }
   ],
   "source": [
    "plt.barh(np.arange(len(non_spam_words_count)), non_spam_words_count.values, align='edge', height=0.8)\n",
    "plt.yticks(np.arange(len(non_spam_words_count)) + 0.4, non_spam_words_count.keys())\n",
    "plt.gca().invert_yaxis()\n",
    "plt.show()"
   ]
  },
  {
   "cell_type": "code",
   "execution_count": 9,
   "metadata": {},
   "outputs": [],
   "source": [
    "# spam\n",
    "df_spam_words = df_count_vect[df.label == 1]\n",
    "spam_words_count = df_spam_words.sum()\n",
    "indices = np.argsort(spam_words_count)[::-1][:20]\n",
    "spam_words_count = spam_words_count[indices]"
   ]
  },
  {
   "cell_type": "code",
   "execution_count": 10,
   "metadata": {},
   "outputs": [
    {
     "data": {
      "image/png": "[encoded data removed]",
      "text/plain": [
       "<Figure size 432x288 with 1 Axes>"
      ]
     },
     "metadata": {
      "needs_background": "light"
     },
     "output_type": "display_data"
    }
   ],
   "source": [
    "plt.barh(np.arange(len(spam_words_count)), spam_words_count.values, align='edge', height=0.8)\n",
    "plt.yticks(np.arange(len(spam_words_count)) + 0.4, spam_words_count.keys())\n",
    "plt.gca().invert_yaxis()\n",
    "plt.show()"
   ]
  },
  {
   "cell_type": "markdown",
   "metadata": {},
   "source": [
    "### Get the most and least frequent words"
   ]
  },
  {
   "cell_type": "code",
   "execution_count": 11,
   "metadata": {},
   "outputs": [],
   "source": [
    "all_word_count = df_count_vect[df.label < 2].sum()\n",
    "indices = np.argsort(all_word_count)[::-1][:100]\n",
    "all_word_count = all_word_count[indices]"
   ]
  },
  {
   "cell_type": "code",
   "execution_count": 12,
   "metadata": {},
   "outputs": [
    {
     "data": {
      "image/png": "[encoded data removed]",
      "text/plain": [
       "<Figure size 720x1440 with 1 Axes>"
      ]
     },
     "metadata": {
      "needs_background": "light"
     },
     "output_type": "display_data"
    }
   ],
   "source": [
    "plt.figure(figsize=(10, 20))\n",
    "plt.barh(np.arange(len(all_word_count)), all_word_count.values, align='edge', height=0.8)\n",
    "plt.yticks(np.arange(len(all_word_count)) + 0.4, all_word_count.keys())\n",
    "plt.gca().invert_yaxis()\n",
    "plt.title('top 100 most frequent words')\n",
    "plt.show()"
   ]
  },
  {
   "cell_type": "code",
   "execution_count": 13,
   "metadata": {},
   "outputs": [],
   "source": [
    "all_word_count = df_count_vect[df.label < 2].sum()\n",
    "indices = np.argsort(all_word_count)[:100]\n",
    "all_word_count = all_word_count[indices]"
   ]
  },
  {
   "cell_type": "code",
   "execution_count": 14,
   "metadata": {},
   "outputs": [
    {
     "data": {
      "image/png": "[encoded data removed]",
      "text/plain": [
       "<Figure size 720x1440 with 1 Axes>"
      ]
     },
     "metadata": {
      "needs_background": "light"
     },
     "output_type": "display_data"
    }
   ],
   "source": [
    "plt.figure(figsize=(10, 20))\n",
    "plt.barh(np.arange(len(all_word_count)), all_word_count.values, align='edge', height=0.8)\n",
    "plt.yticks(np.arange(len(all_word_count)) + 0.4, all_word_count.keys())\n",
    "plt.gca().invert_yaxis()\n",
    "plt.title('top 100 least frequent words')\n",
    "plt.show()"
   ]
  },
  {
   "cell_type": "code",
   "execution_count": 15,
   "metadata": {},
   "outputs": [],
   "source": [
    "all_word_count = df_count_vect[df.label < 2].sum()"
   ]
  },
  {
   "cell_type": "code",
   "execution_count": 16,
   "metadata": {},
   "outputs": [],
   "source": [
    "too_common_words = list(filter(lambda w: all_word_count[w] > 1000, all_word_count.keys()))\n",
    "common_words = list(filter(lambda w: all_word_count[w] > 75, all_word_count.keys()))\n",
    "too_rare_words = list(filter(lambda w: all_word_count[w] < 20, all_word_count.keys()))"
   ]
  },
  {
   "cell_type": "code",
   "execution_count": 17,
   "metadata": {},
   "outputs": [
    {
     "data": {
      "text/plain": [
       "233"
      ]
     },
     "execution_count": 17,
     "metadata": {},
     "output_type": "execute_result"
    }
   ],
   "source": [
    "len(common_words)"
   ]
  },
  {
   "cell_type": "code",
   "execution_count": 18,
   "metadata": {},
   "outputs": [
    {
     "data": {
      "text/plain": [
       "8855"
      ]
     },
     "execution_count": 18,
     "metadata": {},
     "output_type": "execute_result"
    }
   ],
   "source": [
    "len(too_rare_words)"
   ]
  },
  {
   "cell_type": "code",
   "execution_count": 19,
   "metadata": {},
   "outputs": [
    {
     "data": {
      "text/plain": [
       "9498"
      ]
     },
     "execution_count": 19,
     "metadata": {},
     "output_type": "execute_result"
    }
   ],
   "source": [
    "len(all_word_count.keys())"
   ]
  },
  {
   "cell_type": "code",
   "execution_count": 20,
   "metadata": {},
   "outputs": [
    {
     "data": {
      "text/plain": [
       "'chickennasiteasoup'"
      ]
     },
     "execution_count": 20,
     "metadata": {},
     "output_type": "execute_result"
    }
   ],
   "source": [
    "too_rare_words[1245]"
   ]
  },
  {
   "cell_type": "markdown",
   "metadata": {},
   "source": [
    "## Feature Extraction"
   ]
  },
  {
   "cell_type": "code",
   "execution_count": 21,
   "metadata": {},
   "outputs": [
    {
     "data": {
      "text/plain": [
       "((5435,), (1812,), (5435,), (1812,))"
      ]
     },
     "execution_count": 21,
     "metadata": {},
     "output_type": "execute_result"
    }
   ],
   "source": [
    "from utils import fair_train_test_split\n",
    "\n",
    "X = df['Teks']\n",
    "y = df['label']\n",
    "\n",
    "X_train, X_test, y_train, y_test = fair_train_test_split(X, y, test_size=0.25)\n",
    "X_train.shape, X_test.shape, y_train.shape, y_test.shape"
   ]
  },
  {
   "cell_type": "markdown",
   "metadata": {},
   "source": [
    "### Bag of Words"
   ]
  },
  {
   "cell_type": "code",
   "execution_count": 22,
   "metadata": {
    "scrolled": true
   },
   "outputs": [
    {
     "data": {
      "text/plain": [
       "(5435, 8116)"
      ]
     },
     "execution_count": 22,
     "metadata": {},
     "output_type": "execute_result"
    }
   ],
   "source": [
    "from sklearn.feature_extraction.text import CountVectorizer\n",
    "\n",
    "cv = CountVectorizer()\n",
    "X_train_cv = cv.fit_transform(X_train)\n",
    "X_train_cv.shape"
   ]
  },
  {
   "cell_type": "markdown",
   "metadata": {},
   "source": [
    "### TF-IDF"
   ]
  },
  {
   "cell_type": "code",
   "execution_count": 23,
   "metadata": {},
   "outputs": [
    {
     "data": {
      "text/plain": [
       "(5435, 8116)"
      ]
     },
     "execution_count": 23,
     "metadata": {},
     "output_type": "execute_result"
    }
   ],
   "source": [
    "from sklearn.feature_extraction.text import TfidfVectorizer\n",
    "\n",
    "tfidf = TfidfVectorizer()\n",
    "X_train_tfidf = tfidf.fit_transform(X_train)\n",
    "X_train_tfidf.shape"
   ]
  },
  {
   "cell_type": "markdown",
   "metadata": {},
   "source": [
    "### Bag of Words and TF-IDF"
   ]
  },
  {
   "cell_type": "code",
   "execution_count": 105,
   "metadata": {},
   "outputs": [],
   "source": [
    "transform_to_tfidf_cv_dataset = lambda tf, cv: csr_matrix(list(map(lambda i: [*tf[i].toarray()[0], *cv[i].toarray()[0]], [i for i in range(tf.shape[0])])))"
   ]
  },
  {
   "cell_type": "code",
   "execution_count": 106,
   "metadata": {
    "scrolled": true
   },
   "outputs": [],
   "source": [
    "X_train_tfidf_cv = transform_to_tfidf_cv_dataset(X_train_tfidf, X_train_cv)"
   ]
  },
  {
   "cell_type": "code",
   "execution_count": 107,
   "metadata": {},
   "outputs": [
    {
     "data": {
      "text/plain": [
       "<5435x16232 sparse matrix of type '<class 'numpy.float64'>'\n",
       "\twith 135172 stored elements in Compressed Sparse Row format>"
      ]
     },
     "execution_count": 107,
     "metadata": {},
     "output_type": "execute_result"
    }
   ],
   "source": [
    "X_train_tfidf_cv"
   ]
  },
  {
   "cell_type": "markdown",
   "metadata": {},
   "source": [
    "### Word Embedding: Word2Vec"
   ]
  },
  {
   "cell_type": "code",
   "execution_count": 24,
   "metadata": {},
   "outputs": [],
   "source": [
    "import gensim\n",
    "from functools import reduce"
   ]
  },
  {
   "cell_type": "code",
   "execution_count": 25,
   "metadata": {},
   "outputs": [],
   "source": [
    "EMBEDDING_SIZE = 10"
   ]
  },
  {
   "cell_type": "code",
   "execution_count": 26,
   "metadata": {},
   "outputs": [],
   "source": [
    "model = gensim.models.Word2Vec(list(map(lambda s: s.split(), X)), min_count=1,  size=EMBEDDING_SIZE)"
   ]
  },
  {
   "cell_type": "code",
   "execution_count": 27,
   "metadata": {},
   "outputs": [
    {
     "data": {
      "text/plain": [
       "[('pertamamubuka', 0.933388888835907),\n",
       " ('lontar', 0.919481098651886),\n",
       " ('venpb', 0.9142366647720337),\n",
       " ('diual', 0.8799387216567993),\n",
       " ('metag', 0.87981778383255),\n",
       " ('httpgojek', 0.8748942613601685),\n",
       " ('nomedrec', 0.8719347715377808),\n",
       " ('pengundiang', 0.8718867897987366),\n",
       " ('dpkt', 0.8665308356285095),\n",
       " ('skripsigemastikkerjaan', 0.8661771416664124)]"
      ]
     },
     "execution_count": 27,
     "metadata": {},
     "output_type": "execute_result"
    }
   ],
   "source": [
    "model.wv.most_similar('adira')"
   ]
  },
  {
   "cell_type": "code",
   "execution_count": 28,
   "metadata": {},
   "outputs": [],
   "source": [
    "sentence_embedding = lambda s: reduce(\n",
    "        lambda v1, v2: v1 + v2, \n",
    "        list(\n",
    "            map(\n",
    "                model.wv.get_vector,\n",
    "                [w for w in set(s.split()) if w not in too_common_words and w not in too_rare_words]\n",
    "            )\n",
    "        ),\n",
    "        np.zeros(EMBEDDING_SIZE)\n",
    "    )"
   ]
  },
  {
   "cell_type": "code",
   "execution_count": 29,
   "metadata": {},
   "outputs": [],
   "source": [
    "transform_to_embedding_dataset = lambda dataset: np.array(list(map(sentence_embedding, dataset)))"
   ]
  },
  {
   "cell_type": "code",
   "execution_count": 30,
   "metadata": {},
   "outputs": [],
   "source": [
    "X_train_embedding = transform_to_embedding_dataset(X_train)"
   ]
  },
  {
   "cell_type": "markdown",
   "metadata": {},
   "source": [
    "### Word Embedding combined with others "
   ]
  },
  {
   "cell_type": "code",
   "execution_count": 92,
   "metadata": {},
   "outputs": [],
   "source": [
    "from scipy.sparse.csr import csr_matrix"
   ]
  },
  {
   "cell_type": "code",
   "execution_count": 93,
   "metadata": {},
   "outputs": [],
   "source": [
    "FW_EMBEDDING_SIZE = 100\n",
    "CONTEXT_WINDOW = 3"
   ]
  },
  {
   "cell_type": "code",
   "execution_count": 94,
   "metadata": {},
   "outputs": [],
   "source": [
    "fw_model = gensim.models.Word2Vec(list(map(lambda s: s.split(), X)), min_count=1, window=CONTEXT_WINDOW, size=FW_EMBEDDING_SIZE)"
   ]
  },
  {
   "cell_type": "code",
   "execution_count": 152,
   "metadata": {},
   "outputs": [],
   "source": [
    "def fw_sentence_embedding(s):\n",
    "    current = np.zeros(FW_EMBEDDING_SIZE)\n",
    "    words = s.split()\n",
    "    fw = [w for w in words if w in too_common_words][:3]\n",
    "    fw = [*fw, *[w for w in words if w in common_words]][:3]\n",
    "    if len(fw) > 0:\n",
    "        for target in fw:\n",
    "            t = words.index(target)\n",
    "            for i in range(1, CONTEXT_WINDOW+1):\n",
    "                if t-i < 0:\n",
    "                    break\n",
    "                current += fw_model.wv.get_vector(words[t-i])\n",
    "            for i in range(1, CONTEXT_WINDOW+1):\n",
    "                if t+i >= len(words):\n",
    "                    break\n",
    "                current += fw_model.wv.get_vector(words[t+i])\n",
    "    return current"
   ]
  },
  {
   "cell_type": "code",
   "execution_count": 153,
   "metadata": {},
   "outputs": [],
   "source": [
    "transform_to_fw_embedding_dataset = lambda dataset: np.array(list(map(fw_sentence_embedding, dataset)))"
   ]
  },
  {
   "cell_type": "code",
   "execution_count": 154,
   "metadata": {},
   "outputs": [],
   "source": [
    "X_train_fw_embedding = transform_to_fw_embedding_dataset(X_train)"
   ]
  },
  {
   "cell_type": "code",
   "execution_count": 155,
   "metadata": {},
   "outputs": [],
   "source": [
    "transform_to_embedding_cv_dataset = lambda embedding, cv: csr_matrix(list(map(lambda i: [*embedding[i], *cv[i].toarray()[0]], [i for i in range(len(embedding))])))"
   ]
  },
  {
   "cell_type": "code",
   "execution_count": 156,
   "metadata": {},
   "outputs": [],
   "source": [
    "transform_to_embedding_tfidf_dataset = transform_to_embedding_cv_dataset"
   ]
  },
  {
   "cell_type": "code",
   "execution_count": 165,
   "metadata": {},
   "outputs": [],
   "source": [
    "transform_to_embedding_tfidf_cv_dataset = lambda embedding, tfidf, cv: csr_matrix(list(map(lambda i: [*embedding[i], *tfidf[i].toarray()[0], *cv[i].toarray()[0]], [i for i in range(len(embedding))])))"
   ]
  },
  {
   "cell_type": "code",
   "execution_count": 157,
   "metadata": {},
   "outputs": [],
   "source": [
    "X_train_embedding_cv = transform_to_embedding_cv_dataset(X_train_fw_embedding, X_train_cv)"
   ]
  },
  {
   "cell_type": "code",
   "execution_count": 158,
   "metadata": {},
   "outputs": [],
   "source": [
    "X_train_embedding_tfidf = transform_to_embedding_tfidf_dataset(X_train_fw_embedding, X_train_tfidf)"
   ]
  },
  {
   "cell_type": "code",
   "execution_count": 169,
   "metadata": {},
   "outputs": [],
   "source": [
    "X_train_embedding_tfidf_cv = transform_to_embedding_tfidf_cv_dataset(X_train_fw_embedding, X_train_tfidf, X_train_cv)"
   ]
  },
  {
   "cell_type": "markdown",
   "metadata": {},
   "source": [
    "## Model Evaluation"
   ]
  },
  {
   "cell_type": "code",
   "execution_count": 41,
   "metadata": {},
   "outputs": [],
   "source": [
    "from sklearn.metrics import classification_report"
   ]
  },
  {
   "cell_type": "code",
   "execution_count": 115,
   "metadata": {},
   "outputs": [],
   "source": [
    "def print_report(report):\n",
    "    print('\\t\\t\\tPrecision\\tRecall\\t\\tF1-Score')\n",
    "    print('Spam:\\t\\t\\t{:.4f}\\t\\t{:.4f}\\t\\t{:.4f}'.format(report['spam']['precision'], report['spam']['recall'], report['spam']['f1-score']))\n",
    "    print('Not Spam:\\t\\t{:.4f}\\t\\t{:.4f}\\t\\t{:.4f}'.format(report['not spam']['precision'], report['not spam']['recall'], report['not spam']['f1-score']))\n",
    "    print('Weighted Average:\\t{:.4f}\\t\\t{:.4f}\\t\\t{:.4f}'.format(\n",
    "        ((report['spam']['precision'] * report['spam']['support']) + (report['not spam']['precision'] * report['not spam']['support']))/(report['spam']['support'] + report['not spam']['support']),\n",
    "        ((report['spam']['recall'] * report['spam']['support']) + (report['not spam']['recall'] * report['not spam']['support']))/(report['spam']['support'] + report['not spam']['support']),\n",
    "        ((report['spam']['f1-score'] * report['spam']['support']) + (report['not spam']['f1-score'] * report['not spam']['support']))/(report['spam']['support'] + report['not spam']['support']),\n",
    "    ))\n",
    "    print('-------------------------------------------------')"
   ]
  },
  {
   "cell_type": "code",
   "execution_count": 122,
   "metadata": {},
   "outputs": [],
   "source": [
    "def evaluate_cv(clf, name):\n",
    "    clf.fit(X_train_cv, y_train)\n",
    "    print(name, 'with Bag of Words')\n",
    "    print_report(classification_report(y_test, clf.predict(cv.transform(X_test)), target_names=['not spam', 'spam'], output_dict=True))"
   ]
  },
  {
   "cell_type": "code",
   "execution_count": 117,
   "metadata": {},
   "outputs": [],
   "source": [
    "def evaluate_tfidf(clf, name):\n",
    "    clf.fit(X_train_tfidf, y_train)\n",
    "    print(name, 'with TF-IDF')\n",
    "    print_report(classification_report(y_test, clf.predict(tfidf.transform(X_test)), target_names=['not spam', 'spam'], output_dict=True))"
   ]
  },
  {
   "cell_type": "code",
   "execution_count": 118,
   "metadata": {},
   "outputs": [],
   "source": [
    "def evaluate_word_embedding(clf, name):\n",
    "    clf.fit(X_train_embedding, y_train)\n",
    "    print(name, 'with Word Embedding')\n",
    "    print_report(classification_report(y_test, clf.predict(transform_to_embedding_dataset(X_test)), target_names=['not spam', 'spam'], output_dict=True))"
   ]
  },
  {
   "cell_type": "code",
   "execution_count": 137,
   "metadata": {},
   "outputs": [],
   "source": [
    "def evaluate_word_embedding_cv(clf, name):\n",
    "    clf.fit(X_train_embedding_cv, y_train)\n",
    "    print(name, 'with Word Embedding and Bag of Words')\n",
    "    print_report(classification_report(\n",
    "        y_test,\n",
    "        clf.predict(\n",
    "            transform_to_embedding_cv_dataset(\n",
    "                transform_to_fw_embedding_dataset(X_test),\n",
    "                cv.transform(X_test)\n",
    "            )\n",
    "        ),\n",
    "        target_names=['not spam', 'spam'],\n",
    "        output_dict=True\n",
    "    ))"
   ]
  },
  {
   "cell_type": "code",
   "execution_count": 173,
   "metadata": {},
   "outputs": [],
   "source": [
    "def evaluate_word_embedding_tfidf(clf, name):\n",
    "    clf.fit(X_train_embedding_tfidf, y_train)\n",
    "    print(name, 'with Word Embedding and TF-IDF')\n",
    "    print_report(classification_report(\n",
    "        y_test,\n",
    "        clf.predict(\n",
    "            transform_to_embedding_tfidf_dataset(\n",
    "                transform_to_fw_embedding_dataset(X_test),\n",
    "                tfidf.transform(X_test)\n",
    "            )\n",
    "        ),\n",
    "        target_names=['not spam', 'spam'],\n",
    "        output_dict=True\n",
    "    ))"
   ]
  },
  {
   "cell_type": "code",
   "execution_count": 123,
   "metadata": {},
   "outputs": [],
   "source": [
    "def evaluate_tfidf_cv(clf, name):\n",
    "    clf.fit(X_train_tfidf_cv, y_train)\n",
    "    print(name, 'with TF-IDF and Bag of Words')\n",
    "    print_report(\n",
    "        classification_report(\n",
    "            y_test,\n",
    "            clf.predict(\n",
    "                transform_to_cv_tfidf_dataset(\n",
    "                    tfidf.transform(X_test),\n",
    "                    cv.transform(X_test)\n",
    "                )\n",
    "            ),\n",
    "            target_names=['not spam', 'spam'],\n",
    "            output_dict=True\n",
    "        )\n",
    "    )"
   ]
  },
  {
   "cell_type": "code",
   "execution_count": 174,
   "metadata": {},
   "outputs": [],
   "source": [
    "def evaluate_word_embedding_tfidf_cv(clf, name):\n",
    "    clf.fit(X_train_embedding_tfidf_cv, y_train)\n",
    "    print(name, 'with Word Embedding, TF-IDF, and Bag of Words')\n",
    "    print_report(classification_report(\n",
    "        y_test,\n",
    "        clf.predict(\n",
    "            transform_to_embedding_tfidf_cv_dataset(\n",
    "                transform_to_fw_embedding_dataset(X_test),\n",
    "                tfidf.transform(X_test),\n",
    "                cv.transform(X_test)\n",
    "            )\n",
    "        ),\n",
    "        target_names=['not spam', 'spam'],\n",
    "        output_dict=True\n",
    "    ))"
   ]
  },
  {
   "cell_type": "code",
   "execution_count": 167,
   "metadata": {},
   "outputs": [],
   "source": [
    "def evaluate(clf, name):\n",
    "    evaluate_cv(clf, name)\n",
    "    evaluate_tfidf(clf, name)\n",
    "    evaluate_tfidf_cv(clf, name)\n",
    "    evaluate_word_embedding(clf, name)\n",
    "    evaluate_word_embedding_cv(clf, name)\n",
    "    evaluate_word_embedding_tfidf(clf, name)\n",
    "    evaluate_word_embedding_tfidf_cv(clf, name)"
   ]
  },
  {
   "cell_type": "code",
   "execution_count": 313,
   "metadata": {},
   "outputs": [
    {
     "name": "stdout",
     "output_type": "stream",
     "text": [
      "Multinomial Naive Bayes with count vectorizer\n",
      ":               precision    recall  f1-score   support\n",
      "\n",
      "    not spam       0.91      0.88      0.90       775\n",
      "        spam       0.92      0.94      0.93      1039\n",
      "\n",
      "   micro avg       0.92      0.92      0.92      1814\n",
      "   macro avg       0.92      0.91      0.91      1814\n",
      "weighted avg       0.92      0.92      0.91      1814\n",
      "\n",
      "Multinomial Naive Bayes with tfidf\n",
      ":               precision    recall  f1-score   support\n",
      "\n",
      "    not spam       0.92      0.84      0.88       775\n",
      "        spam       0.89      0.95      0.92      1039\n",
      "\n",
      "   micro avg       0.90      0.90      0.90      1814\n",
      "   macro avg       0.90      0.89      0.90      1814\n",
      "weighted avg       0.90      0.90      0.90      1814\n",
      "\n"
     ]
    }
   ],
   "source": [
    "from sklearn.naive_bayes import MultinomialNB\n",
    "\n",
    "clf = MultinomialNB().fit(X_train_cv, y_train)\n",
    "print('Multinomial Naive Bayes with count vectorizer\\n:', classification_report(y_test, clf.predict(cv.transform(X_test)), target_names=['not spam', 'spam']))\n",
    "\n",
    "clf = MultinomialNB().fit(X_train_tfidf, y_train)\n",
    "print('Multinomial Naive Bayes with tfidf\\n:', classification_report(y_test, clf.predict(tfidf.transform(X_test)), target_names=['not spam', 'spam']))"
   ]
  },
  {
   "cell_type": "code",
   "execution_count": 175,
   "metadata": {},
   "outputs": [
    {
     "name": "stdout",
     "output_type": "stream",
     "text": [
      "Logistic Regression with Bag of Words\n",
      "\t\t\tPrecision\tRecall\t\tF1-Score\n",
      "Spam:\t\t\t0.9555\t\t0.9297\t\t0.9424\n",
      "Not Spam:\t\t0.9089\t\t0.9418\t\t0.9250\n",
      "Weighted Average:\t0.9356\t\t0.9349\t\t0.9350\n",
      "-------------------------------------------------\n",
      "Logistic Regression with TF-IDF\n",
      "\t\t\tPrecision\tRecall\t\tF1-Score\n",
      "Spam:\t\t\t0.9331\t\t0.9403\t\t0.9367\n",
      "Not Spam:\t\t0.9190\t\t0.9094\t\t0.9142\n",
      "Weighted Average:\t0.9271\t\t0.9272\t\t0.9271\n",
      "-------------------------------------------------\n",
      "Logistic Regression with TF-IDF and Bag of Words\n",
      "\t\t\tPrecision\tRecall\t\tF1-Score\n",
      "Spam:\t\t\t0.9555\t\t0.9307\t\t0.9430\n",
      "Not Spam:\t\t0.9100\t\t0.9418\t\t0.9256\n",
      "Weighted Average:\t0.9361\t\t0.9354\t\t0.9356\n",
      "-------------------------------------------------\n",
      "Logistic Regression with Word Embedding\n",
      "\t\t\tPrecision\tRecall\t\tF1-Score\n",
      "Spam:\t\t\t0.8834\t\t0.8681\t\t0.8757\n",
      "Not Spam:\t\t0.8268\t\t0.8461\t\t0.8363\n",
      "Weighted Average:\t0.8593\t\t0.8587\t\t0.8589\n",
      "-------------------------------------------------\n",
      "Logistic Regression with Word Embedding and Bag of Words\n",
      "\t\t\tPrecision\tRecall\t\tF1-Score\n",
      "Spam:\t\t\t0.9499\t\t0.9297\t\t0.9397\n",
      "Not Spam:\t\t0.9082\t\t0.9340\t\t0.9209\n",
      "Weighted Average:\t0.9321\t\t0.9316\t\t0.9317\n",
      "-------------------------------------------------\n",
      "Logistic Regression with Word Embedding and TF-IDF\n",
      "\t\t\tPrecision\tRecall\t\tF1-Score\n",
      "Spam:\t\t\t0.9230\t\t0.9230\t\t0.9230\n",
      "Not Spam:\t\t0.8965\t\t0.8965\t\t0.8965\n",
      "Weighted Average:\t0.9117\t\t0.9117\t\t0.9117\n",
      "-------------------------------------------------\n",
      "Logistic Regression with Word Embedding, TF-IDF, and Bag of Words\n",
      "\t\t\tPrecision\tRecall\t\tF1-Score\n",
      "Spam:\t\t\t0.9472\t\t0.9317\t\t0.9393\n",
      "Not Spam:\t\t0.9101\t\t0.9301\t\t0.9200\n",
      "Weighted Average:\t0.9314\t\t0.9310\t\t0.9311\n",
      "-------------------------------------------------\n"
     ]
    }
   ],
   "source": [
    "from sklearn.linear_model import LogisticRegression\n",
    "evaluate(LogisticRegression(solver='lbfgs', max_iter=1000), 'Logistic Regression')"
   ]
  },
  {
   "cell_type": "code",
   "execution_count": 176,
   "metadata": {},
   "outputs": [
    {
     "name": "stdout",
     "output_type": "stream",
     "text": [
      "SVM Linear Kernel with Bag of Words\n",
      "\t\t\tPrecision\tRecall\t\tF1-Score\n",
      "Spam:\t\t\t0.9490\t\t0.9307\t\t0.9397\n",
      "Not Spam:\t\t0.9092\t\t0.9327\t\t0.9208\n",
      "Weighted Average:\t0.9320\t\t0.9316\t\t0.9317\n",
      "-------------------------------------------------\n",
      "SVM Linear Kernel with TF-IDF\n",
      "\t\t\tPrecision\tRecall\t\tF1-Score\n",
      "Spam:\t\t\t0.9404\t\t0.9423\t\t0.9413\n",
      "Not Spam:\t\t0.9222\t\t0.9198\t\t0.9210\n",
      "Weighted Average:\t0.9327\t\t0.9327\t\t0.9327\n",
      "-------------------------------------------------\n",
      "SVM Linear Kernel with TF-IDF and Bag of Words\n",
      "\t\t\tPrecision\tRecall\t\tF1-Score\n",
      "Spam:\t\t\t0.9528\t\t0.9317\t\t0.9421\n",
      "Not Spam:\t\t0.9108\t\t0.9379\t\t0.9242\n",
      "Weighted Average:\t0.9349\t\t0.9343\t\t0.9344\n",
      "-------------------------------------------------\n"
     ]
    },
    {
     "name": "stderr",
     "output_type": "stream",
     "text": [
      "C:\\Users\\yerla\\AppData\\Local\\conda\\conda\\envs\\dsa\\lib\\site-packages\\sklearn\\svm\\base.py:931: ConvergenceWarning: Liblinear failed to converge, increase the number of iterations.\n",
      "  \"the number of iterations.\", ConvergenceWarning)\n"
     ]
    },
    {
     "name": "stdout",
     "output_type": "stream",
     "text": [
      "SVM Linear Kernel with Word Embedding\n",
      "\t\t\tPrecision\tRecall\t\tF1-Score\n",
      "Spam:\t\t\t0.8930\t\t0.8595\t\t0.8759\n",
      "Not Spam:\t\t0.8202\t\t0.8616\t\t0.8404\n",
      "Weighted Average:\t0.8619\t\t0.8604\t\t0.8608\n",
      "-------------------------------------------------\n"
     ]
    },
    {
     "name": "stderr",
     "output_type": "stream",
     "text": [
      "C:\\Users\\yerla\\AppData\\Local\\conda\\conda\\envs\\dsa\\lib\\site-packages\\sklearn\\svm\\base.py:931: ConvergenceWarning: Liblinear failed to converge, increase the number of iterations.\n",
      "  \"the number of iterations.\", ConvergenceWarning)\n"
     ]
    },
    {
     "name": "stdout",
     "output_type": "stream",
     "text": [
      "SVM Linear Kernel with Word Embedding and Bag of Words\n",
      "\t\t\tPrecision\tRecall\t\tF1-Score\n",
      "Spam:\t\t\t0.9529\t\t0.9346\t\t0.9436\n",
      "Not Spam:\t\t0.9142\t\t0.9379\t\t0.9259\n",
      "Weighted Average:\t0.9364\t\t0.9360\t\t0.9361\n",
      "-------------------------------------------------\n",
      "SVM Linear Kernel with Word Embedding and TF-IDF\n",
      "\t\t\tPrecision\tRecall\t\tF1-Score\n",
      "Spam:\t\t\t0.9501\t\t0.9355\t\t0.9428\n",
      "Not Spam:\t\t0.9151\t\t0.9340\t\t0.9245\n",
      "Weighted Average:\t0.9352\t\t0.9349\t\t0.9350\n",
      "-------------------------------------------------\n",
      "SVM Linear Kernel with Word Embedding, TF-IDF, and Bag of Words\n",
      "\t\t\tPrecision\tRecall\t\tF1-Score\n",
      "Spam:\t\t\t0.9576\t\t0.9336\t\t0.9454\n",
      "Not Spam:\t\t0.9136\t\t0.9444\t\t0.9288\n",
      "Weighted Average:\t0.9388\t\t0.9382\t\t0.9383\n",
      "-------------------------------------------------\n"
     ]
    }
   ],
   "source": [
    "from sklearn.svm import LinearSVC\n",
    "\n",
    "evaluate(LinearSVC(max_iter=50000), 'SVM Linear Kernel')"
   ]
  },
  {
   "cell_type": "code",
   "execution_count": 177,
   "metadata": {},
   "outputs": [
    {
     "name": "stdout",
     "output_type": "stream",
     "text": [
      "SVM RBF Kernel with Bag of Words\n",
      "\t\t\tPrecision\tRecall\t\tF1-Score\n",
      "Spam:\t\t\t0.9499\t\t0.9480\t\t0.9489\n",
      "Not Spam:\t\t0.9303\t\t0.9327\t\t0.9315\n",
      "Weighted Average:\t0.9415\t\t0.9415\t\t0.9415\n",
      "-------------------------------------------------\n",
      "SVM RBF Kernel with TF-IDF\n",
      "\t\t\tPrecision\tRecall\t\tF1-Score\n",
      "Spam:\t\t\t0.9480\t\t0.9480\t\t0.9480\n",
      "Not Spam:\t\t0.9301\t\t0.9301\t\t0.9301\n",
      "Weighted Average:\t0.9404\t\t0.9404\t\t0.9404\n",
      "-------------------------------------------------\n",
      "SVM RBF Kernel with TF-IDF and Bag of Words\n",
      "\t\t\tPrecision\tRecall\t\tF1-Score\n",
      "Spam:\t\t\t0.9499\t\t0.9480\t\t0.9489\n",
      "Not Spam:\t\t0.9303\t\t0.9327\t\t0.9315\n",
      "Weighted Average:\t0.9415\t\t0.9415\t\t0.9415\n",
      "-------------------------------------------------\n",
      "SVM RBF Kernel with Word Embedding\n",
      "\t\t\tPrecision\tRecall\t\tF1-Score\n",
      "Spam:\t\t\t0.8660\t\t0.8961\t\t0.8808\n",
      "Not Spam:\t\t0.8535\t\t0.8137\t\t0.8331\n",
      "Weighted Average:\t0.8607\t\t0.8609\t\t0.8605\n",
      "-------------------------------------------------\n",
      "SVM RBF Kernel with Word Embedding and Bag of Words\n",
      "\t\t\tPrecision\tRecall\t\tF1-Score\n",
      "Spam:\t\t\t0.8239\t\t0.9143\t\t0.8668\n",
      "Not Spam:\t\t0.8649\t\t0.7374\t\t0.7961\n",
      "Weighted Average:\t0.8414\t\t0.8389\t\t0.8366\n",
      "-------------------------------------------------\n",
      "SVM RBF Kernel with Word Embedding and TF-IDF\n",
      "\t\t\tPrecision\tRecall\t\tF1-Score\n",
      "Spam:\t\t\t0.7915\t\t0.9095\t\t0.8464\n",
      "Not Spam:\t\t0.8479\t\t0.6779\t\t0.7534\n",
      "Weighted Average:\t0.8155\t\t0.8107\t\t0.8067\n",
      "-------------------------------------------------\n",
      "SVM RBF Kernel with Word Embedding, TF-IDF, and Bag of Words\n",
      "\t\t\tPrecision\tRecall\t\tF1-Score\n",
      "Spam:\t\t\t0.8268\t\t0.9143\t\t0.8684\n",
      "Not Spam:\t\t0.8658\t\t0.7426\t\t0.7994\n",
      "Weighted Average:\t0.8434\t\t0.8411\t\t0.8390\n",
      "-------------------------------------------------\n"
     ]
    }
   ],
   "source": [
    "from sklearn.svm import SVC\n",
    "evaluate(SVC(gamma='scale'), 'SVM RBF Kernel')"
   ]
  },
  {
   "cell_type": "code",
   "execution_count": 178,
   "metadata": {},
   "outputs": [
    {
     "name": "stdout",
     "output_type": "stream",
     "text": [
      "SVM Sigmoid Kernel with Bag of Words\n",
      "\t\t\tPrecision\tRecall\t\tF1-Score\n",
      "Spam:\t\t\t0.9169\t\t0.8922\t\t0.9044\n",
      "Not Spam:\t\t0.8602\t\t0.8913\t\t0.8755\n",
      "Weighted Average:\t0.8927\t\t0.8918\t\t0.8921\n",
      "-------------------------------------------------\n",
      "SVM Sigmoid Kernel with TF-IDF\n",
      "\t\t\tPrecision\tRecall\t\tF1-Score\n",
      "Spam:\t\t\t0.9338\t\t0.9365\t\t0.9351\n",
      "Not Spam:\t\t0.9143\t\t0.9107\t\t0.9125\n",
      "Weighted Average:\t0.9255\t\t0.9255\t\t0.9255\n",
      "-------------------------------------------------\n",
      "SVM Sigmoid Kernel with TF-IDF and Bag of Words\n",
      "\t\t\tPrecision\tRecall\t\tF1-Score\n",
      "Spam:\t\t\t0.9178\t\t0.8922\t\t0.9048\n",
      "Not Spam:\t\t0.8603\t\t0.8926\t\t0.8762\n",
      "Weighted Average:\t0.8933\t\t0.8924\t\t0.8926\n",
      "-------------------------------------------------\n",
      "SVM Sigmoid Kernel with Word Embedding\n",
      "\t\t\tPrecision\tRecall\t\tF1-Score\n",
      "Spam:\t\t\t0.6503\t\t0.6747\t\t0.6623\n",
      "Not Spam:\t\t0.5395\t\t0.5123\t\t0.5255\n",
      "Weighted Average:\t0.6030\t\t0.6054\t\t0.6039\n",
      "-------------------------------------------------\n",
      "SVM Sigmoid Kernel with Word Embedding and Bag of Words\n",
      "\t\t\tPrecision\tRecall\t\tF1-Score\n",
      "Spam:\t\t\t0.6218\t\t0.6218\t\t0.6218\n",
      "Not Spam:\t\t0.4916\t\t0.4916\t\t0.4916\n",
      "Weighted Average:\t0.5662\t\t0.5662\t\t0.5662\n",
      "-------------------------------------------------\n",
      "SVM Sigmoid Kernel with Word Embedding and TF-IDF\n",
      "\t\t\tPrecision\tRecall\t\tF1-Score\n",
      "Spam:\t\t\t0.6206\t\t0.6218\t\t0.6212\n",
      "Not Spam:\t\t0.4903\t\t0.4890\t\t0.4896\n",
      "Weighted Average:\t0.5650\t\t0.5651\t\t0.5650\n",
      "-------------------------------------------------\n",
      "SVM Sigmoid Kernel with Word Embedding, TF-IDF, and Bag of Words\n",
      "\t\t\tPrecision\tRecall\t\tF1-Score\n",
      "Spam:\t\t\t0.6218\t\t0.6218\t\t0.6218\n",
      "Not Spam:\t\t0.4916\t\t0.4916\t\t0.4916\n",
      "Weighted Average:\t0.5662\t\t0.5662\t\t0.5662\n",
      "-------------------------------------------------\n"
     ]
    }
   ],
   "source": [
    "from sklearn.svm import SVC\n",
    "\n",
    "evaluate(SVC(gamma='scale', kernel='sigmoid'), 'SVM Sigmoid Kernel')"
   ]
  },
  {
   "cell_type": "code",
   "execution_count": null,
   "metadata": {},
   "outputs": [
    {
     "name": "stdout",
     "output_type": "stream",
     "text": [
      "Random Forest Classifier, N estimators = 400 with Bag of Words\n",
      "\t\t\tPrecision\tRecall\t\tF1-Score\n",
      "Spam:\t\t\t0.9486\t\t0.9423\t\t0.9454\n",
      "Not Spam:\t\t0.9231\t\t0.9314\t\t0.9272\n",
      "Weighted Average:\t0.9377\t\t0.9376\t\t0.9377\n",
      "-------------------------------------------------\n",
      "Random Forest Classifier, N estimators = 400 with TF-IDF\n",
      "\t\t\tPrecision\tRecall\t\tF1-Score\n",
      "Spam:\t\t\t0.9526\t\t0.9471\t\t0.9498\n",
      "Not Spam:\t\t0.9294\t\t0.9366\t\t0.9330\n",
      "Weighted Average:\t0.9427\t\t0.9426\t\t0.9426\n",
      "-------------------------------------------------\n",
      "Random Forest Classifier, N estimators = 400 with TF-IDF and Bag of Words\n",
      "\t\t\tPrecision\tRecall\t\tF1-Score\n",
      "Spam:\t\t\t0.9507\t\t0.9461\t\t0.9484\n",
      "Not Spam:\t\t0.9280\t\t0.9340\t\t0.9310\n",
      "Weighted Average:\t0.9410\t\t0.9409\t\t0.9410\n",
      "-------------------------------------------------\n",
      "Random Forest Classifier, N estimators = 400 with Word Embedding\n",
      "\t\t\tPrecision\tRecall\t\tF1-Score\n",
      "Spam:\t\t\t0.9107\t\t0.9134\t\t0.9121\n",
      "Not Spam:\t\t0.8831\t\t0.8797\t\t0.8814\n",
      "Weighted Average:\t0.8990\t\t0.8990\t\t0.8990\n",
      "-------------------------------------------------\n",
      "Random Forest Classifier, N estimators = 400 with Word Embedding and Bag of Words\n",
      "\t\t\tPrecision\tRecall\t\tF1-Score\n",
      "Spam:\t\t\t0.8957\t\t0.9259\t\t0.9106\n",
      "Not Spam:\t\t0.8957\t\t0.8551\t\t0.8749\n",
      "Weighted Average:\t0.8957\t\t0.8957\t\t0.8954\n",
      "-------------------------------------------------\n",
      "Random Forest Classifier, N estimators = 400 with Word Embedding and TF-IDF\n",
      "\t\t\tPrecision\tRecall\t\tF1-Score\n",
      "Spam:\t\t\t0.8909\t\t0.9278\t\t0.9090\n",
      "Not Spam:\t\t0.8973\t\t0.8473\t\t0.8716\n",
      "Weighted Average:\t0.8936\t\t0.8935\t\t0.8930\n",
      "-------------------------------------------------\n",
      "Random Forest Classifier, N estimators = 400 with Word Embedding, TF-IDF, and Bag of Words\n",
      "\t\t\tPrecision\tRecall\t\tF1-Score\n",
      "Spam:\t\t\t0.9028\t\t0.9297\t\t0.9161\n",
      "Not Spam:\t\t0.9016\t\t0.8655\t\t0.8832\n",
      "Weighted Average:\t0.9023\t\t0.9023\t\t0.9020\n",
      "-------------------------------------------------\n"
     ]
    }
   ],
   "source": [
    "from sklearn.ensemble import RandomForestClassifier\n",
    "\n",
    "evaluate(RandomForestClassifier(n_estimators=400), 'Random Forest Classifier, N estimators = 400')"
   ]
  },
  {
   "cell_type": "code",
   "execution_count": null,
   "metadata": {},
   "outputs": [
    {
     "name": "stdout",
     "output_type": "stream",
     "text": [
      "AdaBoost Classifier, N estimators = 450 with Bag of Words\n",
      "\t\t\tPrecision\tRecall\t\tF1-Score\n",
      "Spam:\t\t\t0.9473\t\t0.9336\t\t0.9404\n",
      "Not Spam:\t\t0.9124\t\t0.9301\t\t0.9212\n",
      "Weighted Average:\t0.9324\t\t0.9321\t\t0.9322\n",
      "-------------------------------------------------\n",
      "AdaBoost Classifier, N estimators = 450 with TF-IDF\n",
      "\t\t\tPrecision\tRecall\t\tF1-Score\n",
      "Spam:\t\t\t0.9393\t\t0.9230\t\t0.9311\n",
      "Not Spam:\t\t0.8989\t\t0.9198\t\t0.9092\n",
      "Weighted Average:\t0.9220\t\t0.9216\t\t0.9217\n",
      "-------------------------------------------------\n",
      "AdaBoost Classifier, N estimators = 450 with TF-IDF and Bag of Words\n",
      "\t\t\tPrecision\tRecall\t\tF1-Score\n",
      "Spam:\t\t\t0.9298\t\t0.9307\t\t0.9303\n",
      "Not Spam:\t\t0.9067\t\t0.9056\t\t0.9061\n",
      "Weighted Average:\t0.9200\t\t0.9200\t\t0.9200\n",
      "-------------------------------------------------\n",
      "AdaBoost Classifier, N estimators = 450 with Word Embedding\n",
      "\t\t\tPrecision\tRecall\t\tF1-Score\n",
      "Spam:\t\t\t0.8970\t\t0.8970\t\t0.8970\n",
      "Not Spam:\t\t0.8616\t\t0.8616\t\t0.8616\n",
      "Weighted Average:\t0.8819\t\t0.8819\t\t0.8819\n",
      "-------------------------------------------------\n",
      "AdaBoost Classifier, N estimators = 450 with Word Embedding and Bag of Words\n",
      "\t\t\tPrecision\tRecall\t\tF1-Score\n",
      "Spam:\t\t\t0.9366\t\t0.9240\t\t0.9302\n",
      "Not Spam:\t\t0.8996\t\t0.9159\t\t0.9077\n",
      "Weighted Average:\t0.9208\t\t0.9205\t\t0.9206\n",
      "-------------------------------------------------\n",
      "AdaBoost Classifier, N estimators = 450 with Word Embedding and TF-IDF\n",
      "\t\t\tPrecision\tRecall\t\tF1-Score\n",
      "Spam:\t\t\t0.9261\t\t0.9288\t\t0.9274\n",
      "Not Spam:\t\t0.9039\t\t0.9004\t\t0.9021\n",
      "Weighted Average:\t0.9166\t\t0.9167\t\t0.9166\n",
      "-------------------------------------------------\n",
      "AdaBoost Classifier, N estimators = 450 with Word Embedding, TF-IDF, and Bag of Words\n",
      "\t\t\tPrecision\tRecall\t\tF1-Score\n",
      "Spam:\t\t\t0.9260\t\t0.9278\t\t0.9269\n",
      "Not Spam:\t\t0.9027\t\t0.9004\t\t0.9016\n",
      "Weighted Average:\t0.9161\t\t0.9161\t\t0.9161\n",
      "-------------------------------------------------\n"
     ]
    }
   ],
   "source": [
    "from sklearn.ensemble import AdaBoostClassifier\n",
    "\n",
    "evaluate(AdaBoostClassifier(n_estimators=450), 'AdaBoost Classifier, N estimators = 450')"
   ]
  },
  {
   "cell_type": "code",
   "execution_count": null,
   "metadata": {},
   "outputs": [
    {
     "name": "stdout",
     "output_type": "stream",
     "text": [
      "Gradient Boosting Classifier, N estimators = 700 with Bag of Words\n",
      "\t\t\tPrecision\tRecall\t\tF1-Score\n",
      "Spam:\t\t\t0.9561\t\t0.9230\t\t0.9393\n",
      "Not Spam:\t\t0.9011\t\t0.9431\t\t0.9216\n",
      "Weighted Average:\t0.9327\t\t0.9316\t\t0.9317\n",
      "-------------------------------------------------\n",
      "Gradient Boosting Classifier, N estimators = 700 with TF-IDF\n",
      "\t\t\tPrecision\tRecall\t\tF1-Score\n",
      "Spam:\t\t\t0.9542\t\t0.9220\t\t0.9378\n",
      "Not Spam:\t\t0.8998\t\t0.9405\t\t0.9197\n",
      "Weighted Average:\t0.9310\t\t0.9299\t\t0.9301\n",
      "-------------------------------------------------\n",
      "Gradient Boosting Classifier, N estimators = 700 with TF-IDF and Bag of Words\n",
      "\t\t\tPrecision\tRecall\t\tF1-Score\n",
      "Spam:\t\t\t0.9572\t\t0.9249\t\t0.9408\n",
      "Not Spam:\t\t0.9035\t\t0.9444\t\t0.9235\n",
      "Weighted Average:\t0.9343\t\t0.9332\t\t0.9334\n",
      "-------------------------------------------------\n",
      "Gradient Boosting Classifier, N estimators = 700 with Word Embedding\n",
      "\t\t\tPrecision\tRecall\t\tF1-Score\n",
      "Spam:\t\t\t0.9051\t\t0.9086\t\t0.9068\n",
      "Not Spam:\t\t0.8765\t\t0.8719\t\t0.8742\n",
      "Weighted Average:\t0.8929\t\t0.8929\t\t0.8929\n",
      "-------------------------------------------------\n",
      "Gradient Boosting Classifier, N estimators = 700 with Word Embedding and Bag of Words\n",
      "\t\t\tPrecision\tRecall\t\tF1-Score\n",
      "Spam:\t\t\t0.9277\t\t0.9384\t\t0.9330\n",
      "Not Spam:\t\t0.9159\t\t0.9017\t\t0.9087\n",
      "Weighted Average:\t0.9227\t\t0.9227\t\t0.9227\n",
      "-------------------------------------------------\n",
      "Gradient Boosting Classifier, N estimators = 700 with Word Embedding and TF-IDF\n",
      "\t\t\tPrecision\tRecall\t\tF1-Score\n",
      "Spam:\t\t\t0.9382\t\t0.9346\t\t0.9364\n",
      "Not Spam:\t\t0.9125\t\t0.9172\t\t0.9148\n",
      "Weighted Average:\t0.9272\t\t0.9272\t\t0.9272\n",
      "-------------------------------------------------\n",
      "Gradient Boosting Classifier, N estimators = 700 with Word Embedding, TF-IDF, and Bag of Words\n"
     ]
    }
   ],
   "source": [
    "from sklearn.ensemble import GradientBoostingClassifier\n",
    "\n",
    "evaluate(GradientBoostingClassifier(n_estimators=700), 'Gradient Boosting Classifier, N estimators = 700')"
   ]
  },
  {
   "cell_type": "code",
   "execution_count": null,
   "metadata": {},
   "outputs": [],
   "source": []
  },
  {
   "cell_type": "code",
   "execution_count": null,
   "metadata": {},
   "outputs": [],
   "source": []
  },
  {
   "cell_type": "code",
   "execution_count": null,
   "metadata": {},
   "outputs": [],
   "source": []
  }
 ],
 "metadata": {
  "kernelspec": {
   "display_name": "Python [conda env:dsa]",
   "language": "python",
   "name": "conda-env-dsa-py"
  },
  "language_info": {
   "codemirror_mode": {
    "name": "ipython",
    "version": 3
   },
   "file_extension": ".py",
   "mimetype": "text/x-python",
   "name": "python",
   "nbconvert_exporter": "python",
   "pygments_lexer": "ipython3",
   "version": "3.6.8"
  }
 },
 "nbformat": 4,
 "nbformat_minor": 2
}
