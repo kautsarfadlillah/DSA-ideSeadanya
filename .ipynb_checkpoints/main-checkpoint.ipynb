{
 "cells": [
  {
   "cell_type": "code",
   "execution_count": 1,
   "metadata": {},
   "outputs": [],
   "source": [
    "import pandas as pd\n",
    "import numpy as np"
   ]
  },
  {
   "cell_type": "code",
   "execution_count": 2,
   "metadata": {},
   "outputs": [
    {
     "data": {
      "text/html": [
       "<div>\n",
       "<style scoped>\n",
       "    .dataframe tbody tr th:only-of-type {\n",
       "        vertical-align: middle;\n",
       "    }\n",
       "\n",
       "    .dataframe tbody tr th {\n",
       "        vertical-align: top;\n",
       "    }\n",
       "\n",
       "    .dataframe thead th {\n",
       "        text-align: right;\n",
       "    }\n",
       "</style>\n",
       "<table border=\"1\" class=\"dataframe\">\n",
       "  <thead>\n",
       "    <tr style=\"text-align: right;\">\n",
       "      <th></th>\n",
       "      <th>Teks</th>\n",
       "      <th>label</th>\n",
       "    </tr>\n",
       "  </thead>\n",
       "  <tbody>\n",
       "    <tr>\n",
       "      <th>0</th>\n",
       "      <td>dek baik</td>\n",
       "      <td>0</td>\n",
       "    </tr>\n",
       "    <tr>\n",
       "      <th>1</th>\n",
       "      <td>ikut seminar inspiratif cara mudah sukses bisn...</td>\n",
       "      <td>1</td>\n",
       "    </tr>\n",
       "    <tr>\n",
       "      <th>2</th>\n",
       "      <td>pilih menang cek rupiah juta kuota flash inter...</td>\n",
       "      <td>1</td>\n",
       "    </tr>\n",
       "    <tr>\n",
       "      <th>3</th>\n",
       "      <td>punya masalah uang cukup jamin bpkb mobil pinj...</td>\n",
       "      <td>1</td>\n",
       "    </tr>\n",
       "    <tr>\n",
       "      <th>4</th>\n",
       "      <td>diskn tgel jkerbet bit lysngroy pasar baik gam...</td>\n",
       "      <td>1</td>\n",
       "    </tr>\n",
       "  </tbody>\n",
       "</table>\n",
       "</div>"
      ],
      "text/plain": [
       "                                                Teks  label\n",
       "0                                           dek baik      0\n",
       "1  ikut seminar inspiratif cara mudah sukses bisn...      1\n",
       "2  pilih menang cek rupiah juta kuota flash inter...      1\n",
       "3  punya masalah uang cukup jamin bpkb mobil pinj...      1\n",
       "4  diskn tgel jkerbet bit lysngroy pasar baik gam...      1"
      ]
     },
     "execution_count": 2,
     "metadata": {},
     "output_type": "execute_result"
    }
   ],
   "source": [
    "df = pd.read_csv('clean_dataset_with_stemming.csv')\n",
    "df.head()"
   ]
  },
  {
   "cell_type": "markdown",
   "metadata": {},
   "source": [
    "## Data Description"
   ]
  },
  {
   "cell_type": "markdown",
   "metadata": {},
   "source": [
    "#### TODO : Add data description (maybe words frequencies in each class)"
   ]
  },
  {
   "cell_type": "markdown",
   "metadata": {},
   "source": [
    "#### Data preview"
   ]
  },
  {
   "cell_type": "code",
   "execution_count": 3,
   "metadata": {},
   "outputs": [
    {
     "name": "stdout",
     "output_type": "stream",
     "text": [
      "SMS\t: 7256 data\n",
      "\n",
      "consist of :\n",
      "- Spam SMS\t: 4156 data\n",
      "- Non-Spam SMS\t: 3100 data\n"
     ]
    }
   ],
   "source": [
    "print('SMS\\t:', df.shape[0], 'data\\n')\n",
    "print('consist of :')\n",
    "print('- Spam SMS\\t:', df[df.label == 1].shape[0], 'data')\n",
    "print('- Non-Spam SMS\\t:', df[df.label == 0].shape[0], 'data')"
   ]
  },
  {
   "cell_type": "code",
   "execution_count": 4,
   "metadata": {},
   "outputs": [
    {
     "name": "stdout",
     "output_type": "stream",
     "text": [
      "sample of Spam SMS\n"
     ]
    },
    {
     "data": {
      "text/html": [
       "<div>\n",
       "<style scoped>\n",
       "    .dataframe tbody tr th:only-of-type {\n",
       "        vertical-align: middle;\n",
       "    }\n",
       "\n",
       "    .dataframe tbody tr th {\n",
       "        vertical-align: top;\n",
       "    }\n",
       "\n",
       "    .dataframe thead th {\n",
       "        text-align: right;\n",
       "    }\n",
       "</style>\n",
       "<table border=\"1\" class=\"dataframe\">\n",
       "  <thead>\n",
       "    <tr style=\"text-align: right;\">\n",
       "      <th></th>\n",
       "      <th>Teks</th>\n",
       "      <th>label</th>\n",
       "    </tr>\n",
       "  </thead>\n",
       "  <tbody>\n",
       "    <tr>\n",
       "      <th>4318</th>\n",
       "      <td>beli pulsa paket data im ooredoo hemat gopulsa september informasi httpbit lygopulsapromo</td>\n",
       "      <td>1</td>\n",
       "    </tr>\n",
       "    <tr>\n",
       "      <th>4101</th>\n",
       "      <td>darurat pulsa beli pulsa sos beli pulsa sos rupiah untuk operator bea jasa rupiah potong isi pulsa balas ya tekan</td>\n",
       "      <td>1</td>\n",
       "    </tr>\n",
       "    <tr>\n",
       "      <th>2588</th>\n",
       "      <td>beli get paket ayamnasi air mineral rupiah pajak tukar sms cfc dekat september stok batas promo</td>\n",
       "      <td>1</td>\n",
       "    </tr>\n",
       "    <tr>\n",
       "      <th>238</th>\n",
       "      <td>hemat langgan paket internet minggu kuota mbak rupiah cara gampang cukup ketik kuota spasi</td>\n",
       "      <td>1</td>\n",
       "    </tr>\n",
       "    <tr>\n",
       "      <th>6230</th>\n",
       "      <td>suka bikin poster siap siap ikut roliposter yuk hadiah oke banget loh tunggu informasi tsel rol</td>\n",
       "      <td>1</td>\n",
       "    </tr>\n",
       "    <tr>\n",
       "      <th>5334</th>\n",
       "      <td>hari akhir promo internetan telpon sms bulan rprb paket combo gbmntsms mytelkomsel klik httptsel mehotoffer sk</td>\n",
       "      <td>1</td>\n",
       "    </tr>\n",
       "    <tr>\n",
       "      <th>6567</th>\n",
       "      <td>belanja googleplay ribu pakai pulsa telkomsel dptkan refining stone ribu gold games legacy of discord promo sd juni skb informasi</td>\n",
       "      <td>1</td>\n",
       "    </tr>\n",
       "    <tr>\n",
       "      <th>3447</th>\n",
       "      <td>hot promo beli produk telkomsel apa beli hp vivo gratis hp promo laku tanggal sd desember grapari margo city skb</td>\n",
       "      <td>1</td>\n",
       "    </tr>\n",
       "    <tr>\n",
       "      <th>2700</th>\n",
       "      <td>libur kurang dana tabung grab mulai mobil sedia waktu punya daftar grabcar</td>\n",
       "      <td>1</td>\n",
       "    </tr>\n",
       "    <tr>\n",
       "      <th>2952</th>\n",
       "      <td>beli get free untuk food storage cutlery set glass thermos tukar sms miniso dekat sk laku promo</td>\n",
       "      <td>1</td>\n",
       "    </tr>\n",
       "  </tbody>\n",
       "</table>\n",
       "</div>"
      ],
      "text/plain": [
       "                                                                                                                                   Teks  \\\n",
       "4318  beli pulsa paket data im ooredoo hemat gopulsa september informasi httpbit lygopulsapromo                                           \n",
       "4101  darurat pulsa beli pulsa sos beli pulsa sos rupiah untuk operator bea jasa rupiah potong isi pulsa balas ya tekan                   \n",
       "2588  beli get paket ayamnasi air mineral rupiah pajak tukar sms cfc dekat september stok batas promo                                     \n",
       "238   hemat langgan paket internet minggu kuota mbak rupiah cara gampang cukup ketik kuota spasi                                          \n",
       "6230  suka bikin poster siap siap ikut roliposter yuk hadiah oke banget loh tunggu informasi tsel rol                                     \n",
       "5334  hari akhir promo internetan telpon sms bulan rprb paket combo gbmntsms mytelkomsel klik httptsel mehotoffer sk                      \n",
       "6567  belanja googleplay ribu pakai pulsa telkomsel dptkan refining stone ribu gold games legacy of discord promo sd juni skb informasi   \n",
       "3447  hot promo beli produk telkomsel apa beli hp vivo gratis hp promo laku tanggal sd desember grapari margo city skb                    \n",
       "2700  libur kurang dana tabung grab mulai mobil sedia waktu punya daftar grabcar                                                          \n",
       "2952  beli get free untuk food storage cutlery set glass thermos tukar sms miniso dekat sk laku promo                                     \n",
       "\n",
       "      label  \n",
       "4318  1      \n",
       "4101  1      \n",
       "2588  1      \n",
       "238   1      \n",
       "6230  1      \n",
       "5334  1      \n",
       "6567  1      \n",
       "3447  1      \n",
       "2700  1      \n",
       "2952  1      "
      ]
     },
     "execution_count": 4,
     "metadata": {},
     "output_type": "execute_result"
    }
   ],
   "source": [
    "pd.set_option('display.max_colwidth', -1)\n",
    "\n",
    "print('sample of Spam SMS')\n",
    "df[df.label == 1].sample(10)"
   ]
  },
  {
   "cell_type": "code",
   "execution_count": 5,
   "metadata": {},
   "outputs": [
    {
     "name": "stdout",
     "output_type": "stream",
     "text": [
      "sample of Non-Spam SMS\n"
     ]
    },
    {
     "data": {
      "text/html": [
       "<div>\n",
       "<style scoped>\n",
       "    .dataframe tbody tr th:only-of-type {\n",
       "        vertical-align: middle;\n",
       "    }\n",
       "\n",
       "    .dataframe tbody tr th {\n",
       "        vertical-align: top;\n",
       "    }\n",
       "\n",
       "    .dataframe thead th {\n",
       "        text-align: right;\n",
       "    }\n",
       "</style>\n",
       "<table border=\"1\" class=\"dataframe\">\n",
       "  <thead>\n",
       "    <tr style=\"text-align: right;\">\n",
       "      <th></th>\n",
       "      <th>Teks</th>\n",
       "      <th>label</th>\n",
       "    </tr>\n",
       "  </thead>\n",
       "  <tbody>\n",
       "    <tr>\n",
       "      <th>2296</th>\n",
       "      <td>ooh tinggal</td>\n",
       "      <td>0</td>\n",
       "    </tr>\n",
       "    <tr>\n",
       "      <th>5818</th>\n",
       "      <td>bni sms banking laku isi ulang pulsa besar rupiah biaya admin rupiah reff</td>\n",
       "      <td>0</td>\n",
       "    </tr>\n",
       "    <tr>\n",
       "      <th>4461</th>\n",
       "      <td>isi voucher regular pd erafone sukses tid</td>\n",
       "      <td>0</td>\n",
       "    </tr>\n",
       "    <tr>\n",
       "      <th>5398</th>\n",
       "      <td>baik samsung smgfzkuxid selesai silah kembali gsi tangerang</td>\n",
       "      <td>0</td>\n",
       "    </tr>\n",
       "    <tr>\n",
       "      <th>4590</th>\n",
       "      <td>milik uber kode</td>\n",
       "      <td>0</td>\n",
       "    </tr>\n",
       "    <tr>\n",
       "      <th>4960</th>\n",
       "      <td>malam materi dasar data science pemrograman untuk contoh soal sedia</td>\n",
       "      <td>0</td>\n",
       "    </tr>\n",
       "    <tr>\n",
       "      <th>1391</th>\n",
       "      <td>ooh ya besok tolong jmput londri ya mpo</td>\n",
       "      <td>0</td>\n",
       "    </tr>\n",
       "    <tr>\n",
       "      <th>4946</th>\n",
       "      <td>tes</td>\n",
       "      <td>0</td>\n",
       "    </tr>\n",
       "    <tr>\n",
       "      <th>4687</th>\n",
       "      <td>hostnic id selamat daftar data login user yerlandinataoutlook com pass mam</td>\n",
       "      <td>0</td>\n",
       "    </tr>\n",
       "    <tr>\n",
       "      <th>3762</th>\n",
       "      <td>movie ticket purchase successful shazam at central park tickets booking kode pass key</td>\n",
       "      <td>0</td>\n",
       "    </tr>\n",
       "  </tbody>\n",
       "</table>\n",
       "</div>"
      ],
      "text/plain": [
       "                                                                                       Teks  \\\n",
       "2296  ooh tinggal                                                                             \n",
       "5818  bni sms banking laku isi ulang pulsa besar rupiah biaya admin rupiah reff               \n",
       "4461  isi voucher regular pd erafone sukses tid                                               \n",
       "5398  baik samsung smgfzkuxid selesai silah kembali gsi tangerang                             \n",
       "4590  milik uber kode                                                                         \n",
       "4960  malam materi dasar data science pemrograman untuk contoh soal sedia                     \n",
       "1391  ooh ya besok tolong jmput londri ya mpo                                                 \n",
       "4946  tes                                                                                     \n",
       "4687  hostnic id selamat daftar data login user yerlandinataoutlook com pass mam              \n",
       "3762  movie ticket purchase successful shazam at central park tickets booking kode pass key   \n",
       "\n",
       "      label  \n",
       "2296  0      \n",
       "5818  0      \n",
       "4461  0      \n",
       "5398  0      \n",
       "4590  0      \n",
       "4960  0      \n",
       "1391  0      \n",
       "4946  0      \n",
       "4687  0      \n",
       "3762  0      "
      ]
     },
     "execution_count": 5,
     "metadata": {},
     "output_type": "execute_result"
    }
   ],
   "source": [
    "print('sample of Non-Spam SMS')\n",
    "df[df.label == 0].sample(10)"
   ]
  },
  {
   "cell_type": "markdown",
   "metadata": {},
   "source": [
    "#### Highest word frequencies in each class"
   ]
  },
  {
   "cell_type": "code",
   "execution_count": 6,
   "metadata": {},
   "outputs": [],
   "source": [
    "import matplotlib.pyplot as plt\n",
    "from sklearn.feature_extraction.text import CountVectorizer\n",
    "\n",
    "cv = CountVectorizer()\n",
    "words_count_matrix = cv.fit_transform(df['Teks'])\n",
    "df_count_vect = pd.SparseDataFrame(words_count_matrix, columns=cv.get_feature_names())"
   ]
  },
  {
   "cell_type": "code",
   "execution_count": 7,
   "metadata": {},
   "outputs": [],
   "source": [
    "# non-spam\n",
    "df_non_spam_words = df_count_vect[df.label == 0]\n",
    "non_spam_words_count = df_non_spam_words.sum()\n",
    "indices = np.argsort(non_spam_words_count)[::-1][:10]\n",
    "non_spam_words_count = non_spam_words_count[indices]"
   ]
  },
  {
   "cell_type": "code",
   "execution_count": 8,
   "metadata": {},
   "outputs": [
    {
     "data": {
      "image/png": "[encoded data removed]",
      "text/plain": [
       "<Figure size 432x288 with 1 Axes>"
      ]
     },
     "metadata": {
      "needs_background": "light"
     },
     "output_type": "display_data"
    }
   ],
   "source": [
    "plt.barh(np.arange(len(non_spam_words_count)), non_spam_words_count.values, align='edge', height=0.8)\n",
    "plt.yticks(np.arange(len(non_spam_words_count)) + 0.4, non_spam_words_count.keys())\n",
    "plt.gca().invert_yaxis()\n",
    "plt.show()"
   ]
  },
  {
   "cell_type": "code",
   "execution_count": 9,
   "metadata": {},
   "outputs": [],
   "source": [
    "# spam\n",
    "df_spam_words = df_count_vect[df.label == 1]\n",
    "spam_words_count = df_spam_words.sum()\n",
    "indices = np.argsort(spam_words_count)[::-1][:10]\n",
    "spam_words_count = spam_words_count[indices]"
   ]
  },
  {
   "cell_type": "code",
   "execution_count": 10,
   "metadata": {},
   "outputs": [
    {
     "data": {
      "image/png": "[encoded data removed]",
      "text/plain": [
       "<Figure size 432x288 with 1 Axes>"
      ]
     },
     "metadata": {
      "needs_background": "light"
     },
     "output_type": "display_data"
    }
   ],
   "source": [
    "plt.barh(np.arange(len(spam_words_count)), spam_words_count.values, align='edge', height=0.8)\n",
    "plt.yticks(np.arange(len(spam_words_count)) + 0.4, spam_words_count.keys())\n",
    "plt.gca().invert_yaxis()\n",
    "plt.show()"
   ]
  },
  {
   "cell_type": "markdown",
   "metadata": {},
   "source": [
    "## Feature Extraction"
   ]
  },
  {
   "cell_type": "markdown",
   "metadata": {},
   "source": [
    "#### TODO: Add more feature extraction"
   ]
  },
  {
   "cell_type": "code",
   "execution_count": 11,
   "metadata": {},
   "outputs": [
    {
     "data": {
      "text/plain": [
       "((5442,), (1814,), (5442,), (1814,))"
      ]
     },
     "execution_count": 11,
     "metadata": {},
     "output_type": "execute_result"
    }
   ],
   "source": [
    "from utils import fair_train_test_split\n",
    "\n",
    "X = df['Teks']\n",
    "y = df['label']\n",
    "\n",
    "X_train, X_test, y_train, y_test = fair_train_test_split(X, y, test_size=0.25)\n",
    "X_train.shape, X_test.shape, y_train.shape, y_test.shape"
   ]
  },
  {
   "cell_type": "code",
   "execution_count": 12,
   "metadata": {},
   "outputs": [
    {
     "data": {
      "text/plain": [
       "(5442, 8114)"
      ]
     },
     "execution_count": 12,
     "metadata": {},
     "output_type": "execute_result"
    }
   ],
   "source": [
    "from sklearn.feature_extraction.text import CountVectorizer\n",
    "\n",
    "cv = CountVectorizer()\n",
    "X_train_cv = cv.fit_transform(X_train)\n",
    "X_train_cv.shape"
   ]
  },
  {
   "cell_type": "code",
   "execution_count": 13,
   "metadata": {},
   "outputs": [
    {
     "data": {
      "text/plain": [
       "(5442, 8114)"
      ]
     },
     "execution_count": 13,
     "metadata": {},
     "output_type": "execute_result"
    }
   ],
   "source": [
    "from sklearn.feature_extraction.text import TfidfVectorizer\n",
    "\n",
    "tfidf = TfidfVectorizer()\n",
    "X_train_tfidf = tfidf.fit_transform(X_train)\n",
    "X_train_tfidf.shape"
   ]
  },
  {
   "cell_type": "markdown",
   "metadata": {},
   "source": [
    "## Model Evaluation"
   ]
  },
  {
   "cell_type": "markdown",
   "metadata": {},
   "source": [
    "#### TODO: Add more Classifier Model and hyperparameter tuning"
   ]
  },
  {
   "cell_type": "code",
   "execution_count": 14,
   "metadata": {},
   "outputs": [
    {
     "name": "stdout",
     "output_type": "stream",
     "text": [
      "Multinomial Naive Bayes with count vectorizer\t: 0.9151047409040793\n",
      "Multinomial Naive Bayes with tfidf\t\t: 0.9013230429988974\n"
     ]
    }
   ],
   "source": [
    "from sklearn.naive_bayes import MultinomialNB\n",
    "\n",
    "clf = MultinomialNB().fit(X_train_cv, y_train)\n",
    "print('Multinomial Naive Bayes with count vectorizer\\t:', clf.score(cv.transform(X_test), y_test))\n",
    "\n",
    "clf = MultinomialNB().fit(X_train_tfidf, y_train)\n",
    "print('Multinomial Naive Bayes with tfidf\\t\\t:', clf.score(tfidf.transform(X_test), y_test))"
   ]
  },
  {
   "cell_type": "code",
   "execution_count": 15,
   "metadata": {},
   "outputs": [
    {
     "name": "stdout",
     "output_type": "stream",
     "text": [
      "Logistic Regression with count vectorizer\t: 0.9366041896361632\n",
      "Logistic Regression with tfidf\t\t\t: 0.9355016538037486\n"
     ]
    },
    {
     "name": "stderr",
     "output_type": "stream",
     "text": [
      "C:\\Users\\yerla\\AppData\\Local\\conda\\conda\\envs\\dsa\\lib\\site-packages\\sklearn\\linear_model\\logistic.py:433: FutureWarning: Default solver will be changed to 'lbfgs' in 0.22. Specify a solver to silence this warning.\n",
      "  FutureWarning)\n"
     ]
    }
   ],
   "source": [
    "from sklearn.linear_model import LogisticRegression\n",
    "\n",
    "clf = LogisticRegression().fit(X_train_cv, y_train)\n",
    "print('Logistic Regression with count vectorizer\\t:', clf.score(cv.transform(X_test), y_test))\n",
    "\n",
    "clf = LogisticRegression().fit(X_train_tfidf, y_train)\n",
    "print('Logistic Regression with tfidf\\t\\t\\t:', clf.score(tfidf.transform(X_test), y_test))"
   ]
  },
  {
   "cell_type": "code",
   "execution_count": 16,
   "metadata": {},
   "outputs": [
    {
     "name": "stdout",
     "output_type": "stream",
     "text": [
      "Linear SVC with count vectorizer\t: 0.9371554575523704\n",
      "Linear SVC with tfidf\t\t\t: 0.9404630650496141\n"
     ]
    },
    {
     "name": "stderr",
     "output_type": "stream",
     "text": [
      "C:\\Users\\yerla\\AppData\\Local\\conda\\conda\\envs\\dsa\\lib\\site-packages\\sklearn\\svm\\base.py:931: ConvergenceWarning: Liblinear failed to converge, increase the number of iterations.\n",
      "  \"the number of iterations.\", ConvergenceWarning)\n"
     ]
    }
   ],
   "source": [
    "from sklearn.svm import LinearSVC\n",
    "\n",
    "clf = LinearSVC().fit(X_train_cv, y_train)\n",
    "print('Linear SVC with count vectorizer\\t:', clf.score(cv.transform(X_test), y_test))\n",
    "\n",
    "clf = LinearSVC().fit(X_train_tfidf, y_train)\n",
    "print('Linear SVC with tfidf\\t\\t\\t:', clf.score(tfidf.transform(X_test), y_test))"
   ]
  },
  {
   "cell_type": "code",
   "execution_count": null,
   "metadata": {},
   "outputs": [],
   "source": []
  }
 ],
 "metadata": {
  "kernelspec": {
   "display_name": "Python [conda env:dsa]",
   "language": "python",
   "name": "conda-env-dsa-py"
  },
  "language_info": {
   "codemirror_mode": {
    "name": "ipython",
    "version": 3
   },
   "file_extension": ".py",
   "mimetype": "text/x-python",
   "name": "python",
   "nbconvert_exporter": "python",
   "pygments_lexer": "ipython3",
   "version": "3.6.8"
  }
 },
 "nbformat": 4,
 "nbformat_minor": 2
}
